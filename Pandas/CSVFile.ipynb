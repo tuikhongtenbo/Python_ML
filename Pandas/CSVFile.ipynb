{
 "cells": [
  {
   "cell_type": "code",
   "execution_count": 1,
   "metadata": {},
   "outputs": [],
   "source": [
    "import pandas as pd"
   ]
  },
  {
   "cell_type": "code",
   "execution_count": 4,
   "metadata": {},
   "outputs": [
    {
     "name": "stdout",
     "output_type": "stream",
     "text": [
      " Volume in drive C is Acer\n",
      " Volume Serial Number is C206-ECC0\n",
      "\n",
      " Directory of c:\\Users\\ply58\\PythonML\\ML_git\\Python_ML\\Pandas\n",
      "\n",
      "02/22/2025  11:39 AM    <DIR>          .\n",
      "02/21/2025  11:41 PM    <DIR>          ..\n",
      "02/21/2025  11:37 PM           747,477 1. Series.ipynb\n",
      "02/22/2025  11:37 AM             6,989 10. ExcelFile.ipynb\n",
      "02/21/2025  11:37 PM           147,241 2. DataFrame.ipynb\n",
      "02/21/2025  11:37 PM           187,507 3. UsefulMethods.ipynb\n",
      "02/21/2025  11:37 PM            55,432 4. MissingData.ipynb\n",
      "02/21/2025  11:37 PM           168,452 5. GroupByOperation.ipynb\n",
      "02/21/2025  11:37 PM            16,424 6. Combining_Concatenation.ipynb\n",
      "02/21/2025  11:37 PM            32,006 7. Combination_Merge.ipynb\n",
      "02/21/2025  11:25 PM             5,674 8. TextMethods.ipynb\n",
      "02/21/2025  11:14 PM            19,819 9. TimeMethods.ipynb\n",
      "02/22/2025  11:39 AM                 0 CSVFile.ipynb\n",
      "02/22/2025  11:28 AM             5,068 example.xlsx\n",
      "02/22/2025  11:27 AM             6,693 ExcelFile.ipynb\n",
      "02/21/2025  11:37 PM            18,125 mpg.csv\n",
      "02/21/2025  11:37 PM                 2 README.md\n",
      "              15 File(s)      1,416,909 bytes\n",
      "               2 Dir(s)  177,097,269,248 bytes free\n"
     ]
    }
   ],
   "source": [
    "ls"
   ]
  },
  {
   "cell_type": "code",
   "execution_count": 5,
   "metadata": {},
   "outputs": [],
   "source": [
    "import os"
   ]
  },
  {
   "cell_type": "code",
   "execution_count": 6,
   "metadata": {},
   "outputs": [
    {
     "data": {
      "text/plain": [
       "'c:\\\\Users\\\\ply58\\\\PythonML\\\\ML_git\\\\Python_ML\\\\Pandas'"
      ]
     },
     "execution_count": 6,
     "metadata": {},
     "output_type": "execute_result"
    }
   ],
   "source": [
    "os.getcwd()"
   ]
  },
  {
   "cell_type": "code",
   "execution_count": null,
   "metadata": {},
   "outputs": [],
   "source": [
    "df = pd.read_csv('C:\\\\Users\\\\ply58\\\\PythonML\\\\UNZIP_FOR_NOTEBOOKS_FINAL\\\\03-Pandas\\\\example.csv', \n",
    "                 index_col=0)"
   ]
  },
  {
   "cell_type": "code",
   "execution_count": 11,
   "metadata": {},
   "outputs": [
    {
     "data": {
      "text/html": [
       "<div>\n",
       "<style scoped>\n",
       "    .dataframe tbody tr th:only-of-type {\n",
       "        vertical-align: middle;\n",
       "    }\n",
       "\n",
       "    .dataframe tbody tr th {\n",
       "        vertical-align: top;\n",
       "    }\n",
       "\n",
       "    .dataframe thead th {\n",
       "        text-align: right;\n",
       "    }\n",
       "</style>\n",
       "<table border=\"1\" class=\"dataframe\">\n",
       "  <thead>\n",
       "    <tr style=\"text-align: right;\">\n",
       "      <th></th>\n",
       "      <th>b</th>\n",
       "      <th>c</th>\n",
       "      <th>d</th>\n",
       "    </tr>\n",
       "    <tr>\n",
       "      <th>a</th>\n",
       "      <th></th>\n",
       "      <th></th>\n",
       "      <th></th>\n",
       "    </tr>\n",
       "  </thead>\n",
       "  <tbody>\n",
       "    <tr>\n",
       "      <th>0</th>\n",
       "      <td>1</td>\n",
       "      <td>2</td>\n",
       "      <td>3</td>\n",
       "    </tr>\n",
       "    <tr>\n",
       "      <th>4</th>\n",
       "      <td>5</td>\n",
       "      <td>6</td>\n",
       "      <td>7</td>\n",
       "    </tr>\n",
       "    <tr>\n",
       "      <th>8</th>\n",
       "      <td>9</td>\n",
       "      <td>10</td>\n",
       "      <td>11</td>\n",
       "    </tr>\n",
       "    <tr>\n",
       "      <th>12</th>\n",
       "      <td>13</td>\n",
       "      <td>14</td>\n",
       "      <td>15</td>\n",
       "    </tr>\n",
       "  </tbody>\n",
       "</table>\n",
       "</div>"
      ],
      "text/plain": [
       "     b   c   d\n",
       "a             \n",
       "0    1   2   3\n",
       "4    5   6   7\n",
       "8    9  10  11\n",
       "12  13  14  15"
      ]
     },
     "execution_count": 11,
     "metadata": {},
     "output_type": "execute_result"
    }
   ],
   "source": [
    "df"
   ]
  },
  {
   "cell_type": "code",
   "execution_count": 14,
   "metadata": {},
   "outputs": [],
   "source": [
    "df.to_csv('new_csv.csv')"
   ]
  },
  {
   "cell_type": "code",
   "execution_count": null,
   "metadata": {},
   "outputs": [],
   "source": []
  }
 ],
 "metadata": {
  "kernelspec": {
   "display_name": "machinelearning",
   "language": "python",
   "name": "python3"
  },
  "language_info": {
   "codemirror_mode": {
    "name": "ipython",
    "version": 3
   },
   "file_extension": ".py",
   "mimetype": "text/x-python",
   "name": "python",
   "nbconvert_exporter": "python",
   "pygments_lexer": "ipython3",
   "version": "3.12.7"
  }
 },
 "nbformat": 4,
 "nbformat_minor": 2
}
