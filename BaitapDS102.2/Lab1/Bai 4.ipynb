{
 "cells": [
  {
   "cell_type": "code",
   "execution_count": 11,
   "metadata": {},
   "outputs": [],
   "source": [
    "from sklearn.model_selection import train_test_split\n",
    "from sklearn.linear_model import LinearRegression\n",
    "from sklearn.metrics import root_mean_squared_error as rmse\n",
    "import numpy as np\n",
    "import pandas as pd"
   ]
  },
  {
   "cell_type": "code",
   "execution_count": 12,
   "metadata": {},
   "outputs": [],
   "source": [
    "data = pd.read_csv('Cleaned.csv')"
   ]
  },
  {
   "cell_type": "code",
   "execution_count": 13,
   "metadata": {},
   "outputs": [],
   "source": [
    "y = data['area']\n",
    "data = data.drop(columns='area')\n",
    "X_train, X_test, y_train, y_test = train_test_split(data, y, train_size=0.8, random_state=1)"
   ]
  },
  {
   "cell_type": "code",
   "execution_count": 14,
   "metadata": {},
   "outputs": [],
   "source": [
    "lr = LinearRegression()\n",
    "lr.fit(X_train, y_train)\n",
    "predictions = lr.predict(X_test)\n",
    "rmse = rmse(y_test, predictions)"
   ]
  },
  {
   "cell_type": "code",
   "execution_count": 19,
   "metadata": {},
   "outputs": [
    {
     "name": "stdout",
     "output_type": "stream",
     "text": [
      "predictions: [  2.73081766   8.23016441  -0.23835589   7.28982812  11.24066679\n",
      "  -0.73143798  17.60441364   4.48107066  12.23617491  19.04821189\n",
      "  12.85137297  -1.41605005   1.57937603   9.18968701  23.29527748\n",
      "   6.10014848  14.01813864  11.41590193  30.88886439   9.06461749\n",
      "  19.03484353  -3.47683122   5.58012283  23.65132044  18.81267067\n",
      "  12.43678513   8.80886255  19.80873337  16.16293359   8.11367271\n",
      "  10.36571869   9.1726915   12.04151084   3.36382084  13.09927157\n",
      "   2.39020002  10.64742904  17.92857243   6.65593732  18.54284468\n",
      "  14.37377251  -4.22526491  21.02311229   5.51066851  20.25322808\n",
      "   7.8777101    3.86689303  15.24009259   5.51078205   6.24726794\n",
      "  32.07629642  23.2068934   22.99011678  22.19630868  24.75081595\n",
      "  17.59841593  10.73114699  17.82104559  19.80172488  10.53448748\n",
      "   6.49461535   5.46443614  27.28669054   7.39733183  11.45212046\n",
      "   2.35537625   5.3244394   11.59246538  22.524914     4.54282362\n",
      "  21.3685409   18.45680222   8.15359193   8.38236022   7.53329549\n",
      " -63.27630377  21.04447208  21.25018577   8.05811145  20.42692022\n",
      "   7.93868488  16.41042244  10.17767751   9.91450813   1.43849717\n",
      "  11.23482468   7.52659343  18.58511936  16.66357059  23.5185395\n",
      "  20.31303328  19.25650594   3.40018737  12.86026194   7.61119422\n",
      "  -0.89485112  18.40770363   6.46295466  12.84021136  15.64131832\n",
      "   4.42657754  18.92374541  18.55117278  10.89606378]\n",
      "----------------------------------------------------------------------------------------------------\n",
      "error: 75.81509393383166\n"
     ]
    }
   ],
   "source": [
    "print(f'predictions: {predictions}')\n",
    "print('-' * 100)\n",
    "print(f'error: {rmse}')"
   ]
  },
  {
   "cell_type": "code",
   "execution_count": null,
   "metadata": {},
   "outputs": [],
   "source": []
  }
 ],
 "metadata": {
  "kernelspec": {
   "display_name": "machinelearning",
   "language": "python",
   "name": "python3"
  },
  "language_info": {
   "codemirror_mode": {
    "name": "ipython",
    "version": 3
   },
   "file_extension": ".py",
   "mimetype": "text/x-python",
   "name": "python",
   "nbconvert_exporter": "python",
   "pygments_lexer": "ipython3",
   "version": "3.12.7"
  }
 },
 "nbformat": 4,
 "nbformat_minor": 2
}
