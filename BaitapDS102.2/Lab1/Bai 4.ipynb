{
 "cells": [
  {
   "cell_type": "code",
   "execution_count": 15,
   "metadata": {},
   "outputs": [],
   "source": [
    "from sklearn.model_selection import train_test_split\n",
    "from sklearn.linear_model import LinearRegression\n",
    "from sklearn.metrics import root_mean_squared_error as rmse\n",
    "import numpy as np\n",
    "import pandas as pd"
   ]
  },
  {
   "cell_type": "code",
   "execution_count": 16,
   "metadata": {},
   "outputs": [],
   "source": [
    "data = pd.read_csv('Cleaned.csv')"
   ]
  },
  {
   "cell_type": "code",
   "execution_count": 17,
   "metadata": {},
   "outputs": [],
   "source": [
    "y = data['area']\n",
    "data = data.drop(columns='area')\n",
    "X_train, X_test, y_train, y_test = train_test_split(data, y, train_size=0.8, random_state=42)"
   ]
  },
  {
   "cell_type": "code",
   "execution_count": 18,
   "metadata": {},
   "outputs": [],
   "source": [
    "lr = LinearRegression()\n",
    "lr.fit(X_train, y_train)\n",
    "predictions = lr.predict(X_test)\n",
    "rmse = rmse(y_test, predictions)"
   ]
  },
  {
   "cell_type": "code",
   "execution_count": 20,
   "metadata": {},
   "outputs": [
    {
     "name": "stdout",
     "output_type": "stream",
     "text": [
      "predictions: [  1.93292345  20.44498827  35.27735513   3.69547204  16.08945912\n",
      "   1.88654426   0.82468268  16.63580994   6.3653218   -0.87068439\n",
      "  16.3559108   14.5100838   20.66692526  -2.2204809    5.34168656\n",
      "   4.71041134  -7.61845728   8.70638838  19.52733775   7.3344225\n",
      "   5.78094653  17.32299843  24.79404489  15.55440302  -2.10212635\n",
      "  25.54886359   6.62598549  31.99973441  17.17712375   7.08910295\n",
      "   6.89132524  20.68178897   4.65800373   7.73988814   6.13294905\n",
      "  25.60716959  12.8283466   12.86429422  10.27407966   0.11813779\n",
      "  30.53897266   3.67327463   6.4392378   11.60258886  22.99310221\n",
      "  24.26188343 -12.58518369  19.3037586   12.89595925  17.05435219\n",
      "   2.86147023  18.99949707  23.01780877   0.71889713  21.02857464\n",
      "   3.93207481   4.21835773  16.21841091  15.66422885  -0.62799307\n",
      "   8.90401142   7.15123518  17.73703757  -6.25064566  19.35353512\n",
      "  17.23310363   3.54284829  29.62519771  18.46185903   1.06537955\n",
      "   1.96807231   5.19857894   3.3605832  -18.17851539  14.14735301\n",
      "   1.15979854   8.52338365  19.83520752  15.85527934   4.67478777\n",
      "   4.65400165   9.24872468  14.81382191  -0.70706616  -1.22167983\n",
      "  -1.92244188   0.32739938  11.25249532  19.05784148   5.99338326\n",
      "  15.46077894   8.65917795  13.31890782   2.41915729   0.20239309\n",
      "  10.4068984    2.95408947  18.22282574  19.87849255  15.07972694\n",
      "  10.07775018  12.61425949   3.02828331  17.78282977]\n",
      "error: 108.43155016763022\n"
     ]
    }
   ],
   "source": [
    "print(f'predictions: {predictions}')\n",
    "print(f'error: {rmse}')"
   ]
  },
  {
   "cell_type": "code",
   "execution_count": null,
   "metadata": {},
   "outputs": [],
   "source": []
  }
 ],
 "metadata": {
  "kernelspec": {
   "display_name": "machinelearning",
   "language": "python",
   "name": "python3"
  },
  "language_info": {
   "codemirror_mode": {
    "name": "ipython",
    "version": 3
   },
   "file_extension": ".py",
   "mimetype": "text/x-python",
   "name": "python",
   "nbconvert_exporter": "python",
   "pygments_lexer": "ipython3",
   "version": "3.12.7"
  }
 },
 "nbformat": 4,
 "nbformat_minor": 2
}
