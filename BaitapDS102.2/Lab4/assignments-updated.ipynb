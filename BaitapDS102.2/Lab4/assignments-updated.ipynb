{
 "cells": [
  {
   "cell_type": "markdown",
   "metadata": {},
   "source": [
    "### Assignment 1 (4 scores):\n",
    "\n",
    "- Generate a toy dataset having $600$ data points, $200$ points of them following the Gaussian distribution $\\mathcal{N}((2, 2), \\Sigma)$, $200$ points of them following the Gaussian distribution $\\mathcal{N}((8, 3), \\Sigma)$, and $200$ points of them following the Gaussian distribution $\\mathcal{N}((3, 6), \\Sigma)$ where $\\Sigma = \n",
    "\\left(\\begin{array}{cc}\n",
    "    1 & 0 \\\\\n",
    "    0 & 1\n",
    "\\end{array}\\right)\n",
    "$.\n",
    "- Use Numpy only to implement the K-means method for finding three clusters from the toy dataset.\n",
    "- Train this K-means with EM method.\n",
    "- Give comments on the effect of intializing centroids randomly to the overall performance of K-means."
   ]
  },
  {
   "cell_type": "markdown",
   "metadata": {},
   "source": [
    "### Assignment 2 (4 scores):\n",
    "- Generate a toy dataset having $50$ points following the Gaussian distribution $\\mathcal{N}((2, 2), \\Sigma)$, $20$ points of them following the Gaussian distribution $\\mathcal{N}((8, 3), \\Sigma)$, and $1000$ points of them following the Gaussian distribution $\\mathcal{N}((3, 6), \\Sigma)$ where $\\Sigma = \n",
    "\\left(\\begin{array}{cc}\n",
    "    1 & 0 \\\\\n",
    "    0 & 1\n",
    "\\end{array}\\right)\n",
    "$.\n",
    "- Use Numpy only to implement the K-means method for finding three clusters from the toy dataset.\n",
    "- Train this K-means with EM method.\n",
    "- Give comments on the effect of different sizes among clusters to the performance of K-means."
   ]
  },
  {
   "cell_type": "markdown",
   "metadata": {},
   "source": [
    "### Assignment 3 (2 scores):\n",
    "\n",
    "- Generate a toy dataset having $600$ data points, $200$ points of them following the Gaussian distribution $\\mathcal{N}((2, 2), \\Sigma_1)$, $200$ points of them following the Gaussian distribution $\\mathcal{N}((8, 3), \\Sigma_1)$, and $200$ points of them following the Gaussian distribution $\\mathcal{N}((3, 6), \\Sigma_2)$ where \n",
    "\n",
    "$$\n",
    "    \\Sigma_1 = \n",
    "    \\left(\\begin{array}{cc}\n",
    "        1 & 0 \\\\\n",
    "        0 & 1\n",
    "    \\end{array}\\right)\n",
    "$$ \n",
    "\n",
    "and\n",
    "\n",
    "$$\n",
    "\\Sigma_2 = \n",
    "    \\left(\\begin{array}{cc}\n",
    "        10 & 0 \\\\\n",
    "        0 & 1\n",
    "    \\end{array}\\right)\n",
    "$$.\n",
    "\n",
    "- Use Numpy only to implement the K-means method for finding three clusters from the toy dataset.\n",
    "- Train this K-means with EM method.\n",
    "- Give comments on the effect of distribution $\\mathcal{N}((3, 6), \\Sigma_2)$ to the performance of K-means."
   ]
  }
 ],
 "metadata": {
  "kernelspec": {
   "display_name": "base",
   "language": "python",
   "name": "python3"
  },
  "language_info": {
   "codemirror_mode": {
    "name": "ipython",
    "version": 3
   },
   "file_extension": ".py",
   "mimetype": "text/x-python",
   "name": "python",
   "nbconvert_exporter": "python",
   "pygments_lexer": "ipython3",
   "version": "3.12.3"
  }
 },
 "nbformat": 4,
 "nbformat_minor": 2
}
