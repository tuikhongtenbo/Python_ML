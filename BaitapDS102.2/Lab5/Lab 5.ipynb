{
  "cells": [
    {
      "cell_type": "code",
      "execution_count": 1,
      "metadata": {
        "colab": {
          "base_uri": "https://localhost:8080/"
        },
        "id": "lsfPyB1OgBqw",
        "outputId": "30ae4772-734d-45a0-ce9c-a43b6d4cda07"
      },
      "outputs": [
        {
          "name": "stdout",
          "output_type": "stream",
          "text": [
            "Mounted at /content/drive\n"
          ]
        }
      ],
      "source": [
        "from google.colab import drive\n",
        "drive.mount('/content/drive')"
      ]
    },
    {
      "cell_type": "code",
      "execution_count": 2,
      "metadata": {
        "id": "8GimfDJPgPB4"
      },
      "outputs": [],
      "source": [
        "import torch\n",
        "from transformers import AutoModel, AutoTokenizer\n",
        "import pandas as pd\n",
        "import numpy as np\n",
        "import matplotlib.pyplot as plt\n",
        "import seaborn as sns\n",
        "from tqdm import tqdm\n",
        "import re\n",
        "from torch.utils.data import DataLoader, TensorDataset\n",
        "from scipy.stats import multivariate_normal"
      ]
    },
    {
      "cell_type": "markdown",
      "metadata": {
        "id": "3eUeM38bVs1-"
      },
      "source": [
        "#Data"
      ]
    },
    {
      "cell_type": "code",
      "execution_count": 3,
      "metadata": {
        "id": "ecMJN9F7XZU-"
      },
      "outputs": [],
      "source": [
        "train = pd.read_json(\"/content/drive/MyDrive/Colab Notebooks/DS102/Lab5/Data/UIT-VSFC-train.json\", encoding=\"utf-8\")\n",
        "dev = pd.read_json(\"/content/drive/MyDrive/Colab Notebooks/DS102/Lab5/Data/UIT-VSFC-dev.json\", encoding=\"utf-8\")\n",
        "test = pd.read_json(\"/content/drive/MyDrive/Colab Notebooks/DS102/Lab5/Data/UIT-VSFC-test.json\", encoding=\"utf-8\")"
      ]
    },
    {
      "cell_type": "code",
      "execution_count": 4,
      "metadata": {
        "colab": {
          "base_uri": "https://localhost:8080/"
        },
        "id": "7rI_HMkDYO4x",
        "outputId": "f980a2e7-b1a0-4177-e516-68c037e45598"
      },
      "outputs": [
        {
          "name": "stdout",
          "output_type": "stream",
          "text": [
            "<class 'pandas.core.frame.DataFrame'>\n",
            "RangeIndex: 11426 entries, 0 to 11425\n",
            "Data columns (total 3 columns):\n",
            " #   Column     Non-Null Count  Dtype \n",
            "---  ------     --------------  ----- \n",
            " 0   sentence   11426 non-null  object\n",
            " 1   sentiment  11426 non-null  object\n",
            " 2   topic      11426 non-null  object\n",
            "dtypes: object(3)\n",
            "memory usage: 267.9+ KB\n",
            "<class 'pandas.core.frame.DataFrame'>\n",
            "RangeIndex: 1583 entries, 0 to 1582\n",
            "Data columns (total 3 columns):\n",
            " #   Column     Non-Null Count  Dtype \n",
            "---  ------     --------------  ----- \n",
            " 0   sentence   1583 non-null   object\n",
            " 1   sentiment  1583 non-null   object\n",
            " 2   topic      1583 non-null   object\n",
            "dtypes: object(3)\n",
            "memory usage: 37.2+ KB\n",
            "<class 'pandas.core.frame.DataFrame'>\n",
            "RangeIndex: 3166 entries, 0 to 3165\n",
            "Data columns (total 3 columns):\n",
            " #   Column     Non-Null Count  Dtype \n",
            "---  ------     --------------  ----- \n",
            " 0   sentence   3166 non-null   object\n",
            " 1   sentiment  3166 non-null   object\n",
            " 2   topic      3166 non-null   object\n",
            "dtypes: object(3)\n",
            "memory usage: 74.3+ KB\n"
          ]
        },
        {
          "data": {
            "text/plain": [
              "(None, None, None)"
            ]
          },
          "execution_count": 4,
          "metadata": {},
          "output_type": "execute_result"
        }
      ],
      "source": [
        "train.info(), dev.info(), test.info()"
      ]
    },
    {
      "cell_type": "code",
      "execution_count": 5,
      "metadata": {
        "id": "Wu5NxvtjhXka"
      },
      "outputs": [],
      "source": [
        "def visualize(data: object, col1: str, col2: str):\n",
        "  fig, ax = plt.subplots(1, 2, figsize=(9, 5), dpi=125)\n",
        "\n",
        "\n",
        "  sns.countplot(ax=ax[0], data=data, x=col1, order=train[col1].value_counts().index, palette='Set2')\n",
        "  ax[0].set_title(f\"Count on {col1}\")\n",
        "  ax[0].set_xlabel(\"Type\")\n",
        "  ax[0].set_ylabel(\"Count\")\n",
        "  ax[0].tick_params(axis='x', rotation=45)\n",
        "\n",
        "  sns.countplot(ax=ax[1], data=data, x=col2, order=data[col2].value_counts().index, palette='Set2')\n",
        "  ax[1].set_title(f\"Count on sentiment {col2}\")\n",
        "  ax[1].set_xlabel(\"Type\")\n",
        "  ax[1].set_ylabel(\"Count\")\n",
        "  ax[1].tick_params(axis='x', rotation=45)\n",
        "\n",
        "  for ax_i in ax:\n",
        "      for p in ax_i.patches:\n",
        "          height = p.get_height()\n",
        "          if height > 0:\n",
        "              ax_i.annotate(f'{int(height)}',\n",
        "                            (p.get_x() + p.get_width() / 2, height + 1),\n",
        "                            ha='center', va='bottom', fontsize=9)"
      ]
    },
    {
      "cell_type": "markdown",
      "metadata": {
        "id": "WgyjP98yar9n"
      },
      "source": [
        "Train"
      ]
    },
    {
      "cell_type": "code",
      "execution_count": 6,
      "metadata": {
        "colab": {
          "base_uri": "https://localhost:8080/",
          "height": 880
        },
        "id": "ANIi30TMiKzp",
        "outputId": "e51ec499-6e89-4a71-e97e-b482dd0e7785"
      },
      "outputs": [
        {
          "name": "stderr",
          "output_type": "stream",
          "text": [
            "<ipython-input-5-8506a5c4b228>:5: FutureWarning: \n",
            "\n",
            "Passing `palette` without assigning `hue` is deprecated and will be removed in v0.14.0. Assign the `x` variable to `hue` and set `legend=False` for the same effect.\n",
            "\n",
            "  sns.countplot(ax=ax[0], data=data, x=col1, order=train[col1].value_counts().index, palette='Set2')\n",
            "<ipython-input-5-8506a5c4b228>:11: FutureWarning: \n",
            "\n",
            "Passing `palette` without assigning `hue` is deprecated and will be removed in v0.14.0. Assign the `x` variable to `hue` and set `legend=False` for the same effect.\n",
            "\n",
            "  sns.countplot(ax=ax[1], data=data, x=col2, order=data[col2].value_counts().index, palette='Set2')\n"
          ]
        },
        {
          "data": {
            "image/png": "[encoded data removed]",
            "text/plain": [
              "<Figure size 1125x625 with 2 Axes>"
            ]
          },
          "metadata": {},
          "output_type": "display_data"
        }
      ],
      "source": [
        "visualize(train, 'topic', 'sentiment')"
      ]
    },
    {
      "cell_type": "markdown",
      "metadata": {
        "id": "dYfReXdjdAFO"
      },
      "source": [
        "Dev"
      ]
    },
    {
      "cell_type": "code",
      "execution_count": 7,
      "metadata": {
        "colab": {
          "base_uri": "https://localhost:8080/",
          "height": 880
        },
        "id": "LS6EKzGxiQ2t",
        "outputId": "cbb57716-7b6f-482b-a262-57e372865b73"
      },
      "outputs": [
        {
          "name": "stderr",
          "output_type": "stream",
          "text": [
            "<ipython-input-5-8506a5c4b228>:5: FutureWarning: \n",
            "\n",
            "Passing `palette` without assigning `hue` is deprecated and will be removed in v0.14.0. Assign the `x` variable to `hue` and set `legend=False` for the same effect.\n",
            "\n",
            "  sns.countplot(ax=ax[0], data=data, x=col1, order=train[col1].value_counts().index, palette='Set2')\n",
            "<ipython-input-5-8506a5c4b228>:11: FutureWarning: \n",
            "\n",
            "Passing `palette` without assigning `hue` is deprecated and will be removed in v0.14.0. Assign the `x` variable to `hue` and set `legend=False` for the same effect.\n",
            "\n",
            "  sns.countplot(ax=ax[1], data=data, x=col2, order=data[col2].value_counts().index, palette='Set2')\n"
          ]
        },
        {
          "data": {
            "image/png": "[encoded data removed]",
            "text/plain": [
              "<Figure size 1125x625 with 2 Axes>"
            ]
          },
          "metadata": {},
          "output_type": "display_data"
        }
      ],
      "source": [
        "visualize(dev, 'topic', 'sentiment')"
      ]
    },
    {
      "cell_type": "markdown",
      "metadata": {
        "id": "kgPODb9adA-j"
      },
      "source": [
        "Test"
      ]
    },
    {
      "cell_type": "code",
      "execution_count": 8,
      "metadata": {
        "colab": {
          "base_uri": "https://localhost:8080/",
          "height": 880
        },
        "id": "IyD0QgzIiRF6",
        "outputId": "d61e8f3c-d496-4bb4-fa9c-705044cd8c34"
      },
      "outputs": [
        {
          "name": "stderr",
          "output_type": "stream",
          "text": [
            "<ipython-input-5-8506a5c4b228>:5: FutureWarning: \n",
            "\n",
            "Passing `palette` without assigning `hue` is deprecated and will be removed in v0.14.0. Assign the `x` variable to `hue` and set `legend=False` for the same effect.\n",
            "\n",
            "  sns.countplot(ax=ax[0], data=data, x=col1, order=train[col1].value_counts().index, palette='Set2')\n",
            "<ipython-input-5-8506a5c4b228>:11: FutureWarning: \n",
            "\n",
            "Passing `palette` without assigning `hue` is deprecated and will be removed in v0.14.0. Assign the `x` variable to `hue` and set `legend=False` for the same effect.\n",
            "\n",
            "  sns.countplot(ax=ax[1], data=data, x=col2, order=data[col2].value_counts().index, palette='Set2')\n"
          ]
        },
        {
          "data": {
            "image/png": "[encoded data removed]",
            "text/plain": [
              "<Figure size 1125x625 with 2 Axes>"
            ]
          },
          "metadata": {},
          "output_type": "display_data"
        }
      ],
      "source": [
        "visualize(test, 'topic', 'sentiment')"
      ]
    },
    {
      "cell_type": "markdown",
      "metadata": {
        "id": "80RjFtGevKJJ"
      },
      "source": [
        "Standardize"
      ]
    },
    {
      "cell_type": "code",
      "execution_count": 9,
      "metadata": {
        "id": "nhJsInEAvJ2T"
      },
      "outputs": [],
      "source": [
        "def clean(text):\n",
        "    text = re.sub(r\"[.,?\\-]\", \"\", text)\n",
        "    text = re.sub(r\"\\s+\", \" \", text)\n",
        "\n",
        "    return text"
      ]
    },
    {
      "cell_type": "code",
      "execution_count": 10,
      "metadata": {
        "id": "weIfBgqJwPsq"
      },
      "outputs": [],
      "source": [
        "train['sentence'] = train['sentence'].apply(clean)\n",
        "dev['sentence'] = dev['sentence'].apply(clean)\n",
        "test['sentence'] = test['sentence'].apply(clean)"
      ]
    },
    {
      "cell_type": "markdown",
      "metadata": {
        "id": "22XOw1ojVdo1"
      },
      "source": [
        "#Loading model\n",
        "\n",
        "Source: https://github.com/VinAIResearch/PhoBERT"
      ]
    },
    {
      "cell_type": "code",
      "execution_count": 11,
      "metadata": {
        "id": "pGEPSOlrirCX"
      },
      "outputs": [],
      "source": [
        "def loading_model():\n",
        "  phobert = AutoModel.from_pretrained(\"vinai/phobert-base\")\n",
        "  tokenizer = AutoTokenizer.from_pretrained(\"vinai/phobert-base\")\n",
        "  return phobert, tokenizer"
      ]
    },
    {
      "cell_type": "code",
      "execution_count": 12,
      "metadata": {
        "colab": {
          "base_uri": "https://localhost:8080/",
          "height": 333,
          "referenced_widgets": [
            "4ae26a0af39745e89a1ef5e9bf109fc6",
            "6da49360d65f40aaaee41c071e2145ca",
            "8bd0c607451f46f3b1903309ff642ea6",
            "57d7945ffb694a928716fc0e180fafbc",
            "24ecb4fb7f914bebac0904d3c713a16b",
            "29a66ef2d7234f2aa93814716a326ee0",
            "0e18282e148742d9ad44375621ef6a31",
            "96237fac363240f89e1091bf3b469084",
            "4e2a98cd70bb4e7bbba756138e947555",
            "7837b5391e444404a0e994e0828df92e",
            "d167c6c75eed4b1b8ba58a7eb617ed86",
            "b890fde048de46ad8c9d8b6a184210a1",
            "4ede311384bc467f936a6b98365466ed",
            "d768e298f681447dba0de1bd4363cf08",
            "ce287e97615a4670a4950b862a962629",
            "33221e0e08814d6a8ba4f40fb110b25d",
            "0fbc7e7a0ff2496699d8b56d4e31c27b",
            "63d43025c8ba4d04879e0e7aa8cc2e5c",
            "2509deae1e3440e4963b743342463c37",
            "ed3a3710648c48e69bb0308a5508a106",
            "10e88dc3126f4d4487b97aa3953f4afe",
            "2acdbf021edb4c71bc30989fefef1d33",
            "853a8c61f4074c8f8785f6c54b00e412",
            "3d65ea09d3334e09ba53ccdcc8a21ce5",
            "1cd542aaa8fa4681ab02941fd9cdb3d7",
            "0310a63ccddf4d3b94b923e4d510f55e",
            "c048c18d5ea64dd3864540e1a8371092",
            "e20e97939bee47b49bef2b410afcd265",
            "2eba967b494d4180928652375f3e1e7f",
            "5d0fb061612345738f2aa954042b1f99",
            "b2fd09b2ae3e4cd8aec957195edf5860",
            "dc6289b401cd49a8abb73f4896774990",
            "d0a4cc358d54435aab7b849a3c0beabc",
            "0bb464080d8b4132bc257eedeec844fc",
            "664a0e2fbe314bc99250744089a92311",
            "cb97f23229e04d64a23e172f8d853631",
            "a82741049a3a4de79a1286b1e2e0f6f2",
            "22e2087d5ab344b2b6453f1eaa1b553d",
            "febecfbabd6c4ce49e8d157f54842933",
            "4bef32d7f5844438abd270479273c66c",
            "f0812b238f3b446d8d557739e3885af5",
            "ca0735564cfb43fba9cd1bb7c26aba70",
            "3f5a80bc2ffa4629b1a374695d260a72",
            "6d3be98d99104ff4a4ccf4da4eaba1b9",
            "c20f197915cf454097d13542ae1872af",
            "9620a6d547ef44b197f4cece0f11d731",
            "999000c4231c4382b97793312d12e4a0",
            "fc08cc392da949c7a86207899775dec8",
            "98c0b6c7693f4777be3d9476dcddbb72",
            "f5d2febff0a545ada3775470f5aa9894",
            "31b6a0c27cb849caa26be43b7988f487",
            "babd7a81409442bab85b4f03523df09b",
            "9f21bc56156c49d8a94ae7fd345eabde",
            "379e47305a0b4a058a9fb499f01d6121",
            "bcbbe8e45d4e42448f3deb64443a05bc",
            "6488da8b70aa4992b8687ac332ccf131",
            "ba8280fbae394830a07d7a55d03560dd",
            "b0c1c7090cdf436db35a11336da18f4f",
            "35331d8a36464aee822db4152ba10d45",
            "a4c62a91c25149929dd1858755d4b4a2",
            "b42dede9e7a64375be9392aa5396e555",
            "3b56d8661f4d4744b03c008528045b77",
            "261e853a3cb64108ba04c783b3f77352",
            "e8e6a8623b5045fd8c3df36692569031",
            "4961101f878949c1886612e27c138c65",
            "7d782432e03e485bb51f73eeb2c21691"
          ]
        },
        "id": "-d7OuFApyj_T",
        "outputId": "d3733e28-a2a6-4e20-af55-486d02fd75a0"
      },
      "outputs": [
        {
          "name": "stderr",
          "output_type": "stream",
          "text": [
            "/usr/local/lib/python3.11/dist-packages/huggingface_hub/utils/_auth.py:94: UserWarning: \n",
            "The secret `HF_TOKEN` does not exist in your Colab secrets.\n",
            "To authenticate with the Hugging Face Hub, create a token in your settings tab (https://huggingface.co/settings/tokens), set it as secret in your Google Colab and restart your session.\n",
            "You will be able to reuse this secret in all of your notebooks.\n",
            "Please note that authentication is recommended but still optional to access public models or datasets.\n",
            "  warnings.warn(\n"
          ]
        },
        {
          "data": {
            "application/vnd.jupyter.widget-view+json": {
              "model_id": "4ae26a0af39745e89a1ef5e9bf109fc6",
              "version_major": 2,
              "version_minor": 0
            },
            "text/plain": [
              "config.json:   0%|          | 0.00/557 [00:00<?, ?B/s]"
            ]
          },
          "metadata": {},
          "output_type": "display_data"
        },
        {
          "data": {
            "application/vnd.jupyter.widget-view+json": {
              "model_id": "b890fde048de46ad8c9d8b6a184210a1",
              "version_major": 2,
              "version_minor": 0
            },
            "text/plain": [
              "pytorch_model.bin:   0%|          | 0.00/543M [00:00<?, ?B/s]"
            ]
          },
          "metadata": {},
          "output_type": "display_data"
        },
        {
          "data": {
            "application/vnd.jupyter.widget-view+json": {
              "model_id": "853a8c61f4074c8f8785f6c54b00e412",
              "version_major": 2,
              "version_minor": 0
            },
            "text/plain": [
              "model.safetensors:   0%|          | 0.00/543M [00:00<?, ?B/s]"
            ]
          },
          "metadata": {},
          "output_type": "display_data"
        },
        {
          "data": {
            "application/vnd.jupyter.widget-view+json": {
              "model_id": "0bb464080d8b4132bc257eedeec844fc",
              "version_major": 2,
              "version_minor": 0
            },
            "text/plain": [
              "vocab.txt:   0%|          | 0.00/895k [00:00<?, ?B/s]"
            ]
          },
          "metadata": {},
          "output_type": "display_data"
        },
        {
          "data": {
            "application/vnd.jupyter.widget-view+json": {
              "model_id": "c20f197915cf454097d13542ae1872af",
              "version_major": 2,
              "version_minor": 0
            },
            "text/plain": [
              "bpe.codes:   0%|          | 0.00/1.14M [00:00<?, ?B/s]"
            ]
          },
          "metadata": {},
          "output_type": "display_data"
        },
        {
          "data": {
            "application/vnd.jupyter.widget-view+json": {
              "model_id": "6488da8b70aa4992b8687ac332ccf131",
              "version_major": 2,
              "version_minor": 0
            },
            "text/plain": [
              "tokenizer.json:   0%|          | 0.00/3.13M [00:00<?, ?B/s]"
            ]
          },
          "metadata": {},
          "output_type": "display_data"
        }
      ],
      "source": [
        "model, tokenizer = loading_model()"
      ]
    },
    {
      "cell_type": "markdown",
      "metadata": {
        "id": "AFa6KgBSl5QK"
      },
      "source": [
        "# Word Segmentation\n",
        "Use VnCoreNLP: https://github.com/vncorenlp/VnCoreNLP\n",
        "\n",
        "Installation: https://viblo.asia/p/bert-roberta-phobert-bertweet-ung-dung-state-of-the-art-pre-trained-model-cho-bai-toan-phan-loai-van-ban-4P856PEWZY3#_phobert-la-gi-the-qua-la-sen-0"
      ]
    },
    {
      "cell_type": "code",
      "execution_count": 13,
      "metadata": {
        "colab": {
          "base_uri": "https://localhost:8080/",
          "height": 295
        },
        "id": "XH_OihYbqGdo",
        "outputId": "f367ef98-c295-4621-9122-e0af259417b2"
      },
      "outputs": [
        {
          "name": "stdout",
          "output_type": "stream",
          "text": [
            "Collecting vncorenlp\n",
            "  Downloading vncorenlp-1.0.3.tar.gz (2.6 MB)\n",
            "\u001b[2K     \u001b[90m━━━━━━━━━━━━━━━━━━━━━━━━━━━━━━━━━━━━━━━━\u001b[0m \u001b[32m2.6/2.6 MB\u001b[0m \u001b[31m8.0 MB/s\u001b[0m eta \u001b[36m0:00:00\u001b[0m\n",
            "\u001b[?25h  Preparing metadata (setup.py) ... \u001b[?25l\u001b[?25hdone\n",
            "Requirement already satisfied: requests in /usr/local/lib/python3.11/dist-packages (from vncorenlp) (2.32.3)\n",
            "Requirement already satisfied: charset-normalizer<4,>=2 in /usr/local/lib/python3.11/dist-packages (from requests->vncorenlp) (3.4.2)\n",
            "Requirement already satisfied: idna<4,>=2.5 in /usr/local/lib/python3.11/dist-packages (from requests->vncorenlp) (3.10)\n",
            "Requirement already satisfied: urllib3<3,>=1.21.1 in /usr/local/lib/python3.11/dist-packages (from requests->vncorenlp) (2.4.0)\n",
            "Requirement already satisfied: certifi>=2017.4.17 in /usr/local/lib/python3.11/dist-packages (from requests->vncorenlp) (2025.4.26)\n",
            "Building wheels for collected packages: vncorenlp\n",
            "  Building wheel for vncorenlp (setup.py) ... \u001b[?25l\u001b[?25hdone\n",
            "  Created wheel for vncorenlp: filename=vncorenlp-1.0.3-py3-none-any.whl size=2645933 sha256=67c58689608c5cb2501c52f71b3f36fdfa9f32b3f9cece3b448c708b26cca206\n",
            "  Stored in directory: /root/.cache/pip/wheels/80/ad/d4/9e1a0939f63331a3898f2a951a368bbf0d69f7b027cae4d66b\n",
            "Successfully built vncorenlp\n",
            "Installing collected packages: vncorenlp\n",
            "Successfully installed vncorenlp-1.0.3\n"
          ]
        }
      ],
      "source": [
        "!pip install vncorenlp"
      ]
    },
    {
      "cell_type": "code",
      "execution_count": 14,
      "metadata": {
        "colab": {
          "base_uri": "https://localhost:8080/"
        },
        "id": "NSEYEsF_ped_",
        "outputId": "5d80d0f7-7767-4e72-b222-709aa1a472ed"
      },
      "outputs": [
        {
          "name": "stdout",
          "output_type": "stream",
          "text": [
            "--2025-05-28 12:25:45--  https://raw.githubusercontent.com/vncorenlp/VnCoreNLP/master/VnCoreNLP-1.1.1.jar\n",
            "Resolving raw.githubusercontent.com (raw.githubusercontent.com)... 185.199.108.133, 185.199.109.133, 185.199.110.133, ...\n",
            "Connecting to raw.githubusercontent.com (raw.githubusercontent.com)|185.199.108.133|:443... connected.\n",
            "HTTP request sent, awaiting response... 200 OK\n",
            "Length: 27412575 (26M) [application/octet-stream]\n",
            "Saving to: ‘/content/drive/MyDrive/Colab Notebooks/DS102/Lab5/VnCoreNLP/VnCoreNLP-1.1.1.jar.1’\n",
            "\n",
            "VnCoreNLP-1.1.1.jar 100%[===================>]  26.14M  48.2MB/s    in 0.5s    \n",
            "\n",
            "2025-05-28 12:25:46 (48.2 MB/s) - ‘/content/drive/MyDrive/Colab Notebooks/DS102/Lab5/VnCoreNLP/VnCoreNLP-1.1.1.jar.1’ saved [27412575/27412575]\n",
            "\n",
            "--2025-05-28 12:25:47--  https://raw.githubusercontent.com/vncorenlp/VnCoreNLP/master/models/wordsegmenter/vi-vocab\n",
            "Resolving raw.githubusercontent.com (raw.githubusercontent.com)... 185.199.109.133, 185.199.108.133, 185.199.110.133, ...\n",
            "Connecting to raw.githubusercontent.com (raw.githubusercontent.com)|185.199.109.133|:443... connected.\n",
            "HTTP request sent, awaiting response... 200 OK\n",
            "Length: 526544 (514K) [application/octet-stream]\n",
            "Saving to: ‘/content/drive/MyDrive/Colab Notebooks/DS102/Lab5/VnCoreNLP/models/wordsegmenter/vi-vocab.1’\n",
            "\n",
            "vi-vocab.1          100%[===================>] 514.20K  --.-KB/s    in 0.03s   \n",
            "\n",
            "2025-05-28 12:25:47 (16.6 MB/s) - ‘/content/drive/MyDrive/Colab Notebooks/DS102/Lab5/VnCoreNLP/models/wordsegmenter/vi-vocab.1’ saved [526544/526544]\n",
            "\n",
            "--2025-05-28 12:25:47--  https://raw.githubusercontent.com/vncorenlp/VnCoreNLP/master/models/wordsegmenter/wordsegmenter.rdr\n",
            "Resolving raw.githubusercontent.com (raw.githubusercontent.com)... 185.199.108.133, 185.199.109.133, 185.199.110.133, ...\n",
            "Connecting to raw.githubusercontent.com (raw.githubusercontent.com)|185.199.108.133|:443... connected.\n",
            "HTTP request sent, awaiting response... 200 OK\n",
            "Length: 128508 (125K) [text/plain]\n",
            "Saving to: ‘/content/drive/MyDrive/Colab Notebooks/DS102/Lab5/VnCoreNLP/models/wordsegmenter/wordsegmenter.rdr.1’\n",
            "\n",
            "wordsegmenter.rdr.1 100%[===================>] 125.50K  --.-KB/s    in 0.01s   \n",
            "\n",
            "2025-05-28 12:25:47 (9.84 MB/s) - ‘/content/drive/MyDrive/Colab Notebooks/DS102/Lab5/VnCoreNLP/models/wordsegmenter/wordsegmenter.rdr.1’ saved [128508/128508]\n",
            "\n"
          ]
        }
      ],
      "source": [
        "!mkdir -p \"/content/drive/MyDrive/Colab Notebooks/DS102/Lab5/VnCoreNLP\"\n",
        "!wget -P \"/content/drive/MyDrive/Colab Notebooks/DS102/Lab5/VnCoreNLP\" https://raw.githubusercontent.com/vncorenlp/VnCoreNLP/master/VnCoreNLP-1.1.1.jar\n",
        "!wget -P \"/content/drive/MyDrive/Colab Notebooks/DS102/Lab5/VnCoreNLP/models/wordsegmenter\" https://raw.githubusercontent.com/vncorenlp/VnCoreNLP/master/models/wordsegmenter/vi-vocab\n",
        "!wget -P \"/content/drive/MyDrive/Colab Notebooks/DS102/Lab5/VnCoreNLP/models/wordsegmenter\" https://raw.githubusercontent.com/vncorenlp/VnCoreNLP/master/models/wordsegmenter/wordsegmenter.rdr"
      ]
    },
    {
      "cell_type": "code",
      "execution_count": 15,
      "metadata": {
        "id": "VXlcCLE0oh3p"
      },
      "outputs": [],
      "source": [
        "from vncorenlp import VnCoreNLP\n",
        "\n",
        "segmenter = VnCoreNLP(\"/content/drive/MyDrive/Colab Notebooks/DS102/Lab5/VnCoreNLP/VnCoreNLP-1.1.1.jar\", annotators=\"wseg\", max_heap_size='-Xmx500m')\n",
        "\n",
        "# text = \"nội dung môn học có phần thiếu trọng tâm , hầu như là chung chung , khái quát khiến sinh viên rất khó nắm được nội dung môn học .\"\n",
        "\n",
        "# word_segmented_text = segmenter.tokenize(text)\n",
        "# print(word_segmented_text)"
      ]
    },
    {
      "cell_type": "code",
      "execution_count": 16,
      "metadata": {
        "id": "GvtTyo8Pn5tn"
      },
      "outputs": [],
      "source": [
        "def segmented_sentence(data, sentence):\n",
        "    segmented = segmenter.tokenize(sentence)\n",
        "    words = [word for sent in segmented for word in sent]\n",
        "\n",
        "    return words\n",
        "\n",
        "def segment_data(data, text):\n",
        "    embeddings = []\n",
        "    for sent in tqdm(data[text]):\n",
        "        vec = segmented_sentence(data, sent)\n",
        "        embeddings.append(vec)\n",
        "\n",
        "    return embeddings"
      ]
    },
    {
      "cell_type": "code",
      "execution_count": 17,
      "metadata": {
        "colab": {
          "base_uri": "https://localhost:8080/"
        },
        "id": "A8i9brCEr91u",
        "outputId": "be753425-9ec6-4429-d710-aae1bd49c96f"
      },
      "outputs": [
        {
          "name": "stderr",
          "output_type": "stream",
          "text": [
            "100%|██████████| 11426/11426 [02:01<00:00, 94.32it/s] \n",
            "100%|██████████| 3166/3166 [00:20<00:00, 157.99it/s]\n",
            "100%|██████████| 1583/1583 [00:06<00:00, 241.98it/s]\n"
          ]
        }
      ],
      "source": [
        "train_seg = segment_data(train, 'sentence')\n",
        "test_seg = segment_data(test, 'sentence')\n",
        "dev_seg = segment_data(dev, 'sentence')"
      ]
    },
    {
      "cell_type": "code",
      "execution_count": 18,
      "metadata": {
        "colab": {
          "base_uri": "https://localhost:8080/"
        },
        "id": "HDZchEhHs48s",
        "outputId": "6c7e43bc-00a1-453c-a5c3-18ec96525ea1"
      },
      "outputs": [
        {
          "data": {
            "text/plain": [
              "['cô_giáo', 'dễ_thương', 'dạy', 'dễ', 'hiểu']"
            ]
          },
          "execution_count": 18,
          "metadata": {},
          "output_type": "execute_result"
        }
      ],
      "source": [
        "train_seg[11110]"
      ]
    },
    {
      "cell_type": "markdown",
      "metadata": {
        "id": "s9-6HRTkxWZQ"
      },
      "source": [
        "# PhoBERT Semantic Extraction"
      ]
    },
    {
      "cell_type": "code",
      "execution_count": 19,
      "metadata": {
        "id": "_Z7dy6jmIuzx"
      },
      "outputs": [],
      "source": [
        "def make_PhoBERT_features(text, batch_size, max_len):\n",
        "    device = torch.device('cuda' if torch.cuda.is_available() else 'cpu')\n",
        "    model.to(device)\n",
        "    model.eval()\n",
        "\n",
        "    all_features = []\n",
        "\n",
        "    for i in range(0, len(text), batch_size):\n",
        "        batch = text[i:i + batch_size]\n",
        "        v_tokenized = []\n",
        "\n",
        "        for i_text in batch:\n",
        "            line = \" \".join(i_text)\n",
        "            encoded = tokenizer.encode(line)\n",
        "            v_tokenized.append(encoded)\n",
        "\n",
        "        # Padding\n",
        "        padded = np.array([\n",
        "            i + [1] * (max_len - len(i)) if len(i) < max_len else i[:max_len]\n",
        "            for i in v_tokenized\n",
        "        ])\n",
        "        attention_mask = np.where(padded == 1, 0, 1)\n",
        "\n",
        "        # Convert to tensor\n",
        "        input_ids = torch.tensor(padded).to(torch.long).to(device)\n",
        "        attention_mask = torch.tensor(attention_mask).to(torch.long).to(device)\n",
        "\n",
        "        # Get CLS embeddings\n",
        "        with torch.no_grad():\n",
        "            outputs = model(input_ids=input_ids, attention_mask=attention_mask)\n",
        "            cls_features = outputs[0][:, 0, :]\n",
        "            all_features.append(cls_features.cpu().numpy())\n",
        "\n",
        "    return np.vstack(all_features)"
      ]
    },
    {
      "cell_type": "code",
      "execution_count": 20,
      "metadata": {
        "colab": {
          "base_uri": "https://localhost:8080/"
        },
        "id": "pKXuGTy_AI9P",
        "outputId": "da016734-4554-424b-c542-ab6e573b9a91"
      },
      "outputs": [
        {
          "name": "stderr",
          "output_type": "stream",
          "text": [
            "Extracting embeddings: 100%|██████████| 358/358 [01:00<00:00,  5.94it/s]\n",
            "Extracting embeddings: 100%|██████████| 99/99 [00:17<00:00,  5.65it/s]\n",
            "Extracting embeddings: 100%|██████████| 50/50 [00:08<00:00,  5.63it/s]\n"
          ]
        }
      ],
      "source": [
        "train_emb = make_PhoBERT_features(train_seg, 32, 100)\n",
        "test_emb = make_PhoBERT_features(test_seg, 32, 100)\n",
        "dev_emb = make_PhoBERT_features(dev_seg, 32, 100)"
      ]
    },
    {
      "cell_type": "markdown",
      "metadata": {
        "id": "70tevXHfCDBs"
      },
      "source": [
        "# GMM"
      ]
    },
    {
      "cell_type": "markdown",
      "metadata": {
        "id": "Hf3DXZ-1Le8u"
      },
      "source": [
        "### Encoding"
      ]
    },
    {
      "cell_type": "code",
      "execution_count": 21,
      "metadata": {
        "id": "JHscRAHlRAib"
      },
      "outputs": [],
      "source": [
        "def label_encode(df):\n",
        "    # Unique labels\n",
        "    topic_labels = df['topic'].unique()\n",
        "    sentiment_labels = df['sentiment'].unique()\n",
        "\n",
        "    # Mapping Dictionary\n",
        "    topic = {label: idx for idx, label in enumerate(topic_labels)}\n",
        "    sentiment = {label: i for i, label in enumerate(sentiment_labels)}\n",
        "\n",
        "    # Encode\n",
        "    topic_encoded = np.array([topic[label] for label in df['topic']])\n",
        "    sentiment_encoded = np.array([sentiment[label] for label in df['sentiment']])\n",
        "\n",
        "    return topic_encoded, sentiment_encoded"
      ]
    },
    {
      "cell_type": "code",
      "execution_count": 22,
      "metadata": {
        "id": "ulcOuKgiRR_T"
      },
      "outputs": [],
      "source": [
        "topic_train, sentiment_train = label_encode(train)\n",
        "topic_test, sentiment_test = label_encode(test)\n",
        "topic_dev, sentiment_dev = label_encode(dev)"
      ]
    },
    {
      "cell_type": "code",
      "execution_count": 23,
      "metadata": {
        "colab": {
          "base_uri": "https://localhost:8080/"
        },
        "id": "nXQG3WUoRwB1",
        "outputId": "4191fac9-f1e1-4e45-8128-c841993477c4"
      },
      "outputs": [
        {
          "data": {
            "text/plain": [
              "(11426, 768)"
            ]
          },
          "execution_count": 23,
          "metadata": {},
          "output_type": "execute_result"
        }
      ],
      "source": [
        "train_emb.shape"
      ]
    },
    {
      "cell_type": "code",
      "execution_count": 24,
      "metadata": {
        "colab": {
          "base_uri": "https://localhost:8080/"
        },
        "id": "npvziJz-R0YH",
        "outputId": "b36e0ab0-4610-4933-e3ed-feebb7f34b83"
      },
      "outputs": [
        {
          "data": {
            "text/plain": [
              "(11426,)"
            ]
          },
          "execution_count": 24,
          "metadata": {},
          "output_type": "execute_result"
        }
      ],
      "source": [
        "topic_train.shape"
      ]
    },
    {
      "cell_type": "code",
      "execution_count": 25,
      "metadata": {
        "id": "GocDoQ5nAQq-"
      },
      "outputs": [],
      "source": [
        "topic_train = topic_train.reshape(-1, 1)\n",
        "topic_dev = topic_dev.reshape(-1, 1)\n",
        "topic_test = topic_test.reshape(-1, 1)\n",
        "\n",
        "X_train = np.concat([train_emb, topic_train], axis=1)\n",
        "X_test = np.concat([test_emb, topic_test], axis=1)\n",
        "X_dev = np.concat([dev_emb, topic_dev], axis=1)\n",
        "\n",
        "y_train = sentiment_train\n",
        "y_test = sentiment_test\n",
        "y_dev = sentiment_dev"
      ]
    },
    {
      "cell_type": "markdown",
      "metadata": {
        "id": "4s6VU6YeZ_Hg"
      },
      "source": [
        "### Model"
      ]
    },
    {
      "cell_type": "code",
      "execution_count": 31,
      "metadata": {
        "id": "BD9Hy-Gehbb-"
      },
      "outputs": [],
      "source": [
        "class GMM:\n",
        "    def __init__(self, k=None, max_iter=None, reg_covar=1e-6):\n",
        "        self.k = k\n",
        "        self.max_iter = max_iter\n",
        "        self.reg_covar = reg_covar\n",
        "\n",
        "    def initialize(self, X):\n",
        "        self.n, self.m = X.shape\n",
        "        self.phi = np.ones(self.k) / self.k\n",
        "        random_rows = np.random.choice(self.n, self.k, replace=False)\n",
        "        self.means_ = np.array([X[i] for i in random_rows])\n",
        "        self.covariances_ = np.array([\n",
        "            np.cov(X.T, bias=True) + self.reg_covar * np.eye(self.m)\n",
        "            for _ in range(self.k)\n",
        "        ])\n",
        "\n",
        "    def predict_proba(self, X):\n",
        "        n = X.shape[0]\n",
        "        log_likelihood = np.zeros((n, self.k))\n",
        "        for i in range(self.k):\n",
        "            diff = X - self.means_[i]\n",
        "            inv_cov = np.linalg.inv(self.covariances_[i])\n",
        "            det_cov = np.linalg.det(self.covariances_[i])\n",
        "            log_det = np.log(det_cov + 1e-10)\n",
        "            exponent = -0.5 * np.sum((diff @ inv_cov) * diff, axis=1)\n",
        "            log_likelihood[:, i] = -0.5 * (self.m * np.log(2 * np.pi) + log_det) + exponent\n",
        "\n",
        "        log_likelihood += np.log(self.phi + 1e-10)\n",
        "        log_likelihood -= np.max(log_likelihood, axis=1, keepdims=True)\n",
        "        proba = np.exp(log_likelihood)\n",
        "        return proba / np.sum(proba, axis=1, keepdims=True)\n",
        "\n",
        "    def e_step(self, X):\n",
        "        self.resp_ = self.predict_proba(X)\n",
        "\n",
        "    def m_step(self, X):\n",
        "        Nk = self.resp_.sum(axis=0)\n",
        "        self.phi = Nk / X.shape[0]\n",
        "\n",
        "        for i in range(self.k):\n",
        "            resp_i = self.resp_[:, i].reshape(-1, 1)\n",
        "            total_resp = Nk[i]\n",
        "            self.means_[i] = (resp_i * X).sum(axis=0) / total_resp\n",
        "            diff = X - self.means_[i]\n",
        "            cov = (resp_i * diff).T @ diff / total_resp\n",
        "            self.covariances_[i] = cov + self.reg_covar * np.eye(self.m)\n",
        "\n",
        "    def fit(self, X, X_dev, y_dev):\n",
        "        self.initialize(X)\n",
        "        for epoch in range(self.max_iter):\n",
        "            self.e_step(X)\n",
        "            self.m_step(X)\n",
        "            y_pred = self.predict(X_dev)\n",
        "            acc = self.compute_accuracy(y_dev, y_pred)\n",
        "            print(f\"Epoch {epoch+1}/{self.max_iter}, Accuracy: {acc:.4f}\")\n",
        "\n",
        "    def predict(self, X):\n",
        "        proba = self.predict_proba(X)\n",
        "        return np.argmax(proba, axis=1)\n",
        "\n",
        "    def compute_accuracy(self, y_true, y_pred):\n",
        "        return np.mean(y_true == y_pred)"
      ]
    },
    {
      "cell_type": "markdown",
      "metadata": {
        "id": "BaBe7HKpb9Vc"
      },
      "source": [
        "### Training"
      ]
    },
    {
      "cell_type": "code",
      "execution_count": 32,
      "metadata": {
        "id": "Oxf-irqLdqoO"
      },
      "outputs": [],
      "source": [
        "def evaluate(model, X, y_true):\n",
        "    y_pred = model.predict(X)\n",
        "    precision = 0\n",
        "    recall = 0\n",
        "    f1_macro = 0\n",
        "\n",
        "    k = model.k\n",
        "    precision = np.zeros(k)\n",
        "    recall = np.zeros(k)\n",
        "    f1 = np.zeros(k)\n",
        "\n",
        "    for i in range(k):\n",
        "        true_positives = np.sum((y_true == i) & (y_pred == i))\n",
        "        false_positives = np.sum((y_true != i) & (y_pred == i))\n",
        "        false_negatives = np.sum((y_true == i) & (y_pred != i))\n",
        "\n",
        "        precision[i] = true_positives / (true_positives + false_positives) if (true_positives + false_positives) > 0 else 0\n",
        "        recall[i] = true_positives / (true_positives + false_negatives) if (true_positives + false_negatives) > 0 else 0\n",
        "        f1[i] = 2 * precision[i] * recall[i] / (precision[i] + recall[i]) if (precision[i] + recall[i]) > 0 else 0\n",
        "\n",
        "    precision = np.mean(precision)\n",
        "    recall = np.mean(recall)\n",
        "    f1_macro = np.mean(f1)\n",
        "\n",
        "    print(f\"Precision = {precision:.4f}\")\n",
        "    print(f\"Recall = {recall:.4f}\")\n",
        "    print(f\"F1 = {f1_macro:.4f}\")"
      ]
    },
    {
      "cell_type": "code",
      "execution_count": 37,
      "metadata": {
        "colab": {
          "base_uri": "https://localhost:8080/"
        },
        "id": "e7fbjjSvdylZ",
        "outputId": "855ab0d7-bcaa-46b2-b6bf-5b0006f5be02"
      },
      "outputs": [
        {
          "name": "stdout",
          "output_type": "stream",
          "text": [
            "Epoch 1/20, Accuracy: 0.5085\n",
            "Epoch 2/20, Accuracy: 0.5085\n",
            "Epoch 3/20, Accuracy: 0.5085\n",
            "Epoch 4/20, Accuracy: 0.5085\n",
            "Epoch 5/20, Accuracy: 0.5085\n",
            "Epoch 6/20, Accuracy: 0.5085\n",
            "Epoch 7/20, Accuracy: 0.5085\n",
            "Epoch 8/20, Accuracy: 0.5085\n",
            "Epoch 9/20, Accuracy: 0.5085\n",
            "Epoch 10/20, Accuracy: 0.5085\n",
            "Epoch 11/20, Accuracy: 0.5085\n",
            "Epoch 12/20, Accuracy: 0.5085\n",
            "Epoch 13/20, Accuracy: 0.5085\n",
            "Epoch 14/20, Accuracy: 0.5085\n",
            "Epoch 15/20, Accuracy: 0.5085\n",
            "Epoch 16/20, Accuracy: 0.5085\n",
            "Epoch 17/20, Accuracy: 0.5085\n",
            "Epoch 18/20, Accuracy: 0.5085\n",
            "Epoch 19/20, Accuracy: 0.5085\n",
            "Epoch 20/20, Accuracy: 0.5085\n"
          ]
        }
      ],
      "source": [
        "gmm = GMM(k=3, max_iter=20)\n",
        "gmm.fit(X_train, X_dev, y_dev)"
      ]
    },
    {
      "cell_type": "code",
      "execution_count": 38,
      "metadata": {
        "colab": {
          "base_uri": "https://localhost:8080/"
        },
        "id": "au9FrKtuiNMz",
        "outputId": "04903855-6bd5-4f45-a013-39a276889f61"
      },
      "outputs": [
        {
          "name": "stdout",
          "output_type": "stream",
          "text": [
            "Evaluation: \n",
            "Precision = 0.1483\n",
            "Recall = 0.3333\n",
            "F1 = 0.2053\n"
          ]
        }
      ],
      "source": [
        "print(\"Evaluation: \")\n",
        "evaluate(gmm, X_test, y_test)"
      ]
    },
    {
      "cell_type": "code",
      "execution_count": null,
      "metadata": {
        "id": "p0OIZcJb36t5"
      },
      "outputs": [],
      "source": []
    }
  ],
  "metadata": {
    "accelerator": "GPU",
    "colab": {
      "gpuType": "T4",
      "provenance": []
    },
    "kernelspec": {
      "display_name": "machinelearning",
      "language": "python",
      "name": "python3"
    },
    "language_info": {
      "name": "python",
      "version": "3.12.7"
    },
    "widgets": {
      "application/vnd.jupyter.widget-state+json": {
        "0310a63ccddf4d3b94b923e4d510f55e": {
          "model_module": "@jupyter-widgets/controls",
          "model_module_version": "1.5.0",
          "model_name": "HTMLModel",
          "state": {
            "_dom_classes": [],
            "_model_module": "@jupyter-widgets/controls",
            "_model_module_version": "1.5.0",
            "_model_name": "HTMLModel",
            "_view_count": null,
            "_view_module": "@jupyter-widgets/controls",
            "_view_module_version": "1.5.0",
            "_view_name": "HTMLView",
            "description": "",
            "description_tooltip": null,
            "layout": "IPY_MODEL_dc6289b401cd49a8abb73f4896774990",
            "placeholder": "​",
            "style": "IPY_MODEL_d0a4cc358d54435aab7b849a3c0beabc",
            "value": " 543M/543M [00:05&lt;00:00, 69.0MB/s]"
          }
        },
        "0bb464080d8b4132bc257eedeec844fc": {
          "model_module": "@jupyter-widgets/controls",
          "model_module_version": "1.5.0",
          "model_name": "HBoxModel",
          "state": {
            "_dom_classes": [],
            "_model_module": "@jupyter-widgets/controls",
            "_model_module_version": "1.5.0",
            "_model_name": "HBoxModel",
            "_view_count": null,
            "_view_module": "@jupyter-widgets/controls",
            "_view_module_version": "1.5.0",
            "_view_name": "HBoxView",
            "box_style": "",
            "children": [
              "IPY_MODEL_664a0e2fbe314bc99250744089a92311",
              "IPY_MODEL_cb97f23229e04d64a23e172f8d853631",
              "IPY_MODEL_a82741049a3a4de79a1286b1e2e0f6f2"
            ],
            "layout": "IPY_MODEL_22e2087d5ab344b2b6453f1eaa1b553d"
          }
        },
        "0e18282e148742d9ad44375621ef6a31": {
          "model_module": "@jupyter-widgets/controls",
          "model_module_version": "1.5.0",
          "model_name": "DescriptionStyleModel",
          "state": {
            "_model_module": "@jupyter-widgets/controls",
            "_model_module_version": "1.5.0",
            "_model_name": "DescriptionStyleModel",
            "_view_count": null,
            "_view_module": "@jupyter-widgets/base",
            "_view_module_version": "1.2.0",
            "_view_name": "StyleView",
            "description_width": ""
          }
        },
        "0fbc7e7a0ff2496699d8b56d4e31c27b": {
          "model_module": "@jupyter-widgets/base",
          "model_module_version": "1.2.0",
          "model_name": "LayoutModel",
          "state": {
            "_model_module": "@jupyter-widgets/base",
            "_model_module_version": "1.2.0",
            "_model_name": "LayoutModel",
            "_view_count": null,
            "_view_module": "@jupyter-widgets/base",
            "_view_module_version": "1.2.0",
            "_view_name": "LayoutView",
            "align_content": null,
            "align_items": null,
            "align_self": null,
            "border": null,
            "bottom": null,
            "display": null,
            "flex": null,
            "flex_flow": null,
            "grid_area": null,
            "grid_auto_columns": null,
            "grid_auto_flow": null,
            "grid_auto_rows": null,
            "grid_column": null,
            "grid_gap": null,
            "grid_row": null,
            "grid_template_areas": null,
            "grid_template_columns": null,
            "grid_template_rows": null,
            "height": null,
            "justify_content": null,
            "justify_items": null,
            "left": null,
            "margin": null,
            "max_height": null,
            "max_width": null,
            "min_height": null,
            "min_width": null,
            "object_fit": null,
            "object_position": null,
            "order": null,
            "overflow": null,
            "overflow_x": null,
            "overflow_y": null,
            "padding": null,
            "right": null,
            "top": null,
            "visibility": null,
            "width": null
          }
        },
        "10e88dc3126f4d4487b97aa3953f4afe": {
          "model_module": "@jupyter-widgets/base",
          "model_module_version": "1.2.0",
          "model_name": "LayoutModel",
          "state": {
            "_model_module": "@jupyter-widgets/base",
            "_model_module_version": "1.2.0",
            "_model_name": "LayoutModel",
            "_view_count": null,
            "_view_module": "@jupyter-widgets/base",
            "_view_module_version": "1.2.0",
            "_view_name": "LayoutView",
            "align_content": null,
            "align_items": null,
            "align_self": null,
            "border": null,
            "bottom": null,
            "display": null,
            "flex": null,
            "flex_flow": null,
            "grid_area": null,
            "grid_auto_columns": null,
            "grid_auto_flow": null,
            "grid_auto_rows": null,
            "grid_column": null,
            "grid_gap": null,
            "grid_row": null,
            "grid_template_areas": null,
            "grid_template_columns": null,
            "grid_template_rows": null,
            "height": null,
            "justify_content": null,
            "justify_items": null,
            "left": null,
            "margin": null,
            "max_height": null,
            "max_width": null,
            "min_height": null,
            "min_width": null,
            "object_fit": null,
            "object_position": null,
            "order": null,
            "overflow": null,
            "overflow_x": null,
            "overflow_y": null,
            "padding": null,
            "right": null,
            "top": null,
            "visibility": null,
            "width": null
          }
        },
        "1cd542aaa8fa4681ab02941fd9cdb3d7": {
          "model_module": "@jupyter-widgets/controls",
          "model_module_version": "1.5.0",
          "model_name": "FloatProgressModel",
          "state": {
            "_dom_classes": [],
            "_model_module": "@jupyter-widgets/controls",
            "_model_module_version": "1.5.0",
            "_model_name": "FloatProgressModel",
            "_view_count": null,
            "_view_module": "@jupyter-widgets/controls",
            "_view_module_version": "1.5.0",
            "_view_name": "ProgressView",
            "bar_style": "success",
            "description": "",
            "description_tooltip": null,
            "layout": "IPY_MODEL_5d0fb061612345738f2aa954042b1f99",
            "max": 542900336,
            "min": 0,
            "orientation": "horizontal",
            "style": "IPY_MODEL_b2fd09b2ae3e4cd8aec957195edf5860",
            "value": 542900336
          }
        },
        "22e2087d5ab344b2b6453f1eaa1b553d": {
          "model_module": "@jupyter-widgets/base",
          "model_module_version": "1.2.0",
          "model_name": "LayoutModel",
          "state": {
            "_model_module": "@jupyter-widgets/base",
            "_model_module_version": "1.2.0",
            "_model_name": "LayoutModel",
            "_view_count": null,
            "_view_module": "@jupyter-widgets/base",
            "_view_module_version": "1.2.0",
            "_view_name": "LayoutView",
            "align_content": null,
            "align_items": null,
            "align_self": null,
            "border": null,
            "bottom": null,
            "display": null,
            "flex": null,
            "flex_flow": null,
            "grid_area": null,
            "grid_auto_columns": null,
            "grid_auto_flow": null,
            "grid_auto_rows": null,
            "grid_column": null,
            "grid_gap": null,
            "grid_row": null,
            "grid_template_areas": null,
            "grid_template_columns": null,
            "grid_template_rows": null,
            "height": null,
            "justify_content": null,
            "justify_items": null,
            "left": null,
            "margin": null,
            "max_height": null,
            "max_width": null,
            "min_height": null,
            "min_width": null,
            "object_fit": null,
            "object_position": null,
            "order": null,
            "overflow": null,
            "overflow_x": null,
            "overflow_y": null,
            "padding": null,
            "right": null,
            "top": null,
            "visibility": null,
            "width": null
          }
        },
        "24ecb4fb7f914bebac0904d3c713a16b": {
          "model_module": "@jupyter-widgets/base",
          "model_module_version": "1.2.0",
          "model_name": "LayoutModel",
          "state": {
            "_model_module": "@jupyter-widgets/base",
            "_model_module_version": "1.2.0",
            "_model_name": "LayoutModel",
            "_view_count": null,
            "_view_module": "@jupyter-widgets/base",
            "_view_module_version": "1.2.0",
            "_view_name": "LayoutView",
            "align_content": null,
            "align_items": null,
            "align_self": null,
            "border": null,
            "bottom": null,
            "display": null,
            "flex": null,
            "flex_flow": null,
            "grid_area": null,
            "grid_auto_columns": null,
            "grid_auto_flow": null,
            "grid_auto_rows": null,
            "grid_column": null,
            "grid_gap": null,
            "grid_row": null,
            "grid_template_areas": null,
            "grid_template_columns": null,
            "grid_template_rows": null,
            "height": null,
            "justify_content": null,
            "justify_items": null,
            "left": null,
            "margin": null,
            "max_height": null,
            "max_width": null,
            "min_height": null,
            "min_width": null,
            "object_fit": null,
            "object_position": null,
            "order": null,
            "overflow": null,
            "overflow_x": null,
            "overflow_y": null,
            "padding": null,
            "right": null,
            "top": null,
            "visibility": null,
            "width": null
          }
        },
        "2509deae1e3440e4963b743342463c37": {
          "model_module": "@jupyter-widgets/base",
          "model_module_version": "1.2.0",
          "model_name": "LayoutModel",
          "state": {
            "_model_module": "@jupyter-widgets/base",
            "_model_module_version": "1.2.0",
            "_model_name": "LayoutModel",
            "_view_count": null,
            "_view_module": "@jupyter-widgets/base",
            "_view_module_version": "1.2.0",
            "_view_name": "LayoutView",
            "align_content": null,
            "align_items": null,
            "align_self": null,
            "border": null,
            "bottom": null,
            "display": null,
            "flex": null,
            "flex_flow": null,
            "grid_area": null,
            "grid_auto_columns": null,
            "grid_auto_flow": null,
            "grid_auto_rows": null,
            "grid_column": null,
            "grid_gap": null,
            "grid_row": null,
            "grid_template_areas": null,
            "grid_template_columns": null,
            "grid_template_rows": null,
            "height": null,
            "justify_content": null,
            "justify_items": null,
            "left": null,
            "margin": null,
            "max_height": null,
            "max_width": null,
            "min_height": null,
            "min_width": null,
            "object_fit": null,
            "object_position": null,
            "order": null,
            "overflow": null,
            "overflow_x": null,
            "overflow_y": null,
            "padding": null,
            "right": null,
            "top": null,
            "visibility": null,
            "width": null
          }
        },
        "261e853a3cb64108ba04c783b3f77352": {
          "model_module": "@jupyter-widgets/base",
          "model_module_version": "1.2.0",
          "model_name": "LayoutModel",
          "state": {
            "_model_module": "@jupyter-widgets/base",
            "_model_module_version": "1.2.0",
            "_model_name": "LayoutModel",
            "_view_count": null,
            "_view_module": "@jupyter-widgets/base",
            "_view_module_version": "1.2.0",
            "_view_name": "LayoutView",
            "align_content": null,
            "align_items": null,
            "align_self": null,
            "border": null,
            "bottom": null,
            "display": null,
            "flex": null,
            "flex_flow": null,
            "grid_area": null,
            "grid_auto_columns": null,
            "grid_auto_flow": null,
            "grid_auto_rows": null,
            "grid_column": null,
            "grid_gap": null,
            "grid_row": null,
            "grid_template_areas": null,
            "grid_template_columns": null,
            "grid_template_rows": null,
            "height": null,
            "justify_content": null,
            "justify_items": null,
            "left": null,
            "margin": null,
            "max_height": null,
            "max_width": null,
            "min_height": null,
            "min_width": null,
            "object_fit": null,
            "object_position": null,
            "order": null,
            "overflow": null,
            "overflow_x": null,
            "overflow_y": null,
            "padding": null,
            "right": null,
            "top": null,
            "visibility": null,
            "width": null
          }
        },
        "29a66ef2d7234f2aa93814716a326ee0": {
          "model_module": "@jupyter-widgets/base",
          "model_module_version": "1.2.0",
          "model_name": "LayoutModel",
          "state": {
            "_model_module": "@jupyter-widgets/base",
            "_model_module_version": "1.2.0",
            "_model_name": "LayoutModel",
            "_view_count": null,
            "_view_module": "@jupyter-widgets/base",
            "_view_module_version": "1.2.0",
            "_view_name": "LayoutView",
            "align_content": null,
            "align_items": null,
            "align_self": null,
            "border": null,
            "bottom": null,
            "display": null,
            "flex": null,
            "flex_flow": null,
            "grid_area": null,
            "grid_auto_columns": null,
            "grid_auto_flow": null,
            "grid_auto_rows": null,
            "grid_column": null,
            "grid_gap": null,
            "grid_row": null,
            "grid_template_areas": null,
            "grid_template_columns": null,
            "grid_template_rows": null,
            "height": null,
            "justify_content": null,
            "justify_items": null,
            "left": null,
            "margin": null,
            "max_height": null,
            "max_width": null,
            "min_height": null,
            "min_width": null,
            "object_fit": null,
            "object_position": null,
            "order": null,
            "overflow": null,
            "overflow_x": null,
            "overflow_y": null,
            "padding": null,
            "right": null,
            "top": null,
            "visibility": null,
            "width": null
          }
        },
        "2acdbf021edb4c71bc30989fefef1d33": {
          "model_module": "@jupyter-widgets/controls",
          "model_module_version": "1.5.0",
          "model_name": "DescriptionStyleModel",
          "state": {
            "_model_module": "@jupyter-widgets/controls",
            "_model_module_version": "1.5.0",
            "_model_name": "DescriptionStyleModel",
            "_view_count": null,
            "_view_module": "@jupyter-widgets/base",
            "_view_module_version": "1.2.0",
            "_view_name": "StyleView",
            "description_width": ""
          }
        },
        "2eba967b494d4180928652375f3e1e7f": {
          "model_module": "@jupyter-widgets/controls",
          "model_module_version": "1.5.0",
          "model_name": "DescriptionStyleModel",
          "state": {
            "_model_module": "@jupyter-widgets/controls",
            "_model_module_version": "1.5.0",
            "_model_name": "DescriptionStyleModel",
            "_view_count": null,
            "_view_module": "@jupyter-widgets/base",
            "_view_module_version": "1.2.0",
            "_view_name": "StyleView",
            "description_width": ""
          }
        },
        "31b6a0c27cb849caa26be43b7988f487": {
          "model_module": "@jupyter-widgets/controls",
          "model_module_version": "1.5.0",
          "model_name": "DescriptionStyleModel",
          "state": {
            "_model_module": "@jupyter-widgets/controls",
            "_model_module_version": "1.5.0",
            "_model_name": "DescriptionStyleModel",
            "_view_count": null,
            "_view_module": "@jupyter-widgets/base",
            "_view_module_version": "1.2.0",
            "_view_name": "StyleView",
            "description_width": ""
          }
        },
        "33221e0e08814d6a8ba4f40fb110b25d": {
          "model_module": "@jupyter-widgets/base",
          "model_module_version": "1.2.0",
          "model_name": "LayoutModel",
          "state": {
            "_model_module": "@jupyter-widgets/base",
            "_model_module_version": "1.2.0",
            "_model_name": "LayoutModel",
            "_view_count": null,
            "_view_module": "@jupyter-widgets/base",
            "_view_module_version": "1.2.0",
            "_view_name": "LayoutView",
            "align_content": null,
            "align_items": null,
            "align_self": null,
            "border": null,
            "bottom": null,
            "display": null,
            "flex": null,
            "flex_flow": null,
            "grid_area": null,
            "grid_auto_columns": null,
            "grid_auto_flow": null,
            "grid_auto_rows": null,
            "grid_column": null,
            "grid_gap": null,
            "grid_row": null,
            "grid_template_areas": null,
            "grid_template_columns": null,
            "grid_template_rows": null,
            "height": null,
            "justify_content": null,
            "justify_items": null,
            "left": null,
            "margin": null,
            "max_height": null,
            "max_width": null,
            "min_height": null,
            "min_width": null,
            "object_fit": null,
            "object_position": null,
            "order": null,
            "overflow": null,
            "overflow_x": null,
            "overflow_y": null,
            "padding": null,
            "right": null,
            "top": null,
            "visibility": null,
            "width": null
          }
        },
        "35331d8a36464aee822db4152ba10d45": {
          "model_module": "@jupyter-widgets/controls",
          "model_module_version": "1.5.0",
          "model_name": "HTMLModel",
          "state": {
            "_dom_classes": [],
            "_model_module": "@jupyter-widgets/controls",
            "_model_module_version": "1.5.0",
            "_model_name": "HTMLModel",
            "_view_count": null,
            "_view_module": "@jupyter-widgets/controls",
            "_view_module_version": "1.5.0",
            "_view_name": "HTMLView",
            "description": "",
            "description_tooltip": null,
            "layout": "IPY_MODEL_4961101f878949c1886612e27c138c65",
            "placeholder": "​",
            "style": "IPY_MODEL_7d782432e03e485bb51f73eeb2c21691",
            "value": " 3.13M/3.13M [00:00&lt;00:00, 24.1MB/s]"
          }
        },
        "379e47305a0b4a058a9fb499f01d6121": {
          "model_module": "@jupyter-widgets/base",
          "model_module_version": "1.2.0",
          "model_name": "LayoutModel",
          "state": {
            "_model_module": "@jupyter-widgets/base",
            "_model_module_version": "1.2.0",
            "_model_name": "LayoutModel",
            "_view_count": null,
            "_view_module": "@jupyter-widgets/base",
            "_view_module_version": "1.2.0",
            "_view_name": "LayoutView",
            "align_content": null,
            "align_items": null,
            "align_self": null,
            "border": null,
            "bottom": null,
            "display": null,
            "flex": null,
            "flex_flow": null,
            "grid_area": null,
            "grid_auto_columns": null,
            "grid_auto_flow": null,
            "grid_auto_rows": null,
            "grid_column": null,
            "grid_gap": null,
            "grid_row": null,
            "grid_template_areas": null,
            "grid_template_columns": null,
            "grid_template_rows": null,
            "height": null,
            "justify_content": null,
            "justify_items": null,
            "left": null,
            "margin": null,
            "max_height": null,
            "max_width": null,
            "min_height": null,
            "min_width": null,
            "object_fit": null,
            "object_position": null,
            "order": null,
            "overflow": null,
            "overflow_x": null,
            "overflow_y": null,
            "padding": null,
            "right": null,
            "top": null,
            "visibility": null,
            "width": null
          }
        },
        "3b56d8661f4d4744b03c008528045b77": {
          "model_module": "@jupyter-widgets/controls",
          "model_module_version": "1.5.0",
          "model_name": "DescriptionStyleModel",
          "state": {
            "_model_module": "@jupyter-widgets/controls",
            "_model_module_version": "1.5.0",
            "_model_name": "DescriptionStyleModel",
            "_view_count": null,
            "_view_module": "@jupyter-widgets/base",
            "_view_module_version": "1.2.0",
            "_view_name": "StyleView",
            "description_width": ""
          }
        },
        "3d65ea09d3334e09ba53ccdcc8a21ce5": {
          "model_module": "@jupyter-widgets/controls",
          "model_module_version": "1.5.0",
          "model_name": "HTMLModel",
          "state": {
            "_dom_classes": [],
            "_model_module": "@jupyter-widgets/controls",
            "_model_module_version": "1.5.0",
            "_model_name": "HTMLModel",
            "_view_count": null,
            "_view_module": "@jupyter-widgets/controls",
            "_view_module_version": "1.5.0",
            "_view_name": "HTMLView",
            "description": "",
            "description_tooltip": null,
            "layout": "IPY_MODEL_e20e97939bee47b49bef2b410afcd265",
            "placeholder": "​",
            "style": "IPY_MODEL_2eba967b494d4180928652375f3e1e7f",
            "value": "model.safetensors: 100%"
          }
        },
        "3f5a80bc2ffa4629b1a374695d260a72": {
          "model_module": "@jupyter-widgets/base",
          "model_module_version": "1.2.0",
          "model_name": "LayoutModel",
          "state": {
            "_model_module": "@jupyter-widgets/base",
            "_model_module_version": "1.2.0",
            "_model_name": "LayoutModel",
            "_view_count": null,
            "_view_module": "@jupyter-widgets/base",
            "_view_module_version": "1.2.0",
            "_view_name": "LayoutView",
            "align_content": null,
            "align_items": null,
            "align_self": null,
            "border": null,
            "bottom": null,
            "display": null,
            "flex": null,
            "flex_flow": null,
            "grid_area": null,
            "grid_auto_columns": null,
            "grid_auto_flow": null,
            "grid_auto_rows": null,
            "grid_column": null,
            "grid_gap": null,
            "grid_row": null,
            "grid_template_areas": null,
            "grid_template_columns": null,
            "grid_template_rows": null,
            "height": null,
            "justify_content": null,
            "justify_items": null,
            "left": null,
            "margin": null,
            "max_height": null,
            "max_width": null,
            "min_height": null,
            "min_width": null,
            "object_fit": null,
            "object_position": null,
            "order": null,
            "overflow": null,
            "overflow_x": null,
            "overflow_y": null,
            "padding": null,
            "right": null,
            "top": null,
            "visibility": null,
            "width": null
          }
        },
        "4961101f878949c1886612e27c138c65": {
          "model_module": "@jupyter-widgets/base",
          "model_module_version": "1.2.0",
          "model_name": "LayoutModel",
          "state": {
            "_model_module": "@jupyter-widgets/base",
            "_model_module_version": "1.2.0",
            "_model_name": "LayoutModel",
            "_view_count": null,
            "_view_module": "@jupyter-widgets/base",
            "_view_module_version": "1.2.0",
            "_view_name": "LayoutView",
            "align_content": null,
            "align_items": null,
            "align_self": null,
            "border": null,
            "bottom": null,
            "display": null,
            "flex": null,
            "flex_flow": null,
            "grid_area": null,
            "grid_auto_columns": null,
            "grid_auto_flow": null,
            "grid_auto_rows": null,
            "grid_column": null,
            "grid_gap": null,
            "grid_row": null,
            "grid_template_areas": null,
            "grid_template_columns": null,
            "grid_template_rows": null,
            "height": null,
            "justify_content": null,
            "justify_items": null,
            "left": null,
            "margin": null,
            "max_height": null,
            "max_width": null,
            "min_height": null,
            "min_width": null,
            "object_fit": null,
            "object_position": null,
            "order": null,
            "overflow": null,
            "overflow_x": null,
            "overflow_y": null,
            "padding": null,
            "right": null,
            "top": null,
            "visibility": null,
            "width": null
          }
        },
        "4ae26a0af39745e89a1ef5e9bf109fc6": {
          "model_module": "@jupyter-widgets/controls",
          "model_module_version": "1.5.0",
          "model_name": "HBoxModel",
          "state": {
            "_dom_classes": [],
            "_model_module": "@jupyter-widgets/controls",
            "_model_module_version": "1.5.0",
            "_model_name": "HBoxModel",
            "_view_count": null,
            "_view_module": "@jupyter-widgets/controls",
            "_view_module_version": "1.5.0",
            "_view_name": "HBoxView",
            "box_style": "",
            "children": [
              "IPY_MODEL_6da49360d65f40aaaee41c071e2145ca",
              "IPY_MODEL_8bd0c607451f46f3b1903309ff642ea6",
              "IPY_MODEL_57d7945ffb694a928716fc0e180fafbc"
            ],
            "layout": "IPY_MODEL_24ecb4fb7f914bebac0904d3c713a16b"
          }
        },
        "4bef32d7f5844438abd270479273c66c": {
          "model_module": "@jupyter-widgets/controls",
          "model_module_version": "1.5.0",
          "model_name": "DescriptionStyleModel",
          "state": {
            "_model_module": "@jupyter-widgets/controls",
            "_model_module_version": "1.5.0",
            "_model_name": "DescriptionStyleModel",
            "_view_count": null,
            "_view_module": "@jupyter-widgets/base",
            "_view_module_version": "1.2.0",
            "_view_name": "StyleView",
            "description_width": ""
          }
        },
        "4e2a98cd70bb4e7bbba756138e947555": {
          "model_module": "@jupyter-widgets/controls",
          "model_module_version": "1.5.0",
          "model_name": "ProgressStyleModel",
          "state": {
            "_model_module": "@jupyter-widgets/controls",
            "_model_module_version": "1.5.0",
            "_model_name": "ProgressStyleModel",
            "_view_count": null,
            "_view_module": "@jupyter-widgets/base",
            "_view_module_version": "1.2.0",
            "_view_name": "StyleView",
            "bar_color": null,
            "description_width": ""
          }
        },
        "4ede311384bc467f936a6b98365466ed": {
          "model_module": "@jupyter-widgets/controls",
          "model_module_version": "1.5.0",
          "model_name": "HTMLModel",
          "state": {
            "_dom_classes": [],
            "_model_module": "@jupyter-widgets/controls",
            "_model_module_version": "1.5.0",
            "_model_name": "HTMLModel",
            "_view_count": null,
            "_view_module": "@jupyter-widgets/controls",
            "_view_module_version": "1.5.0",
            "_view_name": "HTMLView",
            "description": "",
            "description_tooltip": null,
            "layout": "IPY_MODEL_0fbc7e7a0ff2496699d8b56d4e31c27b",
            "placeholder": "​",
            "style": "IPY_MODEL_63d43025c8ba4d04879e0e7aa8cc2e5c",
            "value": "pytorch_model.bin: 100%"
          }
        },
        "57d7945ffb694a928716fc0e180fafbc": {
          "model_module": "@jupyter-widgets/controls",
          "model_module_version": "1.5.0",
          "model_name": "HTMLModel",
          "state": {
            "_dom_classes": [],
            "_model_module": "@jupyter-widgets/controls",
            "_model_module_version": "1.5.0",
            "_model_name": "HTMLModel",
            "_view_count": null,
            "_view_module": "@jupyter-widgets/controls",
            "_view_module_version": "1.5.0",
            "_view_name": "HTMLView",
            "description": "",
            "description_tooltip": null,
            "layout": "IPY_MODEL_7837b5391e444404a0e994e0828df92e",
            "placeholder": "​",
            "style": "IPY_MODEL_d167c6c75eed4b1b8ba58a7eb617ed86",
            "value": " 557/557 [00:00&lt;00:00, 49.9kB/s]"
          }
        },
        "5d0fb061612345738f2aa954042b1f99": {
          "model_module": "@jupyter-widgets/base",
          "model_module_version": "1.2.0",
          "model_name": "LayoutModel",
          "state": {
            "_model_module": "@jupyter-widgets/base",
            "_model_module_version": "1.2.0",
            "_model_name": "LayoutModel",
            "_view_count": null,
            "_view_module": "@jupyter-widgets/base",
            "_view_module_version": "1.2.0",
            "_view_name": "LayoutView",
            "align_content": null,
            "align_items": null,
            "align_self": null,
            "border": null,
            "bottom": null,
            "display": null,
            "flex": null,
            "flex_flow": null,
            "grid_area": null,
            "grid_auto_columns": null,
            "grid_auto_flow": null,
            "grid_auto_rows": null,
            "grid_column": null,
            "grid_gap": null,
            "grid_row": null,
            "grid_template_areas": null,
            "grid_template_columns": null,
            "grid_template_rows": null,
            "height": null,
            "justify_content": null,
            "justify_items": null,
            "left": null,
            "margin": null,
            "max_height": null,
            "max_width": null,
            "min_height": null,
            "min_width": null,
            "object_fit": null,
            "object_position": null,
            "order": null,
            "overflow": null,
            "overflow_x": null,
            "overflow_y": null,
            "padding": null,
            "right": null,
            "top": null,
            "visibility": null,
            "width": null
          }
        },
        "63d43025c8ba4d04879e0e7aa8cc2e5c": {
          "model_module": "@jupyter-widgets/controls",
          "model_module_version": "1.5.0",
          "model_name": "DescriptionStyleModel",
          "state": {
            "_model_module": "@jupyter-widgets/controls",
            "_model_module_version": "1.5.0",
            "_model_name": "DescriptionStyleModel",
            "_view_count": null,
            "_view_module": "@jupyter-widgets/base",
            "_view_module_version": "1.2.0",
            "_view_name": "StyleView",
            "description_width": ""
          }
        },
        "6488da8b70aa4992b8687ac332ccf131": {
          "model_module": "@jupyter-widgets/controls",
          "model_module_version": "1.5.0",
          "model_name": "HBoxModel",
          "state": {
            "_dom_classes": [],
            "_model_module": "@jupyter-widgets/controls",
            "_model_module_version": "1.5.0",
            "_model_name": "HBoxModel",
            "_view_count": null,
            "_view_module": "@jupyter-widgets/controls",
            "_view_module_version": "1.5.0",
            "_view_name": "HBoxView",
            "box_style": "",
            "children": [
              "IPY_MODEL_ba8280fbae394830a07d7a55d03560dd",
              "IPY_MODEL_b0c1c7090cdf436db35a11336da18f4f",
              "IPY_MODEL_35331d8a36464aee822db4152ba10d45"
            ],
            "layout": "IPY_MODEL_a4c62a91c25149929dd1858755d4b4a2"
          }
        },
        "664a0e2fbe314bc99250744089a92311": {
          "model_module": "@jupyter-widgets/controls",
          "model_module_version": "1.5.0",
          "model_name": "HTMLModel",
          "state": {
            "_dom_classes": [],
            "_model_module": "@jupyter-widgets/controls",
            "_model_module_version": "1.5.0",
            "_model_name": "HTMLModel",
            "_view_count": null,
            "_view_module": "@jupyter-widgets/controls",
            "_view_module_version": "1.5.0",
            "_view_name": "HTMLView",
            "description": "",
            "description_tooltip": null,
            "layout": "IPY_MODEL_febecfbabd6c4ce49e8d157f54842933",
            "placeholder": "​",
            "style": "IPY_MODEL_4bef32d7f5844438abd270479273c66c",
            "value": "vocab.txt: 100%"
          }
        },
        "6d3be98d99104ff4a4ccf4da4eaba1b9": {
          "model_module": "@jupyter-widgets/controls",
          "model_module_version": "1.5.0",
          "model_name": "DescriptionStyleModel",
          "state": {
            "_model_module": "@jupyter-widgets/controls",
            "_model_module_version": "1.5.0",
            "_model_name": "DescriptionStyleModel",
            "_view_count": null,
            "_view_module": "@jupyter-widgets/base",
            "_view_module_version": "1.2.0",
            "_view_name": "StyleView",
            "description_width": ""
          }
        },
        "6da49360d65f40aaaee41c071e2145ca": {
          "model_module": "@jupyter-widgets/controls",
          "model_module_version": "1.5.0",
          "model_name": "HTMLModel",
          "state": {
            "_dom_classes": [],
            "_model_module": "@jupyter-widgets/controls",
            "_model_module_version": "1.5.0",
            "_model_name": "HTMLModel",
            "_view_count": null,
            "_view_module": "@jupyter-widgets/controls",
            "_view_module_version": "1.5.0",
            "_view_name": "HTMLView",
            "description": "",
            "description_tooltip": null,
            "layout": "IPY_MODEL_29a66ef2d7234f2aa93814716a326ee0",
            "placeholder": "​",
            "style": "IPY_MODEL_0e18282e148742d9ad44375621ef6a31",
            "value": "config.json: 100%"
          }
        },
        "7837b5391e444404a0e994e0828df92e": {
          "model_module": "@jupyter-widgets/base",
          "model_module_version": "1.2.0",
          "model_name": "LayoutModel",
          "state": {
            "_model_module": "@jupyter-widgets/base",
            "_model_module_version": "1.2.0",
            "_model_name": "LayoutModel",
            "_view_count": null,
            "_view_module": "@jupyter-widgets/base",
            "_view_module_version": "1.2.0",
            "_view_name": "LayoutView",
            "align_content": null,
            "align_items": null,
            "align_self": null,
            "border": null,
            "bottom": null,
            "display": null,
            "flex": null,
            "flex_flow": null,
            "grid_area": null,
            "grid_auto_columns": null,
            "grid_auto_flow": null,
            "grid_auto_rows": null,
            "grid_column": null,
            "grid_gap": null,
            "grid_row": null,
            "grid_template_areas": null,
            "grid_template_columns": null,
            "grid_template_rows": null,
            "height": null,
            "justify_content": null,
            "justify_items": null,
            "left": null,
            "margin": null,
            "max_height": null,
            "max_width": null,
            "min_height": null,
            "min_width": null,
            "object_fit": null,
            "object_position": null,
            "order": null,
            "overflow": null,
            "overflow_x": null,
            "overflow_y": null,
            "padding": null,
            "right": null,
            "top": null,
            "visibility": null,
            "width": null
          }
        },
        "7d782432e03e485bb51f73eeb2c21691": {
          "model_module": "@jupyter-widgets/controls",
          "model_module_version": "1.5.0",
          "model_name": "DescriptionStyleModel",
          "state": {
            "_model_module": "@jupyter-widgets/controls",
            "_model_module_version": "1.5.0",
            "_model_name": "DescriptionStyleModel",
            "_view_count": null,
            "_view_module": "@jupyter-widgets/base",
            "_view_module_version": "1.2.0",
            "_view_name": "StyleView",
            "description_width": ""
          }
        },
        "853a8c61f4074c8f8785f6c54b00e412": {
          "model_module": "@jupyter-widgets/controls",
          "model_module_version": "1.5.0",
          "model_name": "HBoxModel",
          "state": {
            "_dom_classes": [],
            "_model_module": "@jupyter-widgets/controls",
            "_model_module_version": "1.5.0",
            "_model_name": "HBoxModel",
            "_view_count": null,
            "_view_module": "@jupyter-widgets/controls",
            "_view_module_version": "1.5.0",
            "_view_name": "HBoxView",
            "box_style": "",
            "children": [
              "IPY_MODEL_3d65ea09d3334e09ba53ccdcc8a21ce5",
              "IPY_MODEL_1cd542aaa8fa4681ab02941fd9cdb3d7",
              "IPY_MODEL_0310a63ccddf4d3b94b923e4d510f55e"
            ],
            "layout": "IPY_MODEL_c048c18d5ea64dd3864540e1a8371092"
          }
        },
        "8bd0c607451f46f3b1903309ff642ea6": {
          "model_module": "@jupyter-widgets/controls",
          "model_module_version": "1.5.0",
          "model_name": "FloatProgressModel",
          "state": {
            "_dom_classes": [],
            "_model_module": "@jupyter-widgets/controls",
            "_model_module_version": "1.5.0",
            "_model_name": "FloatProgressModel",
            "_view_count": null,
            "_view_module": "@jupyter-widgets/controls",
            "_view_module_version": "1.5.0",
            "_view_name": "ProgressView",
            "bar_style": "success",
            "description": "",
            "description_tooltip": null,
            "layout": "IPY_MODEL_96237fac363240f89e1091bf3b469084",
            "max": 557,
            "min": 0,
            "orientation": "horizontal",
            "style": "IPY_MODEL_4e2a98cd70bb4e7bbba756138e947555",
            "value": 557
          }
        },
        "9620a6d547ef44b197f4cece0f11d731": {
          "model_module": "@jupyter-widgets/controls",
          "model_module_version": "1.5.0",
          "model_name": "HTMLModel",
          "state": {
            "_dom_classes": [],
            "_model_module": "@jupyter-widgets/controls",
            "_model_module_version": "1.5.0",
            "_model_name": "HTMLModel",
            "_view_count": null,
            "_view_module": "@jupyter-widgets/controls",
            "_view_module_version": "1.5.0",
            "_view_name": "HTMLView",
            "description": "",
            "description_tooltip": null,
            "layout": "IPY_MODEL_f5d2febff0a545ada3775470f5aa9894",
            "placeholder": "​",
            "style": "IPY_MODEL_31b6a0c27cb849caa26be43b7988f487",
            "value": "bpe.codes: 100%"
          }
        },
        "96237fac363240f89e1091bf3b469084": {
          "model_module": "@jupyter-widgets/base",
          "model_module_version": "1.2.0",
          "model_name": "LayoutModel",
          "state": {
            "_model_module": "@jupyter-widgets/base",
            "_model_module_version": "1.2.0",
            "_model_name": "LayoutModel",
            "_view_count": null,
            "_view_module": "@jupyter-widgets/base",
            "_view_module_version": "1.2.0",
            "_view_name": "LayoutView",
            "align_content": null,
            "align_items": null,
            "align_self": null,
            "border": null,
            "bottom": null,
            "display": null,
            "flex": null,
            "flex_flow": null,
            "grid_area": null,
            "grid_auto_columns": null,
            "grid_auto_flow": null,
            "grid_auto_rows": null,
            "grid_column": null,
            "grid_gap": null,
            "grid_row": null,
            "grid_template_areas": null,
            "grid_template_columns": null,
            "grid_template_rows": null,
            "height": null,
            "justify_content": null,
            "justify_items": null,
            "left": null,
            "margin": null,
            "max_height": null,
            "max_width": null,
            "min_height": null,
            "min_width": null,
            "object_fit": null,
            "object_position": null,
            "order": null,
            "overflow": null,
            "overflow_x": null,
            "overflow_y": null,
            "padding": null,
            "right": null,
            "top": null,
            "visibility": null,
            "width": null
          }
        },
        "98c0b6c7693f4777be3d9476dcddbb72": {
          "model_module": "@jupyter-widgets/base",
          "model_module_version": "1.2.0",
          "model_name": "LayoutModel",
          "state": {
            "_model_module": "@jupyter-widgets/base",
            "_model_module_version": "1.2.0",
            "_model_name": "LayoutModel",
            "_view_count": null,
            "_view_module": "@jupyter-widgets/base",
            "_view_module_version": "1.2.0",
            "_view_name": "LayoutView",
            "align_content": null,
            "align_items": null,
            "align_self": null,
            "border": null,
            "bottom": null,
            "display": null,
            "flex": null,
            "flex_flow": null,
            "grid_area": null,
            "grid_auto_columns": null,
            "grid_auto_flow": null,
            "grid_auto_rows": null,
            "grid_column": null,
            "grid_gap": null,
            "grid_row": null,
            "grid_template_areas": null,
            "grid_template_columns": null,
            "grid_template_rows": null,
            "height": null,
            "justify_content": null,
            "justify_items": null,
            "left": null,
            "margin": null,
            "max_height": null,
            "max_width": null,
            "min_height": null,
            "min_width": null,
            "object_fit": null,
            "object_position": null,
            "order": null,
            "overflow": null,
            "overflow_x": null,
            "overflow_y": null,
            "padding": null,
            "right": null,
            "top": null,
            "visibility": null,
            "width": null
          }
        },
        "999000c4231c4382b97793312d12e4a0": {
          "model_module": "@jupyter-widgets/controls",
          "model_module_version": "1.5.0",
          "model_name": "FloatProgressModel",
          "state": {
            "_dom_classes": [],
            "_model_module": "@jupyter-widgets/controls",
            "_model_module_version": "1.5.0",
            "_model_name": "FloatProgressModel",
            "_view_count": null,
            "_view_module": "@jupyter-widgets/controls",
            "_view_module_version": "1.5.0",
            "_view_name": "ProgressView",
            "bar_style": "success",
            "description": "",
            "description_tooltip": null,
            "layout": "IPY_MODEL_babd7a81409442bab85b4f03523df09b",
            "max": 1135173,
            "min": 0,
            "orientation": "horizontal",
            "style": "IPY_MODEL_9f21bc56156c49d8a94ae7fd345eabde",
            "value": 1135173
          }
        },
        "9f21bc56156c49d8a94ae7fd345eabde": {
          "model_module": "@jupyter-widgets/controls",
          "model_module_version": "1.5.0",
          "model_name": "ProgressStyleModel",
          "state": {
            "_model_module": "@jupyter-widgets/controls",
            "_model_module_version": "1.5.0",
            "_model_name": "ProgressStyleModel",
            "_view_count": null,
            "_view_module": "@jupyter-widgets/base",
            "_view_module_version": "1.2.0",
            "_view_name": "StyleView",
            "bar_color": null,
            "description_width": ""
          }
        },
        "a4c62a91c25149929dd1858755d4b4a2": {
          "model_module": "@jupyter-widgets/base",
          "model_module_version": "1.2.0",
          "model_name": "LayoutModel",
          "state": {
            "_model_module": "@jupyter-widgets/base",
            "_model_module_version": "1.2.0",
            "_model_name": "LayoutModel",
            "_view_count": null,
            "_view_module": "@jupyter-widgets/base",
            "_view_module_version": "1.2.0",
            "_view_name": "LayoutView",
            "align_content": null,
            "align_items": null,
            "align_self": null,
            "border": null,
            "bottom": null,
            "display": null,
            "flex": null,
            "flex_flow": null,
            "grid_area": null,
            "grid_auto_columns": null,
            "grid_auto_flow": null,
            "grid_auto_rows": null,
            "grid_column": null,
            "grid_gap": null,
            "grid_row": null,
            "grid_template_areas": null,
            "grid_template_columns": null,
            "grid_template_rows": null,
            "height": null,
            "justify_content": null,
            "justify_items": null,
            "left": null,
            "margin": null,
            "max_height": null,
            "max_width": null,
            "min_height": null,
            "min_width": null,
            "object_fit": null,
            "object_position": null,
            "order": null,
            "overflow": null,
            "overflow_x": null,
            "overflow_y": null,
            "padding": null,
            "right": null,
            "top": null,
            "visibility": null,
            "width": null
          }
        },
        "a82741049a3a4de79a1286b1e2e0f6f2": {
          "model_module": "@jupyter-widgets/controls",
          "model_module_version": "1.5.0",
          "model_name": "HTMLModel",
          "state": {
            "_dom_classes": [],
            "_model_module": "@jupyter-widgets/controls",
            "_model_module_version": "1.5.0",
            "_model_name": "HTMLModel",
            "_view_count": null,
            "_view_module": "@jupyter-widgets/controls",
            "_view_module_version": "1.5.0",
            "_view_name": "HTMLView",
            "description": "",
            "description_tooltip": null,
            "layout": "IPY_MODEL_3f5a80bc2ffa4629b1a374695d260a72",
            "placeholder": "​",
            "style": "IPY_MODEL_6d3be98d99104ff4a4ccf4da4eaba1b9",
            "value": " 895k/895k [00:00&lt;00:00, 4.54MB/s]"
          }
        },
        "b0c1c7090cdf436db35a11336da18f4f": {
          "model_module": "@jupyter-widgets/controls",
          "model_module_version": "1.5.0",
          "model_name": "FloatProgressModel",
          "state": {
            "_dom_classes": [],
            "_model_module": "@jupyter-widgets/controls",
            "_model_module_version": "1.5.0",
            "_model_name": "FloatProgressModel",
            "_view_count": null,
            "_view_module": "@jupyter-widgets/controls",
            "_view_module_version": "1.5.0",
            "_view_name": "ProgressView",
            "bar_style": "success",
            "description": "",
            "description_tooltip": null,
            "layout": "IPY_MODEL_261e853a3cb64108ba04c783b3f77352",
            "max": 3132320,
            "min": 0,
            "orientation": "horizontal",
            "style": "IPY_MODEL_e8e6a8623b5045fd8c3df36692569031",
            "value": 3132320
          }
        },
        "b2fd09b2ae3e4cd8aec957195edf5860": {
          "model_module": "@jupyter-widgets/controls",
          "model_module_version": "1.5.0",
          "model_name": "ProgressStyleModel",
          "state": {
            "_model_module": "@jupyter-widgets/controls",
            "_model_module_version": "1.5.0",
            "_model_name": "ProgressStyleModel",
            "_view_count": null,
            "_view_module": "@jupyter-widgets/base",
            "_view_module_version": "1.2.0",
            "_view_name": "StyleView",
            "bar_color": null,
            "description_width": ""
          }
        },
        "b42dede9e7a64375be9392aa5396e555": {
          "model_module": "@jupyter-widgets/base",
          "model_module_version": "1.2.0",
          "model_name": "LayoutModel",
          "state": {
            "_model_module": "@jupyter-widgets/base",
            "_model_module_version": "1.2.0",
            "_model_name": "LayoutModel",
            "_view_count": null,
            "_view_module": "@jupyter-widgets/base",
            "_view_module_version": "1.2.0",
            "_view_name": "LayoutView",
            "align_content": null,
            "align_items": null,
            "align_self": null,
            "border": null,
            "bottom": null,
            "display": null,
            "flex": null,
            "flex_flow": null,
            "grid_area": null,
            "grid_auto_columns": null,
            "grid_auto_flow": null,
            "grid_auto_rows": null,
            "grid_column": null,
            "grid_gap": null,
            "grid_row": null,
            "grid_template_areas": null,
            "grid_template_columns": null,
            "grid_template_rows": null,
            "height": null,
            "justify_content": null,
            "justify_items": null,
            "left": null,
            "margin": null,
            "max_height": null,
            "max_width": null,
            "min_height": null,
            "min_width": null,
            "object_fit": null,
            "object_position": null,
            "order": null,
            "overflow": null,
            "overflow_x": null,
            "overflow_y": null,
            "padding": null,
            "right": null,
            "top": null,
            "visibility": null,
            "width": null
          }
        },
        "b890fde048de46ad8c9d8b6a184210a1": {
          "model_module": "@jupyter-widgets/controls",
          "model_module_version": "1.5.0",
          "model_name": "HBoxModel",
          "state": {
            "_dom_classes": [],
            "_model_module": "@jupyter-widgets/controls",
            "_model_module_version": "1.5.0",
            "_model_name": "HBoxModel",
            "_view_count": null,
            "_view_module": "@jupyter-widgets/controls",
            "_view_module_version": "1.5.0",
            "_view_name": "HBoxView",
            "box_style": "",
            "children": [
              "IPY_MODEL_4ede311384bc467f936a6b98365466ed",
              "IPY_MODEL_d768e298f681447dba0de1bd4363cf08",
              "IPY_MODEL_ce287e97615a4670a4950b862a962629"
            ],
            "layout": "IPY_MODEL_33221e0e08814d6a8ba4f40fb110b25d"
          }
        },
        "ba8280fbae394830a07d7a55d03560dd": {
          "model_module": "@jupyter-widgets/controls",
          "model_module_version": "1.5.0",
          "model_name": "HTMLModel",
          "state": {
            "_dom_classes": [],
            "_model_module": "@jupyter-widgets/controls",
            "_model_module_version": "1.5.0",
            "_model_name": "HTMLModel",
            "_view_count": null,
            "_view_module": "@jupyter-widgets/controls",
            "_view_module_version": "1.5.0",
            "_view_name": "HTMLView",
            "description": "",
            "description_tooltip": null,
            "layout": "IPY_MODEL_b42dede9e7a64375be9392aa5396e555",
            "placeholder": "​",
            "style": "IPY_MODEL_3b56d8661f4d4744b03c008528045b77",
            "value": "tokenizer.json: 100%"
          }
        },
        "babd7a81409442bab85b4f03523df09b": {
          "model_module": "@jupyter-widgets/base",
          "model_module_version": "1.2.0",
          "model_name": "LayoutModel",
          "state": {
            "_model_module": "@jupyter-widgets/base",
            "_model_module_version": "1.2.0",
            "_model_name": "LayoutModel",
            "_view_count": null,
            "_view_module": "@jupyter-widgets/base",
            "_view_module_version": "1.2.0",
            "_view_name": "LayoutView",
            "align_content": null,
            "align_items": null,
            "align_self": null,
            "border": null,
            "bottom": null,
            "display": null,
            "flex": null,
            "flex_flow": null,
            "grid_area": null,
            "grid_auto_columns": null,
            "grid_auto_flow": null,
            "grid_auto_rows": null,
            "grid_column": null,
            "grid_gap": null,
            "grid_row": null,
            "grid_template_areas": null,
            "grid_template_columns": null,
            "grid_template_rows": null,
            "height": null,
            "justify_content": null,
            "justify_items": null,
            "left": null,
            "margin": null,
            "max_height": null,
            "max_width": null,
            "min_height": null,
            "min_width": null,
            "object_fit": null,
            "object_position": null,
            "order": null,
            "overflow": null,
            "overflow_x": null,
            "overflow_y": null,
            "padding": null,
            "right": null,
            "top": null,
            "visibility": null,
            "width": null
          }
        },
        "bcbbe8e45d4e42448f3deb64443a05bc": {
          "model_module": "@jupyter-widgets/controls",
          "model_module_version": "1.5.0",
          "model_name": "DescriptionStyleModel",
          "state": {
            "_model_module": "@jupyter-widgets/controls",
            "_model_module_version": "1.5.0",
            "_model_name": "DescriptionStyleModel",
            "_view_count": null,
            "_view_module": "@jupyter-widgets/base",
            "_view_module_version": "1.2.0",
            "_view_name": "StyleView",
            "description_width": ""
          }
        },
        "c048c18d5ea64dd3864540e1a8371092": {
          "model_module": "@jupyter-widgets/base",
          "model_module_version": "1.2.0",
          "model_name": "LayoutModel",
          "state": {
            "_model_module": "@jupyter-widgets/base",
            "_model_module_version": "1.2.0",
            "_model_name": "LayoutModel",
            "_view_count": null,
            "_view_module": "@jupyter-widgets/base",
            "_view_module_version": "1.2.0",
            "_view_name": "LayoutView",
            "align_content": null,
            "align_items": null,
            "align_self": null,
            "border": null,
            "bottom": null,
            "display": null,
            "flex": null,
            "flex_flow": null,
            "grid_area": null,
            "grid_auto_columns": null,
            "grid_auto_flow": null,
            "grid_auto_rows": null,
            "grid_column": null,
            "grid_gap": null,
            "grid_row": null,
            "grid_template_areas": null,
            "grid_template_columns": null,
            "grid_template_rows": null,
            "height": null,
            "justify_content": null,
            "justify_items": null,
            "left": null,
            "margin": null,
            "max_height": null,
            "max_width": null,
            "min_height": null,
            "min_width": null,
            "object_fit": null,
            "object_position": null,
            "order": null,
            "overflow": null,
            "overflow_x": null,
            "overflow_y": null,
            "padding": null,
            "right": null,
            "top": null,
            "visibility": null,
            "width": null
          }
        },
        "c20f197915cf454097d13542ae1872af": {
          "model_module": "@jupyter-widgets/controls",
          "model_module_version": "1.5.0",
          "model_name": "HBoxModel",
          "state": {
            "_dom_classes": [],
            "_model_module": "@jupyter-widgets/controls",
            "_model_module_version": "1.5.0",
            "_model_name": "HBoxModel",
            "_view_count": null,
            "_view_module": "@jupyter-widgets/controls",
            "_view_module_version": "1.5.0",
            "_view_name": "HBoxView",
            "box_style": "",
            "children": [
              "IPY_MODEL_9620a6d547ef44b197f4cece0f11d731",
              "IPY_MODEL_999000c4231c4382b97793312d12e4a0",
              "IPY_MODEL_fc08cc392da949c7a86207899775dec8"
            ],
            "layout": "IPY_MODEL_98c0b6c7693f4777be3d9476dcddbb72"
          }
        },
        "ca0735564cfb43fba9cd1bb7c26aba70": {
          "model_module": "@jupyter-widgets/controls",
          "model_module_version": "1.5.0",
          "model_name": "ProgressStyleModel",
          "state": {
            "_model_module": "@jupyter-widgets/controls",
            "_model_module_version": "1.5.0",
            "_model_name": "ProgressStyleModel",
            "_view_count": null,
            "_view_module": "@jupyter-widgets/base",
            "_view_module_version": "1.2.0",
            "_view_name": "StyleView",
            "bar_color": null,
            "description_width": ""
          }
        },
        "cb97f23229e04d64a23e172f8d853631": {
          "model_module": "@jupyter-widgets/controls",
          "model_module_version": "1.5.0",
          "model_name": "FloatProgressModel",
          "state": {
            "_dom_classes": [],
            "_model_module": "@jupyter-widgets/controls",
            "_model_module_version": "1.5.0",
            "_model_name": "FloatProgressModel",
            "_view_count": null,
            "_view_module": "@jupyter-widgets/controls",
            "_view_module_version": "1.5.0",
            "_view_name": "ProgressView",
            "bar_style": "success",
            "description": "",
            "description_tooltip": null,
            "layout": "IPY_MODEL_f0812b238f3b446d8d557739e3885af5",
            "max": 895321,
            "min": 0,
            "orientation": "horizontal",
            "style": "IPY_MODEL_ca0735564cfb43fba9cd1bb7c26aba70",
            "value": 895321
          }
        },
        "ce287e97615a4670a4950b862a962629": {
          "model_module": "@jupyter-widgets/controls",
          "model_module_version": "1.5.0",
          "model_name": "HTMLModel",
          "state": {
            "_dom_classes": [],
            "_model_module": "@jupyter-widgets/controls",
            "_model_module_version": "1.5.0",
            "_model_name": "HTMLModel",
            "_view_count": null,
            "_view_module": "@jupyter-widgets/controls",
            "_view_module_version": "1.5.0",
            "_view_name": "HTMLView",
            "description": "",
            "description_tooltip": null,
            "layout": "IPY_MODEL_10e88dc3126f4d4487b97aa3953f4afe",
            "placeholder": "​",
            "style": "IPY_MODEL_2acdbf021edb4c71bc30989fefef1d33",
            "value": " 543M/543M [00:02&lt;00:00, 259MB/s]"
          }
        },
        "d0a4cc358d54435aab7b849a3c0beabc": {
          "model_module": "@jupyter-widgets/controls",
          "model_module_version": "1.5.0",
          "model_name": "DescriptionStyleModel",
          "state": {
            "_model_module": "@jupyter-widgets/controls",
            "_model_module_version": "1.5.0",
            "_model_name": "DescriptionStyleModel",
            "_view_count": null,
            "_view_module": "@jupyter-widgets/base",
            "_view_module_version": "1.2.0",
            "_view_name": "StyleView",
            "description_width": ""
          }
        },
        "d167c6c75eed4b1b8ba58a7eb617ed86": {
          "model_module": "@jupyter-widgets/controls",
          "model_module_version": "1.5.0",
          "model_name": "DescriptionStyleModel",
          "state": {
            "_model_module": "@jupyter-widgets/controls",
            "_model_module_version": "1.5.0",
            "_model_name": "DescriptionStyleModel",
            "_view_count": null,
            "_view_module": "@jupyter-widgets/base",
            "_view_module_version": "1.2.0",
            "_view_name": "StyleView",
            "description_width": ""
          }
        },
        "d768e298f681447dba0de1bd4363cf08": {
          "model_module": "@jupyter-widgets/controls",
          "model_module_version": "1.5.0",
          "model_name": "FloatProgressModel",
          "state": {
            "_dom_classes": [],
            "_model_module": "@jupyter-widgets/controls",
            "_model_module_version": "1.5.0",
            "_model_name": "FloatProgressModel",
            "_view_count": null,
            "_view_module": "@jupyter-widgets/controls",
            "_view_module_version": "1.5.0",
            "_view_name": "ProgressView",
            "bar_style": "success",
            "description": "",
            "description_tooltip": null,
            "layout": "IPY_MODEL_2509deae1e3440e4963b743342463c37",
            "max": 542923308,
            "min": 0,
            "orientation": "horizontal",
            "style": "IPY_MODEL_ed3a3710648c48e69bb0308a5508a106",
            "value": 542923308
          }
        },
        "dc6289b401cd49a8abb73f4896774990": {
          "model_module": "@jupyter-widgets/base",
          "model_module_version": "1.2.0",
          "model_name": "LayoutModel",
          "state": {
            "_model_module": "@jupyter-widgets/base",
            "_model_module_version": "1.2.0",
            "_model_name": "LayoutModel",
            "_view_count": null,
            "_view_module": "@jupyter-widgets/base",
            "_view_module_version": "1.2.0",
            "_view_name": "LayoutView",
            "align_content": null,
            "align_items": null,
            "align_self": null,
            "border": null,
            "bottom": null,
            "display": null,
            "flex": null,
            "flex_flow": null,
            "grid_area": null,
            "grid_auto_columns": null,
            "grid_auto_flow": null,
            "grid_auto_rows": null,
            "grid_column": null,
            "grid_gap": null,
            "grid_row": null,
            "grid_template_areas": null,
            "grid_template_columns": null,
            "grid_template_rows": null,
            "height": null,
            "justify_content": null,
            "justify_items": null,
            "left": null,
            "margin": null,
            "max_height": null,
            "max_width": null,
            "min_height": null,
            "min_width": null,
            "object_fit": null,
            "object_position": null,
            "order": null,
            "overflow": null,
            "overflow_x": null,
            "overflow_y": null,
            "padding": null,
            "right": null,
            "top": null,
            "visibility": null,
            "width": null
          }
        },
        "e20e97939bee47b49bef2b410afcd265": {
          "model_module": "@jupyter-widgets/base",
          "model_module_version": "1.2.0",
          "model_name": "LayoutModel",
          "state": {
            "_model_module": "@jupyter-widgets/base",
            "_model_module_version": "1.2.0",
            "_model_name": "LayoutModel",
            "_view_count": null,
            "_view_module": "@jupyter-widgets/base",
            "_view_module_version": "1.2.0",
            "_view_name": "LayoutView",
            "align_content": null,
            "align_items": null,
            "align_self": null,
            "border": null,
            "bottom": null,
            "display": null,
            "flex": null,
            "flex_flow": null,
            "grid_area": null,
            "grid_auto_columns": null,
            "grid_auto_flow": null,
            "grid_auto_rows": null,
            "grid_column": null,
            "grid_gap": null,
            "grid_row": null,
            "grid_template_areas": null,
            "grid_template_columns": null,
            "grid_template_rows": null,
            "height": null,
            "justify_content": null,
            "justify_items": null,
            "left": null,
            "margin": null,
            "max_height": null,
            "max_width": null,
            "min_height": null,
            "min_width": null,
            "object_fit": null,
            "object_position": null,
            "order": null,
            "overflow": null,
            "overflow_x": null,
            "overflow_y": null,
            "padding": null,
            "right": null,
            "top": null,
            "visibility": null,
            "width": null
          }
        },
        "e8e6a8623b5045fd8c3df36692569031": {
          "model_module": "@jupyter-widgets/controls",
          "model_module_version": "1.5.0",
          "model_name": "ProgressStyleModel",
          "state": {
            "_model_module": "@jupyter-widgets/controls",
            "_model_module_version": "1.5.0",
            "_model_name": "ProgressStyleModel",
            "_view_count": null,
            "_view_module": "@jupyter-widgets/base",
            "_view_module_version": "1.2.0",
            "_view_name": "StyleView",
            "bar_color": null,
            "description_width": ""
          }
        },
        "ed3a3710648c48e69bb0308a5508a106": {
          "model_module": "@jupyter-widgets/controls",
          "model_module_version": "1.5.0",
          "model_name": "ProgressStyleModel",
          "state": {
            "_model_module": "@jupyter-widgets/controls",
            "_model_module_version": "1.5.0",
            "_model_name": "ProgressStyleModel",
            "_view_count": null,
            "_view_module": "@jupyter-widgets/base",
            "_view_module_version": "1.2.0",
            "_view_name": "StyleView",
            "bar_color": null,
            "description_width": ""
          }
        },
        "f0812b238f3b446d8d557739e3885af5": {
          "model_module": "@jupyter-widgets/base",
          "model_module_version": "1.2.0",
          "model_name": "LayoutModel",
          "state": {
            "_model_module": "@jupyter-widgets/base",
            "_model_module_version": "1.2.0",
            "_model_name": "LayoutModel",
            "_view_count": null,
            "_view_module": "@jupyter-widgets/base",
            "_view_module_version": "1.2.0",
            "_view_name": "LayoutView",
            "align_content": null,
            "align_items": null,
            "align_self": null,
            "border": null,
            "bottom": null,
            "display": null,
            "flex": null,
            "flex_flow": null,
            "grid_area": null,
            "grid_auto_columns": null,
            "grid_auto_flow": null,
            "grid_auto_rows": null,
            "grid_column": null,
            "grid_gap": null,
            "grid_row": null,
            "grid_template_areas": null,
            "grid_template_columns": null,
            "grid_template_rows": null,
            "height": null,
            "justify_content": null,
            "justify_items": null,
            "left": null,
            "margin": null,
            "max_height": null,
            "max_width": null,
            "min_height": null,
            "min_width": null,
            "object_fit": null,
            "object_position": null,
            "order": null,
            "overflow": null,
            "overflow_x": null,
            "overflow_y": null,
            "padding": null,
            "right": null,
            "top": null,
            "visibility": null,
            "width": null
          }
        },
        "f5d2febff0a545ada3775470f5aa9894": {
          "model_module": "@jupyter-widgets/base",
          "model_module_version": "1.2.0",
          "model_name": "LayoutModel",
          "state": {
            "_model_module": "@jupyter-widgets/base",
            "_model_module_version": "1.2.0",
            "_model_name": "LayoutModel",
            "_view_count": null,
            "_view_module": "@jupyter-widgets/base",
            "_view_module_version": "1.2.0",
            "_view_name": "LayoutView",
            "align_content": null,
            "align_items": null,
            "align_self": null,
            "border": null,
            "bottom": null,
            "display": null,
            "flex": null,
            "flex_flow": null,
            "grid_area": null,
            "grid_auto_columns": null,
            "grid_auto_flow": null,
            "grid_auto_rows": null,
            "grid_column": null,
            "grid_gap": null,
            "grid_row": null,
            "grid_template_areas": null,
            "grid_template_columns": null,
            "grid_template_rows": null,
            "height": null,
            "justify_content": null,
            "justify_items": null,
            "left": null,
            "margin": null,
            "max_height": null,
            "max_width": null,
            "min_height": null,
            "min_width": null,
            "object_fit": null,
            "object_position": null,
            "order": null,
            "overflow": null,
            "overflow_x": null,
            "overflow_y": null,
            "padding": null,
            "right": null,
            "top": null,
            "visibility": null,
            "width": null
          }
        },
        "fc08cc392da949c7a86207899775dec8": {
          "model_module": "@jupyter-widgets/controls",
          "model_module_version": "1.5.0",
          "model_name": "HTMLModel",
          "state": {
            "_dom_classes": [],
            "_model_module": "@jupyter-widgets/controls",
            "_model_module_version": "1.5.0",
            "_model_name": "HTMLModel",
            "_view_count": null,
            "_view_module": "@jupyter-widgets/controls",
            "_view_module_version": "1.5.0",
            "_view_name": "HTMLView",
            "description": "",
            "description_tooltip": null,
            "layout": "IPY_MODEL_379e47305a0b4a058a9fb499f01d6121",
            "placeholder": "​",
            "style": "IPY_MODEL_bcbbe8e45d4e42448f3deb64443a05bc",
            "value": " 1.14M/1.14M [00:00&lt;00:00, 26.6MB/s]"
          }
        },
        "febecfbabd6c4ce49e8d157f54842933": {
          "model_module": "@jupyter-widgets/base",
          "model_module_version": "1.2.0",
          "model_name": "LayoutModel",
          "state": {
            "_model_module": "@jupyter-widgets/base",
            "_model_module_version": "1.2.0",
            "_model_name": "LayoutModel",
            "_view_count": null,
            "_view_module": "@jupyter-widgets/base",
            "_view_module_version": "1.2.0",
            "_view_name": "LayoutView",
            "align_content": null,
            "align_items": null,
            "align_self": null,
            "border": null,
            "bottom": null,
            "display": null,
            "flex": null,
            "flex_flow": null,
            "grid_area": null,
            "grid_auto_columns": null,
            "grid_auto_flow": null,
            "grid_auto_rows": null,
            "grid_column": null,
            "grid_gap": null,
            "grid_row": null,
            "grid_template_areas": null,
            "grid_template_columns": null,
            "grid_template_rows": null,
            "height": null,
            "justify_content": null,
            "justify_items": null,
            "left": null,
            "margin": null,
            "max_height": null,
            "max_width": null,
            "min_height": null,
            "min_width": null,
            "object_fit": null,
            "object_position": null,
            "order": null,
            "overflow": null,
            "overflow_x": null,
            "overflow_y": null,
            "padding": null,
            "right": null,
            "top": null,
            "visibility": null,
            "width": null
          }
        }
      }
    }
  },
  "nbformat": 4,
  "nbformat_minor": 0
}
