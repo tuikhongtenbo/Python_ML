{
 "cells": [
  {
   "cell_type": "markdown",
   "metadata": {},
   "source": [
    "### Face Detection using PCA\n",
    "\n",
    "Using PCA mechanism to correctly assign the face images to persons on the [Yale Face Dataset](https://vismod.media.mit.edu/vismod/classes/mas622-00/datasets/). Download the training data and testing data in this link."
   ]
  },
  {
   "cell_type": "markdown",
   "metadata": {},
   "source": [
    "#### Assignment 1 (4 scores): Implement PCA using Numpy."
   ]
  },
  {
   "cell_type": "markdown",
   "metadata": {},
   "source": [
    "#### Assignment 2 (4 scores):\n",
    "- Reading the training images.\n",
    "- Approximating the Principle Space having **20 dimensions**.\n",
    "- Visualize the base of this Principle Space."
   ]
  },
  {
   "cell_type": "markdown",
   "metadata": {},
   "source": [
    "#### Assignment 3 (2 scores): \n",
    "- Assign persons to the face images in testing data.\n",
    "- Evaluate the accuracy of this face recognition system."
   ]
  }
 ],
 "metadata": {
  "language_info": {
   "name": "python"
  }
 },
 "nbformat": 4,
 "nbformat_minor": 2
}
