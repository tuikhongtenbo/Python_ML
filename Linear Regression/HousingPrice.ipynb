{
 "cells": [
  {
   "cell_type": "code",
   "execution_count": 92,
   "metadata": {},
   "outputs": [],
   "source": [
    "import numpy as np\n",
    "import pandas as pd\n",
    "import matplotlib.pyplot as plt"
   ]
  },
  {
   "cell_type": "code",
   "execution_count": 93,
   "metadata": {},
   "outputs": [],
   "source": [
    "df = pd.read_csv('Housing.csv')"
   ]
  },
  {
   "cell_type": "code",
   "execution_count": 94,
   "metadata": {},
   "outputs": [
    {
     "data": {
      "text/html": [
       "<div>\n",
       "<style scoped>\n",
       "    .dataframe tbody tr th:only-of-type {\n",
       "        vertical-align: middle;\n",
       "    }\n",
       "\n",
       "    .dataframe tbody tr th {\n",
       "        vertical-align: top;\n",
       "    }\n",
       "\n",
       "    .dataframe thead th {\n",
       "        text-align: right;\n",
       "    }\n",
       "</style>\n",
       "<table border=\"1\" class=\"dataframe\">\n",
       "  <thead>\n",
       "    <tr style=\"text-align: right;\">\n",
       "      <th></th>\n",
       "      <th>price</th>\n",
       "      <th>area</th>\n",
       "      <th>bedrooms</th>\n",
       "      <th>bathrooms</th>\n",
       "      <th>stories</th>\n",
       "      <th>mainroad</th>\n",
       "      <th>guestroom</th>\n",
       "      <th>basement</th>\n",
       "      <th>hotwaterheating</th>\n",
       "      <th>airconditioning</th>\n",
       "      <th>parking</th>\n",
       "      <th>prefarea</th>\n",
       "      <th>furnishingstatus</th>\n",
       "    </tr>\n",
       "  </thead>\n",
       "  <tbody>\n",
       "    <tr>\n",
       "      <th>0</th>\n",
       "      <td>13300000</td>\n",
       "      <td>7420</td>\n",
       "      <td>4</td>\n",
       "      <td>2</td>\n",
       "      <td>3</td>\n",
       "      <td>yes</td>\n",
       "      <td>no</td>\n",
       "      <td>no</td>\n",
       "      <td>no</td>\n",
       "      <td>yes</td>\n",
       "      <td>2</td>\n",
       "      <td>yes</td>\n",
       "      <td>furnished</td>\n",
       "    </tr>\n",
       "    <tr>\n",
       "      <th>1</th>\n",
       "      <td>12250000</td>\n",
       "      <td>8960</td>\n",
       "      <td>4</td>\n",
       "      <td>4</td>\n",
       "      <td>4</td>\n",
       "      <td>yes</td>\n",
       "      <td>no</td>\n",
       "      <td>no</td>\n",
       "      <td>no</td>\n",
       "      <td>yes</td>\n",
       "      <td>3</td>\n",
       "      <td>no</td>\n",
       "      <td>furnished</td>\n",
       "    </tr>\n",
       "    <tr>\n",
       "      <th>2</th>\n",
       "      <td>12250000</td>\n",
       "      <td>9960</td>\n",
       "      <td>3</td>\n",
       "      <td>2</td>\n",
       "      <td>2</td>\n",
       "      <td>yes</td>\n",
       "      <td>no</td>\n",
       "      <td>yes</td>\n",
       "      <td>no</td>\n",
       "      <td>no</td>\n",
       "      <td>2</td>\n",
       "      <td>yes</td>\n",
       "      <td>semi-furnished</td>\n",
       "    </tr>\n",
       "    <tr>\n",
       "      <th>3</th>\n",
       "      <td>12215000</td>\n",
       "      <td>7500</td>\n",
       "      <td>4</td>\n",
       "      <td>2</td>\n",
       "      <td>2</td>\n",
       "      <td>yes</td>\n",
       "      <td>no</td>\n",
       "      <td>yes</td>\n",
       "      <td>no</td>\n",
       "      <td>yes</td>\n",
       "      <td>3</td>\n",
       "      <td>yes</td>\n",
       "      <td>furnished</td>\n",
       "    </tr>\n",
       "    <tr>\n",
       "      <th>4</th>\n",
       "      <td>11410000</td>\n",
       "      <td>7420</td>\n",
       "      <td>4</td>\n",
       "      <td>1</td>\n",
       "      <td>2</td>\n",
       "      <td>yes</td>\n",
       "      <td>yes</td>\n",
       "      <td>yes</td>\n",
       "      <td>no</td>\n",
       "      <td>yes</td>\n",
       "      <td>2</td>\n",
       "      <td>no</td>\n",
       "      <td>furnished</td>\n",
       "    </tr>\n",
       "    <tr>\n",
       "      <th>...</th>\n",
       "      <td>...</td>\n",
       "      <td>...</td>\n",
       "      <td>...</td>\n",
       "      <td>...</td>\n",
       "      <td>...</td>\n",
       "      <td>...</td>\n",
       "      <td>...</td>\n",
       "      <td>...</td>\n",
       "      <td>...</td>\n",
       "      <td>...</td>\n",
       "      <td>...</td>\n",
       "      <td>...</td>\n",
       "      <td>...</td>\n",
       "    </tr>\n",
       "    <tr>\n",
       "      <th>540</th>\n",
       "      <td>1820000</td>\n",
       "      <td>3000</td>\n",
       "      <td>2</td>\n",
       "      <td>1</td>\n",
       "      <td>1</td>\n",
       "      <td>yes</td>\n",
       "      <td>no</td>\n",
       "      <td>yes</td>\n",
       "      <td>no</td>\n",
       "      <td>no</td>\n",
       "      <td>2</td>\n",
       "      <td>no</td>\n",
       "      <td>unfurnished</td>\n",
       "    </tr>\n",
       "    <tr>\n",
       "      <th>541</th>\n",
       "      <td>1767150</td>\n",
       "      <td>2400</td>\n",
       "      <td>3</td>\n",
       "      <td>1</td>\n",
       "      <td>1</td>\n",
       "      <td>no</td>\n",
       "      <td>no</td>\n",
       "      <td>no</td>\n",
       "      <td>no</td>\n",
       "      <td>no</td>\n",
       "      <td>0</td>\n",
       "      <td>no</td>\n",
       "      <td>semi-furnished</td>\n",
       "    </tr>\n",
       "    <tr>\n",
       "      <th>542</th>\n",
       "      <td>1750000</td>\n",
       "      <td>3620</td>\n",
       "      <td>2</td>\n",
       "      <td>1</td>\n",
       "      <td>1</td>\n",
       "      <td>yes</td>\n",
       "      <td>no</td>\n",
       "      <td>no</td>\n",
       "      <td>no</td>\n",
       "      <td>no</td>\n",
       "      <td>0</td>\n",
       "      <td>no</td>\n",
       "      <td>unfurnished</td>\n",
       "    </tr>\n",
       "    <tr>\n",
       "      <th>543</th>\n",
       "      <td>1750000</td>\n",
       "      <td>2910</td>\n",
       "      <td>3</td>\n",
       "      <td>1</td>\n",
       "      <td>1</td>\n",
       "      <td>no</td>\n",
       "      <td>no</td>\n",
       "      <td>no</td>\n",
       "      <td>no</td>\n",
       "      <td>no</td>\n",
       "      <td>0</td>\n",
       "      <td>no</td>\n",
       "      <td>furnished</td>\n",
       "    </tr>\n",
       "    <tr>\n",
       "      <th>544</th>\n",
       "      <td>1750000</td>\n",
       "      <td>3850</td>\n",
       "      <td>3</td>\n",
       "      <td>1</td>\n",
       "      <td>2</td>\n",
       "      <td>yes</td>\n",
       "      <td>no</td>\n",
       "      <td>no</td>\n",
       "      <td>no</td>\n",
       "      <td>no</td>\n",
       "      <td>0</td>\n",
       "      <td>no</td>\n",
       "      <td>unfurnished</td>\n",
       "    </tr>\n",
       "  </tbody>\n",
       "</table>\n",
       "<p>545 rows × 13 columns</p>\n",
       "</div>"
      ],
      "text/plain": [
       "        price  area  bedrooms  bathrooms  stories mainroad guestroom basement  \\\n",
       "0    13300000  7420         4          2        3      yes        no       no   \n",
       "1    12250000  8960         4          4        4      yes        no       no   \n",
       "2    12250000  9960         3          2        2      yes        no      yes   \n",
       "3    12215000  7500         4          2        2      yes        no      yes   \n",
       "4    11410000  7420         4          1        2      yes       yes      yes   \n",
       "..        ...   ...       ...        ...      ...      ...       ...      ...   \n",
       "540   1820000  3000         2          1        1      yes        no      yes   \n",
       "541   1767150  2400         3          1        1       no        no       no   \n",
       "542   1750000  3620         2          1        1      yes        no       no   \n",
       "543   1750000  2910         3          1        1       no        no       no   \n",
       "544   1750000  3850         3          1        2      yes        no       no   \n",
       "\n",
       "    hotwaterheating airconditioning  parking prefarea furnishingstatus  \n",
       "0                no             yes        2      yes        furnished  \n",
       "1                no             yes        3       no        furnished  \n",
       "2                no              no        2      yes   semi-furnished  \n",
       "3                no             yes        3      yes        furnished  \n",
       "4                no             yes        2       no        furnished  \n",
       "..              ...             ...      ...      ...              ...  \n",
       "540              no              no        2       no      unfurnished  \n",
       "541              no              no        0       no   semi-furnished  \n",
       "542              no              no        0       no      unfurnished  \n",
       "543              no              no        0       no        furnished  \n",
       "544              no              no        0       no      unfurnished  \n",
       "\n",
       "[545 rows x 13 columns]"
      ]
     },
     "execution_count": 94,
     "metadata": {},
     "output_type": "execute_result"
    }
   ],
   "source": [
    "df"
   ]
  },
  {
   "cell_type": "code",
   "execution_count": 95,
   "metadata": {},
   "outputs": [],
   "source": [
    "df = df.drop(columns='bathrooms')\n",
    "df = df.drop(columns='bedrooms')\n",
    "df = df.drop(columns='stories')\n",
    "df = df.drop(columns='guestroom')\n",
    "df = df.drop(columns='mainroad')\n",
    "df = df.drop(columns='basement')\n",
    "df = df.drop(columns='hotwaterheating')\n",
    "df = df.drop(columns='airconditioning')\n",
    "df = df.drop(columns='parking')\n",
    "df = df.drop(columns='prefarea')\n",
    "df = df.drop(columns='furnishingstatus')"
   ]
  },
  {
   "cell_type": "code",
   "execution_count": 106,
   "metadata": {},
   "outputs": [
    {
     "data": {
      "text/html": [
       "<div>\n",
       "<style scoped>\n",
       "    .dataframe tbody tr th:only-of-type {\n",
       "        vertical-align: middle;\n",
       "    }\n",
       "\n",
       "    .dataframe tbody tr th {\n",
       "        vertical-align: top;\n",
       "    }\n",
       "\n",
       "    .dataframe thead th {\n",
       "        text-align: right;\n",
       "    }\n",
       "</style>\n",
       "<table border=\"1\" class=\"dataframe\">\n",
       "  <thead>\n",
       "    <tr style=\"text-align: right;\">\n",
       "      <th></th>\n",
       "      <th>price</th>\n",
       "      <th>area</th>\n",
       "    </tr>\n",
       "  </thead>\n",
       "  <tbody>\n",
       "    <tr>\n",
       "      <th>0</th>\n",
       "      <td>13300000</td>\n",
       "      <td>7420</td>\n",
       "    </tr>\n",
       "    <tr>\n",
       "      <th>1</th>\n",
       "      <td>12250000</td>\n",
       "      <td>8960</td>\n",
       "    </tr>\n",
       "    <tr>\n",
       "      <th>2</th>\n",
       "      <td>12250000</td>\n",
       "      <td>9960</td>\n",
       "    </tr>\n",
       "    <tr>\n",
       "      <th>3</th>\n",
       "      <td>12215000</td>\n",
       "      <td>7500</td>\n",
       "    </tr>\n",
       "    <tr>\n",
       "      <th>4</th>\n",
       "      <td>11410000</td>\n",
       "      <td>7420</td>\n",
       "    </tr>\n",
       "  </tbody>\n",
       "</table>\n",
       "</div>"
      ],
      "text/plain": [
       "      price  area\n",
       "0  13300000  7420\n",
       "1  12250000  8960\n",
       "2  12250000  9960\n",
       "3  12215000  7500\n",
       "4  11410000  7420"
      ]
     },
     "execution_count": 106,
     "metadata": {},
     "output_type": "execute_result"
    }
   ],
   "source": [
    "df.head()"
   ]
  },
  {
   "cell_type": "code",
   "execution_count": 149,
   "metadata": {},
   "outputs": [],
   "source": [
    "from sklearn.datasets import make_regression\n",
    "from sklearn.model_selection import train_test_split\n",
    "from sklearn.preprocessing import MinMaxScaler"
   ]
  },
  {
   "cell_type": "code",
   "execution_count": 177,
   "metadata": {},
   "outputs": [
    {
     "data": {
      "image/png": "[encoded data removed]",
      "text/plain": [
       "<Figure size 750x750 with 1 Axes>"
      ]
     },
     "metadata": {},
     "output_type": "display_data"
    }
   ],
   "source": [
    "fig = plt.figure(figsize=(5, 5), dpi=150)\n",
    "plt.scatter(X_train, y_train, color='red', label='Train Data')\n",
    "plt.scatter(X_test, y_test, color='blue', label='Test Data')\n",
    "plt.legend()\n",
    "plt.show()"
   ]
  },
  {
   "cell_type": "code",
   "execution_count": null,
   "metadata": {},
   "outputs": [],
   "source": [
    "X = df[['price', 'area']]"
   ]
  },
  {
   "cell_type": "code",
   "execution_count": 188,
   "metadata": {},
   "outputs": [
    {
     "data": {
      "text/html": [
       "<div>\n",
       "<style scoped>\n",
       "    .dataframe tbody tr th:only-of-type {\n",
       "        vertical-align: middle;\n",
       "    }\n",
       "\n",
       "    .dataframe tbody tr th {\n",
       "        vertical-align: top;\n",
       "    }\n",
       "\n",
       "    .dataframe thead th {\n",
       "        text-align: right;\n",
       "    }\n",
       "</style>\n",
       "<table border=\"1\" class=\"dataframe\">\n",
       "  <thead>\n",
       "    <tr style=\"text-align: right;\">\n",
       "      <th></th>\n",
       "      <th>price</th>\n",
       "      <th>area</th>\n",
       "    </tr>\n",
       "  </thead>\n",
       "  <tbody>\n",
       "    <tr>\n",
       "      <th>0</th>\n",
       "      <td>13300000</td>\n",
       "      <td>7420</td>\n",
       "    </tr>\n",
       "    <tr>\n",
       "      <th>1</th>\n",
       "      <td>12250000</td>\n",
       "      <td>8960</td>\n",
       "    </tr>\n",
       "    <tr>\n",
       "      <th>2</th>\n",
       "      <td>12250000</td>\n",
       "      <td>9960</td>\n",
       "    </tr>\n",
       "    <tr>\n",
       "      <th>3</th>\n",
       "      <td>12215000</td>\n",
       "      <td>7500</td>\n",
       "    </tr>\n",
       "    <tr>\n",
       "      <th>4</th>\n",
       "      <td>11410000</td>\n",
       "      <td>7420</td>\n",
       "    </tr>\n",
       "    <tr>\n",
       "      <th>...</th>\n",
       "      <td>...</td>\n",
       "      <td>...</td>\n",
       "    </tr>\n",
       "    <tr>\n",
       "      <th>540</th>\n",
       "      <td>1820000</td>\n",
       "      <td>3000</td>\n",
       "    </tr>\n",
       "    <tr>\n",
       "      <th>541</th>\n",
       "      <td>1767150</td>\n",
       "      <td>2400</td>\n",
       "    </tr>\n",
       "    <tr>\n",
       "      <th>542</th>\n",
       "      <td>1750000</td>\n",
       "      <td>3620</td>\n",
       "    </tr>\n",
       "    <tr>\n",
       "      <th>543</th>\n",
       "      <td>1750000</td>\n",
       "      <td>2910</td>\n",
       "    </tr>\n",
       "    <tr>\n",
       "      <th>544</th>\n",
       "      <td>1750000</td>\n",
       "      <td>3850</td>\n",
       "    </tr>\n",
       "  </tbody>\n",
       "</table>\n",
       "<p>545 rows × 2 columns</p>\n",
       "</div>"
      ],
      "text/plain": [
       "        price  area\n",
       "0    13300000  7420\n",
       "1    12250000  8960\n",
       "2    12250000  9960\n",
       "3    12215000  7500\n",
       "4    11410000  7420\n",
       "..        ...   ...\n",
       "540   1820000  3000\n",
       "541   1767150  2400\n",
       "542   1750000  3620\n",
       "543   1750000  2910\n",
       "544   1750000  3850\n",
       "\n",
       "[545 rows x 2 columns]"
      ]
     },
     "execution_count": 188,
     "metadata": {},
     "output_type": "execute_result"
    }
   ],
   "source": [
    "X"
   ]
  },
  {
   "cell_type": "code",
   "execution_count": 189,
   "metadata": {},
   "outputs": [
    {
     "data": {
      "text/plain": [
       "<bound method NDFrame.to_xarray of         price  area\n",
       "0    13300000  7420\n",
       "1    12250000  8960\n",
       "2    12250000  9960\n",
       "3    12215000  7500\n",
       "4    11410000  7420\n",
       "..        ...   ...\n",
       "540   1820000  3000\n",
       "541   1767150  2400\n",
       "542   1750000  3620\n",
       "543   1750000  2910\n",
       "544   1750000  3850\n",
       "\n",
       "[545 rows x 2 columns]>"
      ]
     },
     "execution_count": 189,
     "metadata": {},
     "output_type": "execute_result"
    }
   ],
   "source": [
    "X.to_xarray"
   ]
  },
  {
   "cell_type": "code",
   "execution_count": 200,
   "metadata": {},
   "outputs": [
    {
     "data": {
      "text/plain": [
       "545"
      ]
     },
     "execution_count": 200,
     "metadata": {},
     "output_type": "execute_result"
    }
   ],
   "source": [
    "X['area'].size"
   ]
  },
  {
   "cell_type": "code",
   "execution_count": 206,
   "metadata": {},
   "outputs": [],
   "source": [
    "scaler = MinMaxScaler()\n",
    "model=scaler.fit(X)\n",
    "scaled_data=model.transform(X)"
   ]
  },
  {
   "cell_type": "code",
   "execution_count": 209,
   "metadata": {},
   "outputs": [],
   "source": [
    "X=scaled_data"
   ]
  },
  {
   "cell_type": "code",
   "execution_count": 212,
   "metadata": {},
   "outputs": [
    {
     "data": {
      "text/plain": [
       "array([[1.        , 0.39656357],\n",
       "       [0.90909091, 0.5024055 ],\n",
       "       [0.90909091, 0.57113402],\n",
       "       ...,\n",
       "       [0.        , 0.13539519],\n",
       "       [0.        , 0.08659794],\n",
       "       [0.        , 0.15120275]])"
      ]
     },
     "execution_count": 212,
     "metadata": {},
     "output_type": "execute_result"
    }
   ],
   "source": [
    "X"
   ]
  },
  {
   "cell_type": "code",
   "execution_count": 224,
   "metadata": {},
   "outputs": [
    {
     "data": {
      "text/plain": [
       "0.5024054982817869"
      ]
     },
     "execution_count": 224,
     "metadata": {},
     "output_type": "execute_result"
    }
   ],
   "source": [
    "X[1][1]"
   ]
  },
  {
   "cell_type": "code",
   "execution_count": 251,
   "metadata": {},
   "outputs": [],
   "source": [
    "y = [scaled_data[i][1] for i in range(0, 545)]\n",
    "X = [scaled_data[i][0] for i in range(0, 545)]"
   ]
  },
  {
   "cell_type": "code",
   "execution_count": 261,
   "metadata": {},
   "outputs": [],
   "source": [
    "X = np.array(X)"
   ]
  },
  {
   "cell_type": "code",
   "execution_count": 266,
   "metadata": {},
   "outputs": [
    {
     "data": {
      "text/plain": [
       "array([1.        , 0.90909091, 0.90909091, 0.90606061, 0.83636364,\n",
       "       0.78787879, 0.72727273, 0.72727273, 0.7030303 , 0.6969697 ,\n",
       "       0.6969697 , 0.68666667, 0.65454545, 0.64848485, 0.64848485,\n",
       "       0.63636364, 0.63636364, 0.62424242, 0.61818182, 0.61515152,\n",
       "       0.60606061, 0.6       , 0.5969697 , 0.5969697 , 0.59090909,\n",
       "       0.58787879, 0.58121212, 0.57575758, 0.57575758, 0.57575758,\n",
       "       0.57575758, 0.57575758, 0.56666667, 0.55757576, 0.55151515,\n",
       "       0.54813333, 0.54484848, 0.53939394, 0.53787879, 0.53333333,\n",
       "       0.53030303, 0.52727273, 0.51515152, 0.51515152, 0.5030303 ,\n",
       "       0.5030303 , 0.5       , 0.4969697 , 0.49393939, 0.49090909,\n",
       "       0.49090909, 0.49090909, 0.48484848, 0.48484848, 0.48484848,\n",
       "       0.48484848, 0.48424242, 0.47575758, 0.47272727, 0.47272727,\n",
       "       0.46666667, 0.46060606, 0.46060606, 0.45757576, 0.45454545,\n",
       "       0.44848485, 0.44848485, 0.44545455, 0.44242424, 0.43636364,\n",
       "       0.43636364, 0.43333333, 0.43030303, 0.42727273, 0.42424242,\n",
       "       0.42424242, 0.42424242, 0.42424242, 0.42424242, 0.42424242,\n",
       "       0.42242424, 0.42121212, 0.42121212, 0.41818182, 0.41212121,\n",
       "       0.41212121, 0.41212121, 0.40909091, 0.40909091, 0.40606061,\n",
       "       0.40606061, 0.40424242, 0.4030303 , 0.39393939, 0.39393939,\n",
       "       0.39393939, 0.39393939, 0.39393939, 0.39333333, 0.39090909,\n",
       "       0.38787879, 0.38787879, 0.38484848, 0.38484848, 0.38484848,\n",
       "       0.38181818, 0.38181818, 0.37878788, 0.37727273, 0.37575758,\n",
       "       0.37575758, 0.37575758, 0.37515152, 0.37515152, 0.36969697,\n",
       "       0.36969697, 0.36969697, 0.36363636, 0.36363636, 0.36363636,\n",
       "       0.36363636, 0.36363636, 0.36363636, 0.36363636, 0.36363636,\n",
       "       0.3630303 , 0.35757576, 0.35757576, 0.3569697 , 0.3569697 ,\n",
       "       0.35636364, 0.35151515, 0.35151515, 0.35151515, 0.35090909,\n",
       "       0.34848485, 0.34545455, 0.34545455, 0.34545455, 0.34545455,\n",
       "       0.34545455, 0.33787879, 0.33333333, 0.33333333, 0.33333333,\n",
       "       0.33333333, 0.33333333, 0.33333333, 0.33333333, 0.33333333,\n",
       "       0.33333333, 0.33030303, 0.33030303, 0.32727273, 0.32727273,\n",
       "       0.32727273, 0.32666667, 0.32424242, 0.32424242, 0.32121212,\n",
       "       0.32121212, 0.32121212, 0.32121212, 0.31818182, 0.31515152,\n",
       "       0.31454545, 0.30909091, 0.30606061, 0.3030303 , 0.3030303 ,\n",
       "       0.3030303 , 0.3030303 , 0.3030303 , 0.3030303 , 0.3030303 ,\n",
       "       0.3030303 , 0.3030303 , 0.30242424, 0.30121212, 0.3       ,\n",
       "       0.3       , 0.3       , 0.29393939, 0.29393939, 0.29090909,\n",
       "       0.29090909, 0.29090909, 0.29090909, 0.28787879, 0.28484848,\n",
       "       0.28484848, 0.28484848, 0.28484848, 0.28424242, 0.28181818,\n",
       "       0.27878788, 0.27878788, 0.27757576, 0.27575758, 0.27333333,\n",
       "       0.27272727, 0.27272727, 0.27272727, 0.27272727, 0.27272727,\n",
       "       0.27272727, 0.27272727, 0.27272727, 0.27272727, 0.27272727,\n",
       "       0.27272727, 0.27272727, 0.27212121, 0.27212121, 0.26969697,\n",
       "       0.26666667, 0.26666667, 0.26666667, 0.26666667, 0.26363636,\n",
       "       0.26363636, 0.26121212, 0.26060606, 0.26060606, 0.26060606,\n",
       "       0.26      , 0.25454545, 0.25454545, 0.25454545, 0.25454545,\n",
       "       0.25454545, 0.25454545, 0.25151515, 0.24848485, 0.24848485,\n",
       "       0.24848485, 0.24848485, 0.24848485, 0.24787879, 0.24545455,\n",
       "       0.24545455, 0.24242424, 0.24242424, 0.24242424, 0.24242424,\n",
       "       0.24242424, 0.24242424, 0.24242424, 0.24181818, 0.24181818,\n",
       "       0.23939394, 0.23939394, 0.23939394, 0.23939394, 0.23636364,\n",
       "       0.23636364, 0.23636364, 0.23636364, 0.23636364, 0.23575758,\n",
       "       0.23575758, 0.23575758, 0.23333333, 0.23030303, 0.23030303,\n",
       "       0.22969697, 0.22969697, 0.22969697, 0.22787879, 0.22727273,\n",
       "       0.22424242, 0.22424242, 0.22424242, 0.22424242, 0.22424242,\n",
       "       0.22242424, 0.22121212, 0.22121212, 0.21878788, 0.21818182,\n",
       "       0.21818182, 0.21818182, 0.21818182, 0.21818182, 0.21818182,\n",
       "       0.21515152, 0.21515152, 0.21212121, 0.21212121, 0.21212121,\n",
       "       0.21212121, 0.21212121, 0.21212121, 0.21212121, 0.21212121,\n",
       "       0.21212121, 0.21212121, 0.21212121, 0.21212121, 0.21212121,\n",
       "       0.21212121, 0.21212121, 0.21212121, 0.21212121, 0.21151515,\n",
       "       0.21151515, 0.20909091, 0.20909091, 0.20909091, 0.20606061,\n",
       "       0.20606061, 0.20545455, 0.20333333, 0.2030303 , 0.2030303 ,\n",
       "       0.2030303 , 0.2       , 0.2       , 0.2       , 0.2       ,\n",
       "       0.2       , 0.1969697 , 0.1969697 , 0.1969697 , 0.19545455,\n",
       "       0.19545455, 0.19393939, 0.19393939, 0.19393939, 0.19393939,\n",
       "       0.19393939, 0.18787879, 0.18787879, 0.18787879, 0.18787879,\n",
       "       0.18787879, 0.18787879, 0.18787879, 0.18484848, 0.18484848,\n",
       "       0.18181818, 0.18181818, 0.18181818, 0.18181818, 0.18181818,\n",
       "       0.18181818, 0.18181818, 0.18060606, 0.17878788, 0.17575758,\n",
       "       0.17575758, 0.17575758, 0.17575758, 0.17575758, 0.17575758,\n",
       "       0.17515152, 0.17515152, 0.17515152, 0.17272727, 0.16969697,\n",
       "       0.16969697, 0.16969697, 0.16969697, 0.16969697, 0.16909091,\n",
       "       0.16909091, 0.16666667, 0.16666667, 0.16666667, 0.16666667,\n",
       "       0.16363636, 0.16363636, 0.16363636, 0.16363636, 0.16363636,\n",
       "       0.16363636, 0.16363636, 0.16363636, 0.16363636, 0.1630303 ,\n",
       "       0.16060606, 0.16060606, 0.15757576, 0.15757576, 0.15757576,\n",
       "       0.15757576, 0.15454545, 0.15151515, 0.15151515, 0.15151515,\n",
       "       0.15151515, 0.15151515, 0.15151515, 0.15151515, 0.15151515,\n",
       "       0.15151515, 0.15151515, 0.15151515, 0.15151515, 0.15151515,\n",
       "       0.15151515, 0.15151515, 0.15151515, 0.15151515, 0.15090909,\n",
       "       0.14848485, 0.14848485, 0.14848485, 0.14545455, 0.14545455,\n",
       "       0.14545455, 0.14545455, 0.14545455, 0.14545455, 0.14484848,\n",
       "       0.14242424, 0.14242424, 0.14242424, 0.13939394, 0.13939394,\n",
       "       0.13939394, 0.13939394, 0.13939394, 0.13939394, 0.13939394,\n",
       "       0.13939394, 0.13878788, 0.1369697 , 0.13636364, 0.13636364,\n",
       "       0.13333333, 0.13333333, 0.13333333, 0.13333333, 0.13333333,\n",
       "       0.13333333, 0.13333333, 0.13333333, 0.13030303, 0.13030303,\n",
       "       0.12848485, 0.12727273, 0.12727273, 0.12727273, 0.12727273,\n",
       "       0.12121212, 0.12121212, 0.12121212, 0.12121212, 0.12121212,\n",
       "       0.12121212, 0.12121212, 0.12121212, 0.12121212, 0.12060606,\n",
       "       0.11939394, 0.11851515, 0.11818182, 0.11818182, 0.11818182,\n",
       "       0.11575758, 0.11515152, 0.11515152, 0.11515152, 0.11515152,\n",
       "       0.11212121, 0.10909091, 0.10909091, 0.10909091, 0.10909091,\n",
       "       0.10909091, 0.10909091, 0.10909091, 0.10848485, 0.10606061,\n",
       "       0.10484848, 0.1030303 , 0.1030303 , 0.1030303 , 0.1030303 ,\n",
       "       0.1030303 , 0.1030303 , 0.1030303 , 0.1030303 , 0.0969697 ,\n",
       "       0.0969697 , 0.0969697 , 0.0969697 , 0.09545455, 0.09393939,\n",
       "       0.09393939, 0.09393939, 0.09090909, 0.09090909, 0.08484848,\n",
       "       0.08484848, 0.08181818, 0.07878788, 0.07878788, 0.07878788,\n",
       "       0.07878788, 0.07878788, 0.07878788, 0.07878788, 0.07818182,\n",
       "       0.07818182, 0.07393939, 0.07272727, 0.07272727, 0.07272727,\n",
       "       0.06666667, 0.06666667, 0.06666667, 0.06363636, 0.06363636,\n",
       "       0.06060606, 0.06060606, 0.06060606, 0.06060606, 0.06060606,\n",
       "       0.06060606, 0.0569697 , 0.05454545, 0.05454545, 0.05454545,\n",
       "       0.05151515, 0.04848485, 0.04545455, 0.04545455, 0.04545455,\n",
       "       0.04242424, 0.04181818, 0.03333333, 0.03030303, 0.03030303,\n",
       "       0.03030303, 0.01818182, 0.01212121, 0.01212121, 0.00909091,\n",
       "       0.00606061, 0.00148485, 0.        , 0.        , 0.        ])"
      ]
     },
     "execution_count": 266,
     "metadata": {},
     "output_type": "execute_result"
    }
   ],
   "source": [
    "X.T"
   ]
  },
  {
   "cell_type": "code",
   "execution_count": null,
   "metadata": {},
   "outputs": [
    {
     "name": "stdout",
     "output_type": "stream",
     "text": [
      "weight:  0.647244180849322\n",
      "bias:  0.07052809072062706\n"
     ]
    }
   ],
   "source": [
    "epochs = 10000\n",
    "lr = 0.001\n",
    "n_sample = len(X)\n",
    "n_feature = 1\n",
    "\n",
    "weights = 1\n",
    "bias = 1\n",
    "for _ in range(epochs):\n",
    "    y_hat = X.T * weights + bias\n",
    "    d_dw = (1 / n_sample) * 2 * np.dot(X, y_hat - y)\n",
    "    d_db = (1 / n_sample) * 2 * np.sum(y_hat - y) \n",
    "    weights -= lr * d_dw\n",
    "    bias -= lr * d_db\n",
    "print('weight: ', weights)\n",
    "print('bias: ', bias)\n",
    "\n",
    "def predict(X):\n",
    "    return np.dot(X, weights) + bias"
   ]
  },
  {
   "cell_type": "code",
   "execution_count": 289,
   "metadata": {},
   "outputs": [],
   "source": [
    "X_train, X_test, y_train, y_test = train_test_split(X, y, test_size=0.2, random_state=42)"
   ]
  },
  {
   "cell_type": "code",
   "execution_count": 295,
   "metadata": {},
   "outputs": [
    {
     "name": "stderr",
     "output_type": "stream",
     "text": [
      "C:\\Users\\ply58\\AppData\\Local\\Temp\\ipykernel_79356\\2756192077.py:6: UserWarning: No data for colormapping provided via 'c'. Parameters 'cmap' will be ignored\n",
      "  plt.scatter(X, y, color='gray', cmap='Set2')\n",
      "C:\\Users\\ply58\\AppData\\Local\\Temp\\ipykernel_79356\\2756192077.py:8: UserWarning: No artists with labels found to put in legend.  Note that artists whose label start with an underscore are ignored when legend() is called with no argument.\n",
      "  plt.legend()\n"
     ]
    },
    {
     "data": {
      "image/png": "[encoded data removed]",
      "text/plain": [
       "<Figure size 750x750 with 1 Axes>"
      ]
     },
     "metadata": {},
     "output_type": "display_data"
    }
   ],
   "source": [
    "\n",
    "y_pred = predict(X_test)\n",
    "fig = plt.figure(figsize=(5, 5), dpi=150)\n",
    "plt.xlabel('area')\n",
    "plt.ylabel('price')\n",
    "plt.title('Housing Price')\n",
    "plt.scatter(X, y, color='gray', cmap='Set2')\n",
    "plt.plot(X_test, y_pred, color='red', lw=2)\n",
    "plt.legend()\n",
    "plt.show()"
   ]
  },
  {
   "cell_type": "code",
   "execution_count": null,
   "metadata": {},
   "outputs": [],
   "source": []
  }
 ],
 "metadata": {
  "kernelspec": {
   "display_name": "machinelearning",
   "language": "python",
   "name": "python3"
  },
  "language_info": {
   "codemirror_mode": {
    "name": "ipython",
    "version": 3
   },
   "file_extension": ".py",
   "mimetype": "text/x-python",
   "name": "python",
   "nbconvert_exporter": "python",
   "pygments_lexer": "ipython3",
   "version": "3.12.7"
  }
 },
 "nbformat": 4,
 "nbformat_minor": 2
}
