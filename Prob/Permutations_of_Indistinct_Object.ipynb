{
 "cells": [
  {
   "cell_type": "code",
   "execution_count": 2,
   "metadata": {},
   "outputs": [
    {
     "name": "stdout",
     "output_type": "stream",
     "text": [
      "babo\n",
      "aobb\n",
      "boab\n",
      "boba\n",
      "obab\n",
      "oabb\n",
      "bboa\n",
      "bbao\n",
      "abbo\n",
      "baob\n",
      "abob\n",
      "obba\n"
     ]
    }
   ],
   "source": [
    "import itertools\n",
    "\n",
    "def main():\n",
    "    letters = ['b', 'o', 'b', 'a']\n",
    "    perms = set(itertools.permutations(letters))\n",
    "    for perm in perms:\n",
    "        pretty_perm = \"\".join(perm)\n",
    "        print(pretty_perm) \n",
    "main()"
   ]
  },
  {
   "cell_type": "code",
   "execution_count": null,
   "metadata": {},
   "outputs": [],
   "source": []
  }
 ],
 "metadata": {
  "kernelspec": {
   "display_name": "machinelearning",
   "language": "python",
   "name": "python3"
  },
  "language_info": {
   "codemirror_mode": {
    "name": "ipython",
    "version": 3
   },
   "file_extension": ".py",
   "mimetype": "text/x-python",
   "name": "python",
   "nbconvert_exporter": "python",
   "pygments_lexer": "ipython3",
   "version": "3.12.7"
  }
 },
 "nbformat": 4,
 "nbformat_minor": 2
}
