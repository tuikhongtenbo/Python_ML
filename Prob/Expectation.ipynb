{
 "cells": [
  {
   "cell_type": "code",
   "execution_count": 2,
   "metadata": {},
   "outputs": [],
   "source": [
    "def pmf_sum_two_dice(x):\n",
    "    \"\"\"This function is used to calculate the number of \n",
    "       cases that collected when dropping two dices in severall times\"\"\"\n",
    "    count = 0\n",
    "    for dice1 in range(1, 6 + 1):\n",
    "        for dice2 in range(1, 6 + 1):\n",
    "            if dice1 + dice2 == x:\n",
    "                count += 1\n",
    "    return count/36\n",
    "\n",
    "def expectation_sum_two_dice():\n",
    "    \"\"\"This function is used to calculate the expectation of the sum two dices: \n",
    "                        E(X) = sigma(x * P(x))\"\"\"\n",
    "    exp_sum_two_dice = 0\n",
    "    for x in range(2, 12 + 1):\n",
    "        pr_x = pmf_sum_two_dice(x)\n",
    "        exp_sum_two_dice += x * pr_x\n",
    "    return exp_sum_two_dice\n",
    "\n",
    "def expectation_sum_two_dice_squared():\n",
    "    \"\"\"This function is used to calculat the expectation of the sum two dices for squared X: \n",
    "                        E(X^2) = sigma((x^2)*P(x))\"\"\"\n",
    "    expectation_sum_two_dice_squared = 0\n",
    "    for x in range(2, 12 + 1):\n",
    "        pr_x = pmf_sum_two_dice(x)\n",
    "        expectation_sum_two_dice_squared += (x**2) * pr_x\n",
    "    return expectation_sum_two_dice_squared "
   ]
  }
 ],
 "metadata": {
  "kernelspec": {
   "display_name": "machinelearning",
   "language": "python",
   "name": "python3"
  },
  "language_info": {
   "codemirror_mode": {
    "name": "ipython",
    "version": 3
   },
   "file_extension": ".py",
   "mimetype": "text/x-python",
   "name": "python",
   "nbconvert_exporter": "python",
   "pygments_lexer": "ipython3",
   "version": "3.12.7"
  }
 },
 "nbformat": 4,
 "nbformat_minor": 2
}
