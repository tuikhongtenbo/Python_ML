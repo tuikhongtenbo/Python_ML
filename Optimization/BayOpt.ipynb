{
 "cells": [
  {
   "cell_type": "code",
   "execution_count": null,
   "metadata": {},
   "outputs": [],
   "source": [
    "%pip install optuna scikit-learn"
   ]
  },
  {
   "cell_type": "code",
   "execution_count": 30,
   "metadata": {},
   "outputs": [],
   "source": [
    "import optuna\n",
    "from optuna.samplers import TPESampler\n",
    "from sklearn.datasets import load_breast_cancer\n",
    "from sklearn.linear_model import SGDClassifier\n",
    "from sklearn.tree import DecisionTreeClassifier\n",
    "from sklearn.metrics import f1_score"
   ]
  },
  {
   "cell_type": "code",
   "execution_count": null,
   "metadata": {},
   "outputs": [],
   "source": [
    "import pandas as pd\n",
    "\n",
    "data=load_breast_cancer()\n",
    "X=pd.DataFrame(data.data, columns=data.feature_names)\n",
    "y=pd.Series(data.target, name='target')"
   ]
  },
  {
   "cell_type": "code",
   "execution_count": 32,
   "metadata": {},
   "outputs": [],
   "source": [
    "from sklearn.model_selection import train_test_split\n",
    "X_train, X_val, y_train, y_val=train_test_split(X, y, test_size=0.2, random_state=42)"
   ]
  },
  {
   "cell_type": "code",
   "execution_count": 33,
   "metadata": {},
   "outputs": [],
   "source": [
    "models = {\n",
    "    \"SGD\": {\n",
    "        \"model\": SGDClassifier,\n",
    "        \"params\": lambda trial: {\n",
    "            \"alpha\": trial.suggest_float(\"alpha\", 1e-5, 1e-1, log=True),\n",
    "            \"max_iter\": trial.suggest_int(\"max_iter\", 500, 2000, step=100)\n",
    "        }\n",
    "    },\n",
    "    \"DecisionTree\": {\n",
    "        \"model\": DecisionTreeClassifier,\n",
    "        \"params\": lambda trial: {\n",
    "            \"max_depth\": trial.suggest_int(\"max_depth\", 3, 20),\n",
    "            \"min_samples_split\": trial.suggest_int(\"min_samples_split\", 2, 10)\n",
    "        }\n",
    "    }\n",
    "}"
   ]
  },
  {
   "cell_type": "code",
   "execution_count": 34,
   "metadata": {},
   "outputs": [],
   "source": [
    "def Objective(trial):\n",
    "    model_name=trial.suggest_categorical(\"model\", list(models.keys()))\n",
    "    model_class=models[model_name][\"model\"]\n",
    "    params=models[model_name][\"params\"](trial)\n",
    "\n",
    "    model=model_class(**params, random_state=42)\n",
    "    model.fit(X_train, y_train)\n",
    "    y_pred=model.predict(X_val)\n",
    "    \n",
    "    return f1_score(y_val, y_pred)"
   ]
  },
  {
   "cell_type": "code",
   "execution_count": 35,
   "metadata": {},
   "outputs": [
    {
     "name": "stderr",
     "output_type": "stream",
     "text": [
      "[I 2025-02-11 13:58:38,915] A new study created in memory with name: no-name-3fc319f1-8712-4414-a8c8-6886c3a6c0cd\n",
      "[I 2025-02-11 13:58:38,943] Trial 0 finished with value: 0.951048951048951 and parameters: {'model': 'DecisionTree', 'max_depth': 8, 'min_samples_split': 5}. Best is trial 0 with value: 0.951048951048951.\n",
      "[I 2025-02-11 13:58:38,996] Trial 1 finished with value: 0.965034965034965 and parameters: {'model': 'SGD', 'alpha': 0.0004456501303138103, 'max_iter': 1000}. Best is trial 1 with value: 0.965034965034965.\n",
      "[I 2025-02-11 13:58:39,010] Trial 2 finished with value: 0.864 and parameters: {'model': 'SGD', 'alpha': 0.02419951891753162, 'max_iter': 1800}. Best is trial 1 with value: 0.965034965034965.\n",
      "[I 2025-02-11 13:58:39,038] Trial 3 finished with value: 0.9583333333333334 and parameters: {'model': 'DecisionTree', 'max_depth': 3, 'min_samples_split': 6}. Best is trial 1 with value: 0.965034965034965.\n",
      "[I 2025-02-11 13:58:39,058] Trial 4 finished with value: 0.9577464788732394 and parameters: {'model': 'DecisionTree', 'max_depth': 8, 'min_samples_split': 10}. Best is trial 1 with value: 0.965034965034965.\n",
      "[I 2025-02-11 13:58:39,069] Trial 5 finished with value: 0.7433628318584071 and parameters: {'model': 'SGD', 'alpha': 0.013885730891184965, 'max_iter': 600}. Best is trial 1 with value: 0.965034965034965.\n",
      "[I 2025-02-11 13:58:39,089] Trial 6 finished with value: 0.951048951048951 and parameters: {'model': 'DecisionTree', 'max_depth': 4, 'min_samples_split': 10}. Best is trial 1 with value: 0.965034965034965.\n",
      "[I 2025-02-11 13:58:39,108] Trial 7 finished with value: 0.9577464788732394 and parameters: {'model': 'DecisionTree', 'max_depth': 18, 'min_samples_split': 9}. Best is trial 1 with value: 0.965034965034965.\n",
      "[I 2025-02-11 13:58:39,128] Trial 8 finished with value: 0.951048951048951 and parameters: {'model': 'DecisionTree', 'max_depth': 9, 'min_samples_split': 6}. Best is trial 1 with value: 0.965034965034965.\n",
      "[I 2025-02-11 13:58:39,139] Trial 9 finished with value: 0.8818897637795275 and parameters: {'model': 'SGD', 'alpha': 1.5715012008491496e-05, 'max_iter': 1300}. Best is trial 1 with value: 0.965034965034965.\n",
      "[I 2025-02-11 13:58:39,173] Trial 10 finished with value: 0.9281045751633987 and parameters: {'model': 'SGD', 'alpha': 0.00014750524126642115, 'max_iter': 700}. Best is trial 1 with value: 0.965034965034965.\n",
      "[I 2025-02-11 13:58:39,193] Trial 11 finished with value: 0.965034965034965 and parameters: {'model': 'SGD', 'alpha': 0.0007600384150371945, 'max_iter': 1200}. Best is trial 1 with value: 0.965034965034965.\n",
      "[I 2025-02-11 13:58:39,228] Trial 12 finished with value: 0.965034965034965 and parameters: {'model': 'SGD', 'alpha': 0.0007752858644782677, 'max_iter': 1200}. Best is trial 1 with value: 0.965034965034965.\n",
      "[I 2025-02-11 13:58:39,258] Trial 13 finished with value: 0.965034965034965 and parameters: {'model': 'SGD', 'alpha': 0.0009305449985822437, 'max_iter': 1100}. Best is trial 1 with value: 0.965034965034965.\n",
      "[I 2025-02-11 13:58:39,287] Trial 14 finished with value: 0.9281045751633987 and parameters: {'model': 'SGD', 'alpha': 0.00011596433849666255, 'max_iter': 900}. Best is trial 1 with value: 0.965034965034965.\n",
      "[I 2025-02-11 13:58:39,309] Trial 15 finished with value: 0.9726027397260274 and parameters: {'model': 'SGD', 'alpha': 0.004474407000258464, 'max_iter': 1600}. Best is trial 15 with value: 0.9726027397260274.\n",
      "[I 2025-02-11 13:58:39,335] Trial 16 finished with value: 0.9726027397260274 and parameters: {'model': 'SGD', 'alpha': 0.0051141848617927, 'max_iter': 1700}. Best is trial 15 with value: 0.9726027397260274.\n",
      "[I 2025-02-11 13:58:39,365] Trial 17 finished with value: 0.9726027397260274 and parameters: {'model': 'SGD', 'alpha': 0.006670304453728183, 'max_iter': 1700}. Best is trial 15 with value: 0.9726027397260274.\n",
      "[I 2025-02-11 13:58:39,395] Trial 18 finished with value: 0.9726027397260274 and parameters: {'model': 'SGD', 'alpha': 0.004733188393336026, 'max_iter': 1500}. Best is trial 15 with value: 0.9726027397260274.\n",
      "[I 2025-02-11 13:58:39,428] Trial 19 finished with value: 0.9793103448275862 and parameters: {'model': 'SGD', 'alpha': 0.08187648189041259, 'max_iter': 2000}. Best is trial 19 with value: 0.9793103448275862.\n",
      "[I 2025-02-11 13:58:39,458] Trial 20 finished with value: 0.9793103448275862 and parameters: {'model': 'SGD', 'alpha': 0.08219392686103735, 'max_iter': 2000}. Best is trial 19 with value: 0.9793103448275862.\n",
      "[I 2025-02-11 13:58:39,500] Trial 21 finished with value: 0.9793103448275862 and parameters: {'model': 'SGD', 'alpha': 0.08590791069813093, 'max_iter': 2000}. Best is trial 19 with value: 0.9793103448275862.\n",
      "[I 2025-02-11 13:58:39,537] Trial 22 finished with value: 0.9793103448275862 and parameters: {'model': 'SGD', 'alpha': 0.0865263397396636, 'max_iter': 2000}. Best is trial 19 with value: 0.9793103448275862.\n",
      "[I 2025-02-11 13:58:39,565] Trial 23 finished with value: 0.9793103448275862 and parameters: {'model': 'SGD', 'alpha': 0.09685672756635222, 'max_iter': 2000}. Best is trial 19 with value: 0.9793103448275862.\n",
      "[I 2025-02-11 13:58:39,598] Trial 24 finished with value: 0.9342105263157895 and parameters: {'model': 'SGD', 'alpha': 0.03305965383390853, 'max_iter': 1900}. Best is trial 19 with value: 0.9793103448275862.\n",
      "[I 2025-02-11 13:58:39,634] Trial 25 finished with value: 0.9342105263157895 and parameters: {'model': 'SGD', 'alpha': 0.039131020191537816, 'max_iter': 2000}. Best is trial 19 with value: 0.9793103448275862.\n",
      "[I 2025-02-11 13:58:39,673] Trial 26 finished with value: 0.9793103448275862 and parameters: {'model': 'SGD', 'alpha': 0.09796923660529148, 'max_iter': 1400}. Best is trial 19 with value: 0.9793103448275862.\n",
      "[I 2025-02-11 13:58:39,702] Trial 27 finished with value: 0.7433628318584071 and parameters: {'model': 'SGD', 'alpha': 0.012875319377751273, 'max_iter': 1800}. Best is trial 19 with value: 0.9793103448275862.\n",
      "[I 2025-02-11 13:58:39,736] Trial 28 finished with value: 0.9342105263157895 and parameters: {'model': 'SGD', 'alpha': 0.04066014878205724, 'max_iter': 1800}. Best is trial 19 with value: 0.9793103448275862.\n",
      "[I 2025-02-11 13:58:39,780] Trial 29 finished with value: 0.9577464788732394 and parameters: {'model': 'DecisionTree', 'max_depth': 20, 'min_samples_split': 2}. Best is trial 19 with value: 0.9793103448275862.\n"
     ]
    }
   ],
   "source": [
    "sample=TPESampler()\n",
    "train=optuna.create_study(direction=\"maximize\", sampler=sample)\n",
    "train.optimize(Objective,n_trials=30)"
   ]
  },
  {
   "cell_type": "code",
   "execution_count": 36,
   "metadata": {},
   "outputs": [
    {
     "name": "stdout",
     "output_type": "stream",
     "text": [
      "Best Model & Hyperparameters: {'model': 'SGD', 'alpha': 0.08187648189041259, 'max_iter': 2000}\n",
      "Best score: 0.9793103448275862\n"
     ]
    }
   ],
   "source": [
    "print(\"Best Model & Hyperparameters:\", train.best_params)\n",
    "print(\"Best score:\", train.best_value)"
   ]
  }
 ],
 "metadata": {
  "kernelspec": {
   "display_name": "Python 3 (ipykernel)",
   "language": "python",
   "name": "python3"
  },
  "language_info": {
   "codemirror_mode": {
    "name": "ipython",
    "version": 3
   },
   "file_extension": ".py",
   "mimetype": "text/x-python",
   "name": "python",
   "nbconvert_exporter": "python",
   "pygments_lexer": "ipython3",
   "version": "3.12.4"
  }
 },
 "nbformat": 4,
 "nbformat_minor": 4
}
