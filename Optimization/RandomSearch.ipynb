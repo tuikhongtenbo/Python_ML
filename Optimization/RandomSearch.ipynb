{
 "cells": [
  {
   "cell_type": "code",
   "execution_count": null,
   "metadata": {},
   "outputs": [],
   "source": [
    "%pip install ipython-autotime\n",
    "%load_ext autotime"
   ]
  },
  {
   "cell_type": "code",
   "execution_count": 3,
   "metadata": {},
   "outputs": [
    {
     "name": "stdout",
     "output_type": "stream",
     "text": [
      "time: 0 ns (started: 2025-02-09 14:14:13 +07:00)\n"
     ]
    }
   ],
   "source": [
    "from sklearn.datasets import make_classification\n",
    "from sklearn.model_selection import train_test_split"
   ]
  },
  {
   "cell_type": "code",
   "execution_count": 4,
   "metadata": {},
   "outputs": [
    {
     "name": "stdout",
     "output_type": "stream",
     "text": [
      "time: 47 ms (started: 2025-02-09 14:16:30 +07:00)\n"
     ]
    }
   ],
   "source": [
    "X, y = make_classification(n_samples=300, n_features=50,\n",
    "                           n_informative=10, n_redundant=25,\n",
    "                           n_repeated=15, n_clusters_per_class=5,\n",
    "                           flip_y=0.05, class_sep=0.5,\n",
    "                           random_state=0\n",
    ")"
   ]
  },
  {
   "cell_type": "code",
   "execution_count": 7,
   "metadata": {},
   "outputs": [
    {
     "name": "stdout",
     "output_type": "stream",
     "text": [
      "time: 0 ns (started: 2025-02-09 14:20:21 +07:00)\n"
     ]
    }
   ],
   "source": [
    "from sklearn import svm\n",
    "from sklearn import model_selection\n",
    "from scipy.stats import loguniform\n",
    "\n",
    "svc=svm.SVC(probability=True, random_state=1)\n",
    "\n",
    "search_dict = {'kernel': ['linear', 'rbf'],\n",
    "                'C': loguniform(1, 1000),\n",
    "                'gamma': loguniform(0.0001, 0.1)\n",
    "               }\n",
    "\n",
    "scorer = 'accuracy'"
   ]
  },
  {
   "cell_type": "code",
   "execution_count": 8,
   "metadata": {},
   "outputs": [
    {
     "name": "stdout",
     "output_type": "stream",
     "text": [
      "time: 0 ns (started: 2025-02-09 14:22:22 +07:00)\n"
     ]
    }
   ],
   "source": [
    "random_search = model_selection.RandomizedSearchCV(estimator=svc,\n",
    "                                                   param_distributions=search_dict,\n",
    "                                                   scoring=scorer,\n",
    "                                                   n_jobs=-1,\n",
    "                                                   cv=5)"
   ]
  },
  {
   "cell_type": "code",
   "execution_count": 9,
   "metadata": {},
   "outputs": [
    {
     "name": "stdout",
     "output_type": "stream",
     "text": [
      "{'C': 12.302395718344812, 'gamma': 0.001032009079152196, 'kernel': 'rbf'}\n",
      "0.7\n",
      "time: 1min 55s (started: 2025-02-09 14:23:27 +07:00)\n"
     ]
    }
   ],
   "source": [
    "random_search.fit(X, y)\n",
    "print(random_search.best_params_)\n",
    "print(random_search.best_score_)"
   ]
  },
  {
   "cell_type": "code",
   "execution_count": 10,
   "metadata": {},
   "outputs": [
    {
     "name": "stdout",
     "output_type": "stream",
     "text": [
      "time: 0 ns (started: 2025-02-09 14:26:01 +07:00)\n"
     ]
    }
   ],
   "source": [
    "df=random_search.cv_results_"
   ]
  },
  {
   "cell_type": "code",
   "execution_count": 11,
   "metadata": {},
   "outputs": [
    {
     "data": {
      "text/plain": [
       "{'mean_fit_time': array([4.92950439e-01, 2.92928696e-02, 2.55639553e-02, 2.61120319e-02,\n",
       "        1.18177142e+01, 3.25269699e-02, 1.94301382e+01, 9.46150780e-01,\n",
       "        2.66231060e-02, 9.19477462e+01]),\n",
       " 'std_fit_time': array([6.56197977e-02, 2.61590903e-03, 3.22876980e-03, 3.30218467e-03,\n",
       "        1.25274418e+00, 3.57180812e-03, 3.10664015e+00, 1.51752513e-01,\n",
       "        1.88318031e-03, 7.67948667e+00]),\n",
       " 'mean_score_time': array([0.00260377, 0.00400486, 0.00380087, 0.00409479, 0.00159936,\n",
       "        0.00279164, 0.00170159, 0.00150156, 0.00310955, 0.00129962]),\n",
       " 'std_score_time': array([0.00182042, 0.00113124, 0.00168417, 0.00185247, 0.00048924,\n",
       "        0.00074155, 0.00039859, 0.00063475, 0.00037717, 0.00040413]),\n",
       " 'param_C': masked_array(data=[1.1651263945123276, 22.17872628372453,\n",
       "                    12.302395718344812, 217.48188625264282,\n",
       "                    35.86560955639886, 36.65598248726456,\n",
       "                    56.85058396205075, 2.4098100870809183,\n",
       "                    3.084598809750782, 367.81582513007515],\n",
       "              mask=[False, False, False, False, False, False, False, False,\n",
       "                    False, False],\n",
       "        fill_value=1e+20),\n",
       " 'param_gamma': masked_array(data=[0.003812082571133663, 0.01784023842493843,\n",
       "                    0.001032009079152196, 0.020690853062743684,\n",
       "                    0.009578477509292286, 0.002716559360527815,\n",
       "                    0.010241857042456894, 0.008982547582907587,\n",
       "                    0.014852717179089363, 0.0027018109194510303],\n",
       "              mask=[False, False, False, False, False, False, False, False,\n",
       "                    False, False],\n",
       "        fill_value=1e+20),\n",
       " 'param_kernel': masked_array(data=['linear', 'rbf', 'rbf', 'rbf', 'linear', 'rbf',\n",
       "                    'linear', 'linear', 'rbf', 'linear'],\n",
       "              mask=[False, False, False, False, False, False, False, False,\n",
       "                    False, False],\n",
       "        fill_value='?',\n",
       "             dtype=object),\n",
       " 'params': [{'C': 1.1651263945123276,\n",
       "   'gamma': 0.003812082571133663,\n",
       "   'kernel': 'linear'},\n",
       "  {'C': 22.17872628372453, 'gamma': 0.01784023842493843, 'kernel': 'rbf'},\n",
       "  {'C': 12.302395718344812, 'gamma': 0.001032009079152196, 'kernel': 'rbf'},\n",
       "  {'C': 217.48188625264282, 'gamma': 0.020690853062743684, 'kernel': 'rbf'},\n",
       "  {'C': 35.86560955639886, 'gamma': 0.009578477509292286, 'kernel': 'linear'},\n",
       "  {'C': 36.65598248726456, 'gamma': 0.002716559360527815, 'kernel': 'rbf'},\n",
       "  {'C': 56.85058396205075, 'gamma': 0.010241857042456894, 'kernel': 'linear'},\n",
       "  {'C': 2.4098100870809183, 'gamma': 0.008982547582907587, 'kernel': 'linear'},\n",
       "  {'C': 3.084598809750782, 'gamma': 0.014852717179089363, 'kernel': 'rbf'},\n",
       "  {'C': 367.81582513007515,\n",
       "   'gamma': 0.0027018109194510303,\n",
       "   'kernel': 'linear'}],\n",
       " 'split0_test_score': array([0.58333333, 0.66666667, 0.66666667, 0.68333333, 0.6       ,\n",
       "        0.75      , 0.6       , 0.58333333, 0.75      , 0.58333333]),\n",
       " 'split1_test_score': array([0.66666667, 0.6       , 0.75      , 0.58333333, 0.68333333,\n",
       "        0.63333333, 0.66666667, 0.66666667, 0.6       , 0.68333333]),\n",
       " 'split2_test_score': array([0.56666667, 0.63333333, 0.66666667, 0.61666667, 0.56666667,\n",
       "        0.6       , 0.56666667, 0.56666667, 0.61666667, 0.58333333]),\n",
       " 'split3_test_score': array([0.53333333, 0.68333333, 0.76666667, 0.66666667, 0.55      ,\n",
       "        0.73333333, 0.55      , 0.53333333, 0.73333333, 0.56666667]),\n",
       " 'split4_test_score': array([0.58333333, 0.65      , 0.65      , 0.65      , 0.58333333,\n",
       "        0.66666667, 0.58333333, 0.58333333, 0.63333333, 0.58333333]),\n",
       " 'mean_test_score': array([0.58666667, 0.64666667, 0.7       , 0.64      , 0.59666667,\n",
       "        0.67666667, 0.59333333, 0.58666667, 0.66666667, 0.6       ]),\n",
       " 'std_test_score': array([0.04396969, 0.02867442, 0.04830459, 0.0359011 , 0.04642796,\n",
       "        0.05734884, 0.04027682, 0.04396969, 0.06236096, 0.0421637 ]),\n",
       " 'rank_test_score': array([9, 4, 1, 5, 7, 2, 8, 9, 3, 6])}"
      ]
     },
     "execution_count": 11,
     "metadata": {},
     "output_type": "execute_result"
    },
    {
     "name": "stdout",
     "output_type": "stream",
     "text": [
      "time: 16 ms (started: 2025-02-09 14:26:03 +07:00)\n"
     ]
    }
   ],
   "source": [
    "df"
   ]
  }
 ],
 "metadata": {
  "kernelspec": {
   "display_name": "machinelearning",
   "language": "python",
   "name": "python3"
  },
  "language_info": {
   "codemirror_mode": {
    "name": "ipython",
    "version": 3
   },
   "file_extension": ".py",
   "mimetype": "text/x-python",
   "name": "python",
   "nbconvert_exporter": "python",
   "pygments_lexer": "ipython3",
   "version": "3.12.7"
  }
 },
 "nbformat": 4,
 "nbformat_minor": 2
}
