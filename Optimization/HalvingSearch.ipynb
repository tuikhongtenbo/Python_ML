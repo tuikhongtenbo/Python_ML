{
 "cells": [
  {
   "cell_type": "code",
   "execution_count": 12,
   "metadata": {},
   "outputs": [],
   "source": [
    "from sklearn.experimental import enable_halving_search_cv\n",
    "from sklearn.model_selection import HalvingRandomSearchCV, train_test_split\n",
    "from sklearn import svm\n",
    "from scipy.stats import loguniform\n",
    "from sklearn.datasets import make_classification\n",
    "from sklearn import model_selection"
   ]
  },
  {
   "cell_type": "code",
   "execution_count": 14,
   "metadata": {},
   "outputs": [],
   "source": [
    "X, y = make_classification(n_samples=300, n_features=50,\n",
    "                           n_informative=10, n_redundant=25,\n",
    "                           n_repeated=15, n_clusters_per_class=5,\n",
    "                           flip_y=0.05, class_sep=0.5,\n",
    "                           random_state=0\n",
    ")"
   ]
  },
  {
   "cell_type": "code",
   "execution_count": null,
   "metadata": {},
   "outputs": [],
   "source": [
    "svc = svm.SVC(probability=True, random_state=1)\n",
    "\n",
    "search_rand = {\n",
    "    'kernel': ['linear', 'rbf'],\n",
    "    'C': loguniform(1, 1000),\n",
    "    'gamma': loguniform(0.0001, 0.1)\n",
    "}\n",
    "\n",
    "scorer = 'accuracy'"
   ]
  },
  {
   "cell_type": "code",
   "execution_count": 17,
   "metadata": {},
   "outputs": [],
   "source": [
    "search_func = HalvingRandomSearchCV(estimator=svc,\n",
    "                                    param_distributions=search_rand,\n",
    "                                    resource='n_samples',\n",
    "                                    max_resources=100,\n",
    "                                    aggressive_elimination=True,\n",
    "                                    scoring=scorer,\n",
    "                                    n_jobs=-1,\n",
    "                                    cv=5,\n",
    "                                    random_state=0\n",
    ")"
   ]
  },
  {
   "cell_type": "code",
   "execution_count": 18,
   "metadata": {},
   "outputs": [
    {
     "name": "stdout",
     "output_type": "stream",
     "text": [
      "Best params: {'C': 86.63279761354555, 'gamma': 0.002054762512591136, 'kernel': 'linear'}\n",
      "Best score:  0.6166666666666667\n"
     ]
    }
   ],
   "source": [
    "search_func.fit(X, y)\n",
    "print('Best params:', search_func.best_params_)\n",
    "print('Best score: ', search_func.best_score_)"
   ]
  }
 ],
 "metadata": {
  "kernelspec": {
   "display_name": "machinelearning",
   "language": "python",
   "name": "python3"
  },
  "language_info": {
   "codemirror_mode": {
    "name": "ipython",
    "version": 3
   },
   "file_extension": ".py",
   "mimetype": "text/x-python",
   "name": "python",
   "nbconvert_exporter": "python",
   "pygments_lexer": "ipython3",
   "version": "3.12.7"
  }
 },
 "nbformat": 4,
 "nbformat_minor": 2
}
