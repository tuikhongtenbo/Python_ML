{
 "cells": [
  {
   "cell_type": "code",
   "execution_count": null,
   "id": "f491b18a",
   "metadata": {},
   "outputs": [],
   "source": [
    "import numpy as np\n",
    "import matplotlib.pyplot as plt\n",
    "import pandas as pd\n",
    "import zipfile\n",
    "import os"
   ]
  },
  {
   "cell_type": "markdown",
   "id": "cc547e71",
   "metadata": {},
   "source": [
    "# Loading dataset"
   ]
  },
  {
   "cell_type": "code",
   "execution_count": 10,
   "id": "49f706d4",
   "metadata": {},
   "outputs": [
    {
     "name": "stderr",
     "output_type": "stream",
     "text": [
      "C:\\Users\\ply58\\AppData\\Local\\Temp\\ipykernel_90152\\3198725817.py:4: DtypeWarning: Columns (10,42) have mixed types. Specify dtype option on import or set low_memory=False.\n",
      "  data_not_delay_4_6 = pd.read_csv(r'C:\\Users\\ply58\\OneDrive\\Tài liệu\\PythonML\\ML_git\\Python_ML\\BaitapDS108\\Lab 4\\Data\\not_delay_4_6_CONDITION_PRODUCT_SUPPLIER.csv')\n",
      "C:\\Users\\ply58\\AppData\\Local\\Temp\\ipykernel_90152\\3198725817.py:5: DtypeWarning: Columns (34) have mixed types. Specify dtype option on import or set low_memory=False.\n",
      "  data_not_delay_7_9 = pd.read_csv(r'C:\\Users\\ply58\\OneDrive\\Tài liệu\\PythonML\\ML_git\\Python_ML\\BaitapDS108\\Lab 4\\Data\\not_delay_7_9_CONDITION_PRODUCT_SUPPLIER.csv')\n"
     ]
    }
   ],
   "source": [
    "data_delay_4_6 = pd.read_csv(r'C:\\Users\\ply58\\OneDrive\\Tài liệu\\PythonML\\ML_git\\Python_ML\\BaitapDS108\\Lab 4\\Data\\delay_4_6_CONDITION_PRODUCT_SUPPLIER.csv')\n",
    "data_delay_7_9 = pd.read_csv(r'C:\\Users\\ply58\\OneDrive\\Tài liệu\\PythonML\\ML_git\\Python_ML\\BaitapDS108\\Lab 4\\Data\\delay_7_9_CONDITION_PRODUCT_SUPPLIER.csv')\n",
    "\n",
    "data_not_delay_4_6 = pd.read_csv(r'C:\\Users\\ply58\\OneDrive\\Tài liệu\\PythonML\\ML_git\\Python_ML\\BaitapDS108\\Lab 4\\Data\\not_delay_4_6_CONDITION_PRODUCT_SUPPLIER.csv')\n",
    "data_not_delay_7_9 = pd.read_csv(r'C:\\Users\\ply58\\OneDrive\\Tài liệu\\PythonML\\ML_git\\Python_ML\\BaitapDS108\\Lab 4\\Data\\not_delay_7_9_CONDITION_PRODUCT_SUPPLIER.csv')"
   ]
  },
  {
   "cell_type": "markdown",
   "id": "38a74494",
   "metadata": {},
   "source": [
    "# EDA"
   ]
  },
  {
   "cell_type": "markdown",
   "id": "4db942ca",
   "metadata": {},
   "source": [
    "### Check if there are different columns before concatenation"
   ]
  },
  {
   "cell_type": "code",
   "execution_count": 27,
   "id": "3d2f9882",
   "metadata": {},
   "outputs": [
    {
     "data": {
      "text/plain": [
       "Index([], dtype='object')"
      ]
     },
     "execution_count": 27,
     "metadata": {},
     "output_type": "execute_result"
    }
   ],
   "source": [
    "data_delay_4_6.columns.difference(data_not_delay_4_6.columns)"
   ]
  },
  {
   "cell_type": "code",
   "execution_count": 28,
   "id": "c8a9e541",
   "metadata": {},
   "outputs": [
    {
     "data": {
      "text/plain": [
       "Index([], dtype='object')"
      ]
     },
     "execution_count": 28,
     "metadata": {},
     "output_type": "execute_result"
    }
   ],
   "source": [
    "data_delay_7_9.columns.difference(data_not_delay_7_9.columns)"
   ]
  },
  {
   "cell_type": "markdown",
   "id": "c067a047",
   "metadata": {},
   "source": [
    "### Counting labels"
   ]
  },
  {
   "cell_type": "code",
   "execution_count": null,
   "id": "26e4349c",
   "metadata": {},
   "outputs": [
    {
     "data": {
      "text/plain": [
       "label\n",
       "1    9733\n",
       "Name: count, dtype: int64"
      ]
     },
     "execution_count": 17,
     "metadata": {},
     "output_type": "execute_result"
    }
   ],
   "source": [
    "data_delay_4_6['label'].value_counts()"
   ]
  },
  {
   "cell_type": "code",
   "execution_count": 18,
   "id": "f018cc57",
   "metadata": {},
   "outputs": [
    {
     "data": {
      "text/plain": [
       "label\n",
       "0    389320\n",
       "Name: count, dtype: int64"
      ]
     },
     "execution_count": 18,
     "metadata": {},
     "output_type": "execute_result"
    }
   ],
   "source": [
    "data_not_delay_4_6['label'].value_counts()"
   ]
  },
  {
   "cell_type": "code",
   "execution_count": 21,
   "id": "6f540408",
   "metadata": {},
   "outputs": [
    {
     "data": {
      "text/plain": [
       "label\n",
       "1    26217\n",
       "Name: count, dtype: int64"
      ]
     },
     "execution_count": 21,
     "metadata": {},
     "output_type": "execute_result"
    }
   ],
   "source": [
    "data_delay_7_9['label'].value_counts()"
   ]
  },
  {
   "cell_type": "code",
   "execution_count": 22,
   "id": "f5cd311b",
   "metadata": {},
   "outputs": [
    {
     "data": {
      "text/plain": [
       "label\n",
       "0    1048680\n",
       "Name: count, dtype: int64"
      ]
     },
     "execution_count": 22,
     "metadata": {},
     "output_type": "execute_result"
    }
   ],
   "source": [
    "data_not_delay_7_9['label'].value_counts()"
   ]
  },
  {
   "cell_type": "markdown",
   "id": "73bc4d32",
   "metadata": {},
   "source": [
    "### Concatenation"
   ]
  },
  {
   "cell_type": "code",
   "execution_count": 37,
   "id": "3986af57",
   "metadata": {},
   "outputs": [
    {
     "data": {
      "text/html": [
       "<div>\n",
       "<style scoped>\n",
       "    .dataframe tbody tr th:only-of-type {\n",
       "        vertical-align: middle;\n",
       "    }\n",
       "\n",
       "    .dataframe tbody tr th {\n",
       "        vertical-align: top;\n",
       "    }\n",
       "\n",
       "    .dataframe thead th {\n",
       "        text-align: right;\n",
       "    }\n",
       "</style>\n",
       "<table border=\"1\" class=\"dataframe\">\n",
       "  <thead>\n",
       "    <tr style=\"text-align: right;\">\n",
       "      <th></th>\n",
       "      <th>Order date</th>\n",
       "      <th>SUBSIDIARY_CD</th>\n",
       "      <th>GLOBAL_NO</th>\n",
       "      <th>CLASSIFY_CD</th>\n",
       "      <th>CUST_CD</th>\n",
       "      <th>BRAND_CD</th>\n",
       "      <th>INNER_CD</th>\n",
       "      <th>SUPPLIER_CD</th>\n",
       "      <th>Sales order line number</th>\n",
       "      <th>Stock class</th>\n",
       "      <th>...</th>\n",
       "      <th>SO_DAY_OF_MONTH</th>\n",
       "      <th>SO_DAY_OF_WEEK</th>\n",
       "      <th>IO_UNFIT_FLG</th>\n",
       "      <th>WEIGHT_UNIT</th>\n",
       "      <th>REASON_CD</th>\n",
       "      <th>SOUF_RCV_NO</th>\n",
       "      <th>QTUF_RCV_NO</th>\n",
       "      <th>SO_TIME</th>\n",
       "      <th>SUPPLIER_CATEGORY_CD</th>\n",
       "      <th>PRODUCT_ASSORT</th>\n",
       "    </tr>\n",
       "  </thead>\n",
       "  <tbody>\n",
       "    <tr>\n",
       "      <th>0</th>\n",
       "      <td>2022-04-04 00:00:00</td>\n",
       "      <td>MJP</td>\n",
       "      <td>1000074430653</td>\n",
       "      <td>21034701</td>\n",
       "      <td>74</td>\n",
       "      <td>HAK1</td>\n",
       "      <td>F7371210001</td>\n",
       "      <td>8107</td>\n",
       "      <td>1</td>\n",
       "      <td>1</td>\n",
       "      <td>...</td>\n",
       "      <td>4</td>\n",
       "      <td>1</td>\n",
       "      <td>0</td>\n",
       "      <td>g</td>\n",
       "      <td>401</td>\n",
       "      <td>805169</td>\n",
       "      <td>NaN</td>\n",
       "      <td>120324</td>\n",
       "      <td>5</td>\n",
       "      <td></td>\n",
       "    </tr>\n",
       "    <tr>\n",
       "      <th>1</th>\n",
       "      <td>2022-04-26 00:00:00</td>\n",
       "      <td>MJP</td>\n",
       "      <td>5004180038393</td>\n",
       "      <td>23028764</td>\n",
       "      <td>4180</td>\n",
       "      <td>S3M1</td>\n",
       "      <td>K9045010089</td>\n",
       "      <td>8484</td>\n",
       "      <td>1</td>\n",
       "      <td>1</td>\n",
       "      <td>...</td>\n",
       "      <td>26</td>\n",
       "      <td>2</td>\n",
       "      <td>0</td>\n",
       "      <td>g</td>\n",
       "      <td>455</td>\n",
       "      <td>NaN</td>\n",
       "      <td>NaN</td>\n",
       "      <td>171618</td>\n",
       "      <td>5</td>\n",
       "      <td></td>\n",
       "    </tr>\n",
       "    <tr>\n",
       "      <th>2</th>\n",
       "      <td>2022-04-19 00:00:00</td>\n",
       "      <td>MJP</td>\n",
       "      <td>1000074434232</td>\n",
       "      <td>21059031</td>\n",
       "      <td>74</td>\n",
       "      <td>THT1</td>\n",
       "      <td>F5109250104</td>\n",
       "      <td>8233</td>\n",
       "      <td>1</td>\n",
       "      <td>1</td>\n",
       "      <td>...</td>\n",
       "      <td>19</td>\n",
       "      <td>2</td>\n",
       "      <td>0</td>\n",
       "      <td>g</td>\n",
       "      <td>451</td>\n",
       "      <td>864727</td>\n",
       "      <td>NaN</td>\n",
       "      <td>184619</td>\n",
       "      <td>5</td>\n",
       "      <td></td>\n",
       "    </tr>\n",
       "    <tr>\n",
       "      <th>3</th>\n",
       "      <td>2022-04-22 00:00:00</td>\n",
       "      <td>MJP</td>\n",
       "      <td>1000074434911</td>\n",
       "      <td>3731227</td>\n",
       "      <td>74</td>\n",
       "      <td>MSM1</td>\n",
       "      <td>79014275005</td>\n",
       "      <td>3013</td>\n",
       "      <td>1</td>\n",
       "      <td>1</td>\n",
       "      <td>...</td>\n",
       "      <td>22</td>\n",
       "      <td>5</td>\n",
       "      <td>0</td>\n",
       "      <td>g</td>\n",
       "      <td>410</td>\n",
       "      <td>NaN</td>\n",
       "      <td>NaN</td>\n",
       "      <td>93246</td>\n",
       "      <td>5</td>\n",
       "      <td></td>\n",
       "    </tr>\n",
       "    <tr>\n",
       "      <th>4</th>\n",
       "      <td>2022-04-22 00:00:00</td>\n",
       "      <td>MJP</td>\n",
       "      <td>1000074435036</td>\n",
       "      <td>3954111</td>\n",
       "      <td>74</td>\n",
       "      <td>MSM1</td>\n",
       "      <td>30357450001</td>\n",
       "      <td>3081</td>\n",
       "      <td>1</td>\n",
       "      <td>1</td>\n",
       "      <td>...</td>\n",
       "      <td>22</td>\n",
       "      <td>5</td>\n",
       "      <td>0</td>\n",
       "      <td>g</td>\n",
       "      <td>410</td>\n",
       "      <td>NaN</td>\n",
       "      <td>NaN</td>\n",
       "      <td>153401</td>\n",
       "      <td>5</td>\n",
       "      <td></td>\n",
       "    </tr>\n",
       "  </tbody>\n",
       "</table>\n",
       "<p>5 rows × 47 columns</p>\n",
       "</div>"
      ],
      "text/plain": [
       "            Order date SUBSIDIARY_CD      GLOBAL_NO  CLASSIFY_CD  CUST_CD  \\\n",
       "0  2022-04-04 00:00:00           MJP  1000074430653     21034701       74   \n",
       "1  2022-04-26 00:00:00           MJP  5004180038393     23028764     4180   \n",
       "2  2022-04-19 00:00:00           MJP  1000074434232     21059031       74   \n",
       "3  2022-04-22 00:00:00           MJP  1000074434911      3731227       74   \n",
       "4  2022-04-22 00:00:00           MJP  1000074435036      3954111       74   \n",
       "\n",
       "  BRAND_CD     INNER_CD SUPPLIER_CD  Sales order line number  Stock class  \\\n",
       "0     HAK1  F7371210001        8107                        1            1   \n",
       "1     S3M1  K9045010089        8484                        1            1   \n",
       "2     THT1  F5109250104        8233                        1            1   \n",
       "3     MSM1  79014275005        3013                        1            1   \n",
       "4     MSM1  30357450001        3081                        1            1   \n",
       "\n",
       "   ... SO_DAY_OF_MONTH  SO_DAY_OF_WEEK IO_UNFIT_FLG  WEIGHT_UNIT  REASON_CD  \\\n",
       "0  ...               4               1            0            g        401   \n",
       "1  ...              26               2            0            g        455   \n",
       "2  ...              19               2            0            g        451   \n",
       "3  ...              22               5            0            g        410   \n",
       "4  ...              22               5            0            g        410   \n",
       "\n",
       "  SOUF_RCV_NO QTUF_RCV_NO  SO_TIME  SUPPLIER_CATEGORY_CD  PRODUCT_ASSORT  \n",
       "0      805169         NaN   120324                     5                  \n",
       "1         NaN         NaN   171618                     5                  \n",
       "2      864727         NaN   184619                     5                  \n",
       "3         NaN         NaN    93246                     5                  \n",
       "4         NaN         NaN   153401                     5                  \n",
       "\n",
       "[5 rows x 47 columns]"
      ]
     },
     "execution_count": 37,
     "metadata": {},
     "output_type": "execute_result"
    }
   ],
   "source": [
    "data_4_6 = pd.concat([data_delay_4_6, data_not_delay_4_6], axis=0)\n",
    "data_4_6.head(5)"
   ]
  },
  {
   "cell_type": "code",
   "execution_count": 38,
   "id": "1f693c40",
   "metadata": {},
   "outputs": [
    {
     "data": {
      "text/html": [
       "<div>\n",
       "<style scoped>\n",
       "    .dataframe tbody tr th:only-of-type {\n",
       "        vertical-align: middle;\n",
       "    }\n",
       "\n",
       "    .dataframe tbody tr th {\n",
       "        vertical-align: top;\n",
       "    }\n",
       "\n",
       "    .dataframe thead th {\n",
       "        text-align: right;\n",
       "    }\n",
       "</style>\n",
       "<table border=\"1\" class=\"dataframe\">\n",
       "  <thead>\n",
       "    <tr style=\"text-align: right;\">\n",
       "      <th></th>\n",
       "      <th>Order date</th>\n",
       "      <th>SUBSIDIARY_CD</th>\n",
       "      <th>GLOBAL_NO</th>\n",
       "      <th>CLASSIFY_CD</th>\n",
       "      <th>CUST_CD</th>\n",
       "      <th>BRAND_CD</th>\n",
       "      <th>INNER_CD</th>\n",
       "      <th>SUPPLIER_CD</th>\n",
       "      <th>Sales order line number</th>\n",
       "      <th>Stock class</th>\n",
       "      <th>...</th>\n",
       "      <th>PACK QTY</th>\n",
       "      <th>WEIGHT PER PIECE</th>\n",
       "      <th>SUPPLIER_DIV</th>\n",
       "      <th>SPECIAL_DIV</th>\n",
       "      <th>SO_DAY_OF_MONTH</th>\n",
       "      <th>SO_DAY_OF_WEEK</th>\n",
       "      <th>REASON_CD</th>\n",
       "      <th>SOUF_RCV_NO</th>\n",
       "      <th>QTUF_RCV_NO</th>\n",
       "      <th>SO_TIME</th>\n",
       "    </tr>\n",
       "  </thead>\n",
       "  <tbody>\n",
       "    <tr>\n",
       "      <th>0</th>\n",
       "      <td>2022-08-25</td>\n",
       "      <td>MJP</td>\n",
       "      <td>08344472000137</td>\n",
       "      <td>21031103</td>\n",
       "      <td>344472</td>\n",
       "      <td>OSA1</td>\n",
       "      <td>F7171260007</td>\n",
       "      <td>8121</td>\n",
       "      <td>8</td>\n",
       "      <td>1</td>\n",
       "      <td>...</td>\n",
       "      <td>0</td>\n",
       "      <td>1020</td>\n",
       "      <td>2.0</td>\n",
       "      <td>0</td>\n",
       "      <td>25</td>\n",
       "      <td>4</td>\n",
       "      <td>453.0</td>\n",
       "      <td>NaN</td>\n",
       "      <td>NaN</td>\n",
       "      <td>135557</td>\n",
       "    </tr>\n",
       "    <tr>\n",
       "      <th>1</th>\n",
       "      <td>2022-08-12</td>\n",
       "      <td>MJP</td>\n",
       "      <td>06000641365551</td>\n",
       "      <td>3712333</td>\n",
       "      <td>641</td>\n",
       "      <td>MSM1</td>\n",
       "      <td>30071630003</td>\n",
       "      <td>0263</td>\n",
       "      <td>1</td>\n",
       "      <td>1</td>\n",
       "      <td>...</td>\n",
       "      <td>0</td>\n",
       "      <td>120</td>\n",
       "      <td>1.0</td>\n",
       "      <td>0</td>\n",
       "      <td>12</td>\n",
       "      <td>5</td>\n",
       "      <td>451.0</td>\n",
       "      <td>NaN</td>\n",
       "      <td>NaN</td>\n",
       "      <td>134532</td>\n",
       "    </tr>\n",
       "    <tr>\n",
       "      <th>2</th>\n",
       "      <td>2022-07-08</td>\n",
       "      <td>MJP</td>\n",
       "      <td>07032167936864</td>\n",
       "      <td>21045918</td>\n",
       "      <td>32167</td>\n",
       "      <td>SMC1</td>\n",
       "      <td>F7499483132</td>\n",
       "      <td>9102</td>\n",
       "      <td>1</td>\n",
       "      <td>1</td>\n",
       "      <td>...</td>\n",
       "      <td>0</td>\n",
       "      <td>18000</td>\n",
       "      <td>3.0</td>\n",
       "      <td>0</td>\n",
       "      <td>8</td>\n",
       "      <td>5</td>\n",
       "      <td>410.0</td>\n",
       "      <td>NaN</td>\n",
       "      <td>NaN</td>\n",
       "      <td>160936</td>\n",
       "    </tr>\n",
       "    <tr>\n",
       "      <th>3</th>\n",
       "      <td>2022-07-08</td>\n",
       "      <td>MJP</td>\n",
       "      <td>01710046000973</td>\n",
       "      <td>21058302</td>\n",
       "      <td>710046</td>\n",
       "      <td>MIB1</td>\n",
       "      <td>F4524160001</td>\n",
       "      <td>9163</td>\n",
       "      <td>1</td>\n",
       "      <td>1</td>\n",
       "      <td>...</td>\n",
       "      <td>0</td>\n",
       "      <td>500</td>\n",
       "      <td>2.0</td>\n",
       "      <td>0</td>\n",
       "      <td>8</td>\n",
       "      <td>5</td>\n",
       "      <td>453.0</td>\n",
       "      <td>NaN</td>\n",
       "      <td>NaN</td>\n",
       "      <td>160702</td>\n",
       "    </tr>\n",
       "    <tr>\n",
       "      <th>4</th>\n",
       "      <td>2022-08-25</td>\n",
       "      <td>MJP</td>\n",
       "      <td>07107539916817</td>\n",
       "      <td>21050569</td>\n",
       "      <td>107539</td>\n",
       "      <td>NIQ1</td>\n",
       "      <td>F3017310155</td>\n",
       "      <td>9176</td>\n",
       "      <td>6</td>\n",
       "      <td>1</td>\n",
       "      <td>...</td>\n",
       "      <td>0</td>\n",
       "      <td>36</td>\n",
       "      <td>2.0</td>\n",
       "      <td>0</td>\n",
       "      <td>25</td>\n",
       "      <td>4</td>\n",
       "      <td>455.0</td>\n",
       "      <td>NaN</td>\n",
       "      <td>NaN</td>\n",
       "      <td>160244</td>\n",
       "    </tr>\n",
       "  </tbody>\n",
       "</table>\n",
       "<p>5 rows × 37 columns</p>\n",
       "</div>"
      ],
      "text/plain": [
       "   Order date SUBSIDIARY_CD       GLOBAL_NO  CLASSIFY_CD  CUST_CD BRAND_CD  \\\n",
       "0  2022-08-25           MJP  08344472000137     21031103   344472     OSA1   \n",
       "1  2022-08-12           MJP  06000641365551      3712333      641     MSM1   \n",
       "2  2022-07-08           MJP  07032167936864     21045918    32167     SMC1   \n",
       "3  2022-07-08           MJP  01710046000973     21058302   710046     MIB1   \n",
       "4  2022-08-25           MJP  07107539916817     21050569   107539     NIQ1   \n",
       "\n",
       "      INNER_CD SUPPLIER_CD  Sales order line number  Stock class  ...  \\\n",
       "0  F7171260007        8121                        8            1  ...   \n",
       "1  30071630003        0263                        1            1  ...   \n",
       "2  F7499483132        9102                        1            1  ...   \n",
       "3  F4524160001        9163                        1            1  ...   \n",
       "4  F3017310155        9176                        6            1  ...   \n",
       "\n",
       "   PACK QTY  WEIGHT PER PIECE  SUPPLIER_DIV  SPECIAL_DIV  SO_DAY_OF_MONTH  \\\n",
       "0         0              1020           2.0            0               25   \n",
       "1         0               120           1.0            0               12   \n",
       "2         0             18000           3.0            0                8   \n",
       "3         0               500           2.0            0                8   \n",
       "4         0                36           2.0            0               25   \n",
       "\n",
       "  SO_DAY_OF_WEEK REASON_CD  SOUF_RCV_NO  QTUF_RCV_NO  SO_TIME  \n",
       "0              4     453.0          NaN          NaN   135557  \n",
       "1              5     451.0          NaN          NaN   134532  \n",
       "2              5     410.0          NaN          NaN   160936  \n",
       "3              5     453.0          NaN          NaN   160702  \n",
       "4              4     455.0          NaN          NaN   160244  \n",
       "\n",
       "[5 rows x 37 columns]"
      ]
     },
     "execution_count": 38,
     "metadata": {},
     "output_type": "execute_result"
    }
   ],
   "source": [
    "data_7_9 = pd.concat([data_delay_7_9, data_not_delay_7_9], axis=0)\n",
    "data_7_9.head(5)"
   ]
  },
  {
   "cell_type": "code",
   "execution_count": 43,
   "id": "e0c8b53d",
   "metadata": {},
   "outputs": [
    {
     "name": "stdout",
     "output_type": "stream",
     "text": [
      "<class 'pandas.core.frame.DataFrame'>\n",
      "Index: 399053 entries, 0 to 389319\n",
      "Data columns (total 47 columns):\n",
      " #   Column                           Non-Null Count   Dtype  \n",
      "---  ------                           --------------   -----  \n",
      " 0   Order date                       399053 non-null  object \n",
      " 1   SUBSIDIARY_CD                    399053 non-null  object \n",
      " 2   GLOBAL_NO                        399053 non-null  int64  \n",
      " 3   CLASSIFY_CD                      399053 non-null  int64  \n",
      " 4   CUST_CD                          399053 non-null  int64  \n",
      " 5   BRAND_CD                         399053 non-null  object \n",
      " 6   INNER_CD                         399053 non-null  object \n",
      " 7   SUPPLIER_CD                      399053 non-null  object \n",
      " 8   Sales order line number          399053 non-null  int64  \n",
      " 9   Stock class                      399053 non-null  int64  \n",
      " 10  Consider count hodiday Saturday  399053 non-null  object \n",
      " 11  SO QTY                           399053 non-null  int64  \n",
      " 12  OTHER AREA SHIP DIV              399053 non-null  object \n",
      " 13  ALLOCATION QTY                   399053 non-null  int64  \n",
      " 14  SUPPLIER INV AMOUNT              399053 non-null  float64\n",
      " 15  PACKING RANK                     399053 non-null  object \n",
      " 16  PRODUCT_CD                       399053 non-null  object \n",
      " 17  PRODUCT ATTRIBUTION              399053 non-null  int64  \n",
      " 18  SPECIAL DIV                      399053 non-null  int64  \n",
      " 19  LOGICAL PLANT                    399053 non-null  int64  \n",
      " 20  PURCHASE AMOUNT                  399053 non-null  float64\n",
      " 21  VSD                              399053 non-null  object \n",
      " 22  DIRECT SHIP FLG                  399053 non-null  int64  \n",
      " 23  DELI_DIV                         399053 non-null  object \n",
      " 24  label                            399053 non-null  int64  \n",
      " 25  Ship Mode                        392465 non-null  object \n",
      " 26  SHIP DECISION NO                 365736 non-null  float64\n",
      " 27  PACK QTY                         399053 non-null  int64  \n",
      " 28  WEIGHT PER PIECE                 399053 non-null  int64  \n",
      " 29  SUPPLIER_DIV                     399049 non-null  float64\n",
      " 30  HEAVY_FLG                        399053 non-null  int64  \n",
      " 31  EXPENSIVE_FLG                    399053 non-null  int64  \n",
      " 32  SPECIAL_DIV                      399053 non-null  int64  \n",
      " 33  ACTUAL_SHIP_DAYS                 399053 non-null  int64  \n",
      " 34  SPECIFY_PRODUCTION_DAYS          399053 non-null  int64  \n",
      " 35  SPECIFY_SHIP_DAYS                399053 non-null  int64  \n",
      " 36  HAZARD_FLG                       399053 non-null  int64  \n",
      " 37  SO_DAY_OF_MONTH                  399053 non-null  int64  \n",
      " 38  SO_DAY_OF_WEEK                   399053 non-null  int64  \n",
      " 39  IO_UNFIT_FLG                     399053 non-null  int64  \n",
      " 40  WEIGHT_UNIT                      397176 non-null  object \n",
      " 41  REASON_CD                        399053 non-null  object \n",
      " 42  SOUF_RCV_NO                      14842 non-null   object \n",
      " 43  QTUF_RCV_NO                      593 non-null     float64\n",
      " 44  SO_TIME                          399053 non-null  int64  \n",
      " 45  SUPPLIER_CATEGORY_CD             399053 non-null  int64  \n",
      " 46  PRODUCT_ASSORT                   399053 non-null  object \n",
      "dtypes: float64(5), int64(26), object(16)\n",
      "memory usage: 146.1+ MB\n"
     ]
    }
   ],
   "source": [
    "data_4_6.info()"
   ]
  },
  {
   "cell_type": "code",
   "execution_count": 44,
   "id": "70297478",
   "metadata": {},
   "outputs": [
    {
     "name": "stdout",
     "output_type": "stream",
     "text": [
      "<class 'pandas.core.frame.DataFrame'>\n",
      "Index: 1074897 entries, 0 to 1048679\n",
      "Data columns (total 37 columns):\n",
      " #   Column                           Non-Null Count    Dtype  \n",
      "---  ------                           --------------    -----  \n",
      " 0   Order date                       1074897 non-null  object \n",
      " 1   SUBSIDIARY_CD                    1074897 non-null  object \n",
      " 2   GLOBAL_NO                        1074897 non-null  object \n",
      " 3   CLASSIFY_CD                      1074897 non-null  int64  \n",
      " 4   CUST_CD                          1074897 non-null  int64  \n",
      " 5   BRAND_CD                         1074897 non-null  object \n",
      " 6   INNER_CD                         1074897 non-null  object \n",
      " 7   SUPPLIER_CD                      1074897 non-null  object \n",
      " 8   Sales order line number          1074897 non-null  int64  \n",
      " 9   Stock class                      1074897 non-null  int64  \n",
      " 10  Consider count hodiday Saturday  1074897 non-null  int64  \n",
      " 11  SO QTY                           1074897 non-null  int64  \n",
      " 12  OTHER AREA SHIP DIV              162643 non-null   float64\n",
      " 13  ALLOCATION QTY                   1074897 non-null  int64  \n",
      " 14  SUPPLIER INV AMOUNT              1074897 non-null  float64\n",
      " 15  PACKING RANK                     1074897 non-null  object \n",
      " 16  PRODUCT_CD                       1074897 non-null  object \n",
      " 17  PRODUCT ATTRIBUTION              1074897 non-null  int64  \n",
      " 18  SPECIAL DIV                      1074897 non-null  int64  \n",
      " 19  LOGICAL PLANT                    1074897 non-null  int64  \n",
      " 20  PURCHASE AMOUNT                  1074897 non-null  float64\n",
      " 21  VSD                              1074897 non-null  object \n",
      " 22  DIRECT SHIP FLG                  1074897 non-null  int64  \n",
      " 23  DELI_DIV                         1074897 non-null  object \n",
      " 24  label                            1074897 non-null  int64  \n",
      " 25  Ship Mode                        1060405 non-null  object \n",
      " 26  SHIP DECISION NO                 1003483 non-null  float64\n",
      " 27  PACK QTY                         1074897 non-null  int64  \n",
      " 28  WEIGHT PER PIECE                 1074897 non-null  int64  \n",
      " 29  SUPPLIER_DIV                     1074889 non-null  float64\n",
      " 30  SPECIAL_DIV                      1074897 non-null  int64  \n",
      " 31  SO_DAY_OF_MONTH                  1074897 non-null  int64  \n",
      " 32  SO_DAY_OF_WEEK                   1074897 non-null  int64  \n",
      " 33  REASON_CD                        41883 non-null    float64\n",
      " 34  SOUF_RCV_NO                      36491 non-null    object \n",
      " 35  QTUF_RCV_NO                      1345 non-null     float64\n",
      " 36  SO_TIME                          1074897 non-null  int64  \n",
      "dtypes: float64(7), int64(18), object(12)\n",
      "memory usage: 311.6+ MB\n"
     ]
    }
   ],
   "source": [
    "data_7_9.info()"
   ]
  },
  {
   "cell_type": "markdown",
   "id": "9a7026cb",
   "metadata": {},
   "source": [
    "### Columns"
   ]
  },
  {
   "cell_type": "code",
   "execution_count": 41,
   "id": "eb477867",
   "metadata": {},
   "outputs": [
    {
     "data": {
      "text/plain": [
       "47"
      ]
     },
     "execution_count": 41,
     "metadata": {},
     "output_type": "execute_result"
    }
   ],
   "source": [
    "len(data_4_6.columns)"
   ]
  },
  {
   "cell_type": "code",
   "execution_count": 42,
   "id": "543768f9",
   "metadata": {},
   "outputs": [
    {
     "data": {
      "text/plain": [
       "37"
      ]
     },
     "execution_count": 42,
     "metadata": {},
     "output_type": "execute_result"
    }
   ],
   "source": [
    "len(data_7_9.columns)"
   ]
  },
  {
   "cell_type": "markdown",
   "id": "a66bc315",
   "metadata": {},
   "source": [
    "$\\rightarrow$ There are obvious differences in the number of features between the two datasets. The number of features in the data from July to September is less than that in the data from April to June. Here are the columns that appear in the latter dataset but not in the former one:"
   ]
  },
  {
   "cell_type": "code",
   "execution_count": null,
   "id": "aba50a5a",
   "metadata": {},
   "outputs": [
    {
     "data": {
      "text/plain": [
       "Index(['ACTUAL_SHIP_DAYS', 'EXPENSIVE_FLG', 'HAZARD_FLG', 'HEAVY_FLG',\n",
       "       'IO_UNFIT_FLG', 'PRODUCT_ASSORT', 'SPECIFY_PRODUCTION_DAYS',\n",
       "       'SPECIFY_SHIP_DAYS', 'SUPPLIER_CATEGORY_CD', 'WEIGHT_UNIT'],\n",
       "      dtype='object')"
      ]
     },
     "execution_count": 40,
     "metadata": {},
     "output_type": "execute_result"
    }
   ],
   "source": [
    "data_4_6.columns.difference(data_7_9.columns)"
   ]
  },
  {
   "cell_type": "markdown",
   "id": "878e3423",
   "metadata": {},
   "source": [
    "### Imbalanced data"
   ]
  },
  {
   "cell_type": "code",
   "execution_count": 82,
   "id": "5f383ffb",
   "metadata": {},
   "outputs": [
    {
     "data": {
      "image/png": "[encoded data removed]",
      "text/plain": [
       "<Figure size 1000x600 with 1 Axes>"
      ]
     },
     "metadata": {},
     "output_type": "display_data"
    }
   ],
   "source": [
    "plt.figure(figsize=(10, 6))\n",
    "counts = data_4_6['label'].value_counts()\n",
    "percentages = (counts / counts.sum() * 100).round(2)\n",
    "total = counts.sum()\n",
    "\n",
    "ax = data_4_6['label'].value_counts().plot( kind='bar', color=['r', 'y'])\n",
    "\n",
    "for i, (count, pct) in enumerate(zip(counts, percentages)):\n",
    "    ax.text(i, count + total * 0.01, f'{pct}%', ha='center', fontsize=12)\n",
    "plt.title('4-6')\n",
    "plt.xlabel('Label')\n",
    "plt.ylabel('Frequency')\n",
    "plt.xticks(rotation=0)\n",
    "plt.grid(axis='y', linestyle='--')"
   ]
  },
  {
   "cell_type": "code",
   "execution_count": 83,
   "id": "ae89e1d4",
   "metadata": {},
   "outputs": [
    {
     "data": {
      "image/png": "[encoded data removed]",
      "text/plain": [
       "<Figure size 1000x600 with 1 Axes>"
      ]
     },
     "metadata": {},
     "output_type": "display_data"
    }
   ],
   "source": [
    "plt.figure(figsize=(10, 6))\n",
    "\n",
    "counts = data_7_9['label'].value_counts()\n",
    "percentages = (counts / counts.sum() * 100).round(2)\n",
    "total = counts.sum()\n",
    "\n",
    "ax = data_7_9['label'].value_counts().plot( kind='bar', color=['b', 'g'])\n",
    "\n",
    "for i, (count, pct) in enumerate(zip(counts, percentages)):\n",
    "    ax.text(i, count + total * 0.01, f'{pct}%', ha='center', fontsize=12)\n",
    "    \n",
    "plt.title('7-9')\n",
    "plt.xlabel('Label')\n",
    "plt.ylabel('Frequency')\n",
    "plt.xticks(rotation=0)\n",
    "plt.grid(axis='y', linestyle='--')"
   ]
  },
  {
   "cell_type": "code",
   "execution_count": null,
   "id": "41bb8026",
   "metadata": {},
   "outputs": [],
   "source": []
  }
 ],
 "metadata": {
  "kernelspec": {
   "display_name": "machinelearning",
   "language": "python",
   "name": "python3"
  },
  "language_info": {
   "codemirror_mode": {
    "name": "ipython",
    "version": 3
   },
   "file_extension": ".py",
   "mimetype": "text/x-python",
   "name": "python",
   "nbconvert_exporter": "python",
   "pygments_lexer": "ipython3",
   "version": "3.12.7"
  }
 },
 "nbformat": 4,
 "nbformat_minor": 5
}
