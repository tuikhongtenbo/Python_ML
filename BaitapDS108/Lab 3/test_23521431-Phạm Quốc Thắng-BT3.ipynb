import pandas as pd
import os

# Lab 3/test_23521431-Phạm Quốc Thắng-BT3.ipynb


# Mock data for testing
X_train = pd.DataFrame({'A': [1, 2], 'B': [3, 4]})
X_test = pd.DataFrame({'A': [5, 6], 'B': [7, 8]})

# Code to test
X = pd.concat([X_train, X_test], axis=0)

# Test cases
def test_merge():
    assert len(X) == len(X_train) + len(X_test), "Merged DataFrame does not have the correct number of rows"
    assert list(X.columns) == list(X_train.columns), "Merged DataFrame does not have the correct columns"
    print("Merge test passed.")

def test_to_csv():
    csv_path = "merged_data.csv"
    X.to_csv(csv_path, index=False)
    assert os.path.exists(csv_path), "CSV file was not created"
    df_from_csv = pd.read_csv(csv_path)
    assert df_from_csv.equals(X), "Data in the CSV file does not match the DataFrame"
    os.remove(csv_path)  # Clean up
    print("CSV conversion test passed.")

# Run tests
test_merge()
test_to_csv()import pandas as pd

# test_23521431-Phạm Quốc Thắng-BT3.ipynb


# Mock data for testing
X_train = pd.DataFrame({'A': [1, 2], 'B': [3, 4]})
X_test = pd.DataFrame({'A': [5, 6], 'B': [7, 8]})

# Code to test
X = pd.concat([X_train, X_test], axis=0)

# Test cases
def test_merge():
    assert len(X) == len(X_train) + len(X_test), "Merged DataFrame does not have the correct number of rows"
    assert list(X.columns) == list(X_train.columns), "Merged DataFrame does not have the correct columns"
    print("All tests passed.")

# Run the test
test_merge()